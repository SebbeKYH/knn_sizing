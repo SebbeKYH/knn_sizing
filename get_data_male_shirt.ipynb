{
 "cells": [
  {
   "cell_type": "code",
   "execution_count": 4,
   "metadata": {
    "collapsed": true
   },
   "outputs": [],
   "source": [
    "import pandas as pd"
   ]
  },
  {
   "cell_type": "code",
   "execution_count": 16,
   "outputs": [],
   "source": [
    "df_male = pd.read_csv('male.csv')"
   ],
   "metadata": {
    "collapsed": false,
    "pycharm": {
     "name": "#%%\n"
    }
   }
  },
  {
   "cell_type": "code",
   "execution_count": 17,
   "outputs": [
    {
     "data": {
      "text/plain": "   subjectid  abdominalextensiondepthsitting  acromialheight  \\\n0      10027                             266            1467   \n1      10032                             233            1395   \n2      10033                             287            1430   \n3      10092                             234            1347   \n4      10093                             250            1585   \n\n   acromionradialelength  anklecircumference  axillaheight  \\\n0                    337                 222          1347   \n1                    326                 220          1293   \n2                    341                 230          1327   \n3                    310                 230          1239   \n4                    372                 247          1478   \n\n   balloffootcircumference  balloffootlength  biacromialbreadth  \\\n0                      253               202                401   \n1                      245               193                394   \n2                      256               196                427   \n3                      262               199                401   \n4                      267               224                435   \n\n   bicepscircumferenceflexed  ...                  Branch  PrimaryMOS  \\\n0                        369  ...             Combat Arms         19D   \n1                        338  ...          Combat Support         68W   \n2                        408  ...          Combat Support         68W   \n3                        359  ...  Combat Service Support         88M   \n4                        356  ...  Combat Service Support         92G   \n\n   SubjectsBirthLocation  SubjectNumericRace  Ethnicity  DODRace  Age  \\\n0           North Dakota                   1        NaN        1   41   \n1               New York                   1        NaN        1   35   \n2               New York                   2        NaN        2   42   \n3              Wisconsin                   1        NaN        1   31   \n4         North Carolina                   2        NaN        2   21   \n\n   Heightin  Weightlbs  WritingPreference  \n0        71        180         Right hand  \n1        68        160          Left hand  \n2        68        205          Left hand  \n3        66        175         Right hand  \n4        77        213         Right hand  \n\n[5 rows x 108 columns]",
      "text/html": "<div>\n<style scoped>\n    .dataframe tbody tr th:only-of-type {\n        vertical-align: middle;\n    }\n\n    .dataframe tbody tr th {\n        vertical-align: top;\n    }\n\n    .dataframe thead th {\n        text-align: right;\n    }\n</style>\n<table border=\"1\" class=\"dataframe\">\n  <thead>\n    <tr style=\"text-align: right;\">\n      <th></th>\n      <th>subjectid</th>\n      <th>abdominalextensiondepthsitting</th>\n      <th>acromialheight</th>\n      <th>acromionradialelength</th>\n      <th>anklecircumference</th>\n      <th>axillaheight</th>\n      <th>balloffootcircumference</th>\n      <th>balloffootlength</th>\n      <th>biacromialbreadth</th>\n      <th>bicepscircumferenceflexed</th>\n      <th>...</th>\n      <th>Branch</th>\n      <th>PrimaryMOS</th>\n      <th>SubjectsBirthLocation</th>\n      <th>SubjectNumericRace</th>\n      <th>Ethnicity</th>\n      <th>DODRace</th>\n      <th>Age</th>\n      <th>Heightin</th>\n      <th>Weightlbs</th>\n      <th>WritingPreference</th>\n    </tr>\n  </thead>\n  <tbody>\n    <tr>\n      <th>0</th>\n      <td>10027</td>\n      <td>266</td>\n      <td>1467</td>\n      <td>337</td>\n      <td>222</td>\n      <td>1347</td>\n      <td>253</td>\n      <td>202</td>\n      <td>401</td>\n      <td>369</td>\n      <td>...</td>\n      <td>Combat Arms</td>\n      <td>19D</td>\n      <td>North Dakota</td>\n      <td>1</td>\n      <td>NaN</td>\n      <td>1</td>\n      <td>41</td>\n      <td>71</td>\n      <td>180</td>\n      <td>Right hand</td>\n    </tr>\n    <tr>\n      <th>1</th>\n      <td>10032</td>\n      <td>233</td>\n      <td>1395</td>\n      <td>326</td>\n      <td>220</td>\n      <td>1293</td>\n      <td>245</td>\n      <td>193</td>\n      <td>394</td>\n      <td>338</td>\n      <td>...</td>\n      <td>Combat Support</td>\n      <td>68W</td>\n      <td>New York</td>\n      <td>1</td>\n      <td>NaN</td>\n      <td>1</td>\n      <td>35</td>\n      <td>68</td>\n      <td>160</td>\n      <td>Left hand</td>\n    </tr>\n    <tr>\n      <th>2</th>\n      <td>10033</td>\n      <td>287</td>\n      <td>1430</td>\n      <td>341</td>\n      <td>230</td>\n      <td>1327</td>\n      <td>256</td>\n      <td>196</td>\n      <td>427</td>\n      <td>408</td>\n      <td>...</td>\n      <td>Combat Support</td>\n      <td>68W</td>\n      <td>New York</td>\n      <td>2</td>\n      <td>NaN</td>\n      <td>2</td>\n      <td>42</td>\n      <td>68</td>\n      <td>205</td>\n      <td>Left hand</td>\n    </tr>\n    <tr>\n      <th>3</th>\n      <td>10092</td>\n      <td>234</td>\n      <td>1347</td>\n      <td>310</td>\n      <td>230</td>\n      <td>1239</td>\n      <td>262</td>\n      <td>199</td>\n      <td>401</td>\n      <td>359</td>\n      <td>...</td>\n      <td>Combat Service Support</td>\n      <td>88M</td>\n      <td>Wisconsin</td>\n      <td>1</td>\n      <td>NaN</td>\n      <td>1</td>\n      <td>31</td>\n      <td>66</td>\n      <td>175</td>\n      <td>Right hand</td>\n    </tr>\n    <tr>\n      <th>4</th>\n      <td>10093</td>\n      <td>250</td>\n      <td>1585</td>\n      <td>372</td>\n      <td>247</td>\n      <td>1478</td>\n      <td>267</td>\n      <td>224</td>\n      <td>435</td>\n      <td>356</td>\n      <td>...</td>\n      <td>Combat Service Support</td>\n      <td>92G</td>\n      <td>North Carolina</td>\n      <td>2</td>\n      <td>NaN</td>\n      <td>2</td>\n      <td>21</td>\n      <td>77</td>\n      <td>213</td>\n      <td>Right hand</td>\n    </tr>\n  </tbody>\n</table>\n<p>5 rows × 108 columns</p>\n</div>"
     },
     "execution_count": 17,
     "metadata": {},
     "output_type": "execute_result"
    }
   ],
   "source": [
    "df_male.head()"
   ],
   "metadata": {
    "collapsed": false,
    "pycharm": {
     "name": "#%%\n"
    }
   }
  },
  {
   "cell_type": "code",
   "execution_count": 20,
   "outputs": [],
   "source": [
    "df_male = pd.read_csv('male.csv', usecols=['chestcircumference', 'waistcircumference', 'Heightin'])"
   ],
   "metadata": {
    "collapsed": false,
    "pycharm": {
     "name": "#%%\n"
    }
   }
  },
  {
   "cell_type": "code",
   "execution_count": 21,
   "outputs": [
    {
     "data": {
      "text/plain": "   chestcircumference  waistcircumference  Heightin\n0                1074                 933        71\n1                1021                 870        68\n2                1120                 964        68\n3                1114                 857        66\n4                1048                 868        77",
      "text/html": "<div>\n<style scoped>\n    .dataframe tbody tr th:only-of-type {\n        vertical-align: middle;\n    }\n\n    .dataframe tbody tr th {\n        vertical-align: top;\n    }\n\n    .dataframe thead th {\n        text-align: right;\n    }\n</style>\n<table border=\"1\" class=\"dataframe\">\n  <thead>\n    <tr style=\"text-align: right;\">\n      <th></th>\n      <th>chestcircumference</th>\n      <th>waistcircumference</th>\n      <th>Heightin</th>\n    </tr>\n  </thead>\n  <tbody>\n    <tr>\n      <th>0</th>\n      <td>1074</td>\n      <td>933</td>\n      <td>71</td>\n    </tr>\n    <tr>\n      <th>1</th>\n      <td>1021</td>\n      <td>870</td>\n      <td>68</td>\n    </tr>\n    <tr>\n      <th>2</th>\n      <td>1120</td>\n      <td>964</td>\n      <td>68</td>\n    </tr>\n    <tr>\n      <th>3</th>\n      <td>1114</td>\n      <td>857</td>\n      <td>66</td>\n    </tr>\n    <tr>\n      <th>4</th>\n      <td>1048</td>\n      <td>868</td>\n      <td>77</td>\n    </tr>\n  </tbody>\n</table>\n</div>"
     },
     "execution_count": 21,
     "metadata": {},
     "output_type": "execute_result"
    }
   ],
   "source": [
    "df_male.head()"
   ],
   "metadata": {
    "collapsed": false,
    "pycharm": {
     "name": "#%%\n"
    }
   }
  },
  {
   "cell_type": "code",
   "execution_count": 22,
   "outputs": [
    {
     "data": {
      "text/plain": "    chestcircumference  waistcircumference  Heightin\n0                 1074                 933        71\n1                 1021                 870        68\n2                 1120                 964        68\n3                 1114                 857        66\n4                 1048                 868        77\n..                 ...                 ...       ...\n95                 994                 809        72\n96                1001                 862        66\n97                1069                1027        67\n98                 995                 797        74\n99                1104                1082        71\n\n[100 rows x 3 columns]",
      "text/html": "<div>\n<style scoped>\n    .dataframe tbody tr th:only-of-type {\n        vertical-align: middle;\n    }\n\n    .dataframe tbody tr th {\n        vertical-align: top;\n    }\n\n    .dataframe thead th {\n        text-align: right;\n    }\n</style>\n<table border=\"1\" class=\"dataframe\">\n  <thead>\n    <tr style=\"text-align: right;\">\n      <th></th>\n      <th>chestcircumference</th>\n      <th>waistcircumference</th>\n      <th>Heightin</th>\n    </tr>\n  </thead>\n  <tbody>\n    <tr>\n      <th>0</th>\n      <td>1074</td>\n      <td>933</td>\n      <td>71</td>\n    </tr>\n    <tr>\n      <th>1</th>\n      <td>1021</td>\n      <td>870</td>\n      <td>68</td>\n    </tr>\n    <tr>\n      <th>2</th>\n      <td>1120</td>\n      <td>964</td>\n      <td>68</td>\n    </tr>\n    <tr>\n      <th>3</th>\n      <td>1114</td>\n      <td>857</td>\n      <td>66</td>\n    </tr>\n    <tr>\n      <th>4</th>\n      <td>1048</td>\n      <td>868</td>\n      <td>77</td>\n    </tr>\n    <tr>\n      <th>...</th>\n      <td>...</td>\n      <td>...</td>\n      <td>...</td>\n    </tr>\n    <tr>\n      <th>95</th>\n      <td>994</td>\n      <td>809</td>\n      <td>72</td>\n    </tr>\n    <tr>\n      <th>96</th>\n      <td>1001</td>\n      <td>862</td>\n      <td>66</td>\n    </tr>\n    <tr>\n      <th>97</th>\n      <td>1069</td>\n      <td>1027</td>\n      <td>67</td>\n    </tr>\n    <tr>\n      <th>98</th>\n      <td>995</td>\n      <td>797</td>\n      <td>74</td>\n    </tr>\n    <tr>\n      <th>99</th>\n      <td>1104</td>\n      <td>1082</td>\n      <td>71</td>\n    </tr>\n  </tbody>\n</table>\n<p>100 rows × 3 columns</p>\n</div>"
     },
     "execution_count": 22,
     "metadata": {},
     "output_type": "execute_result"
    }
   ],
   "source": [
    "df_male.head(100)"
   ],
   "metadata": {
    "collapsed": false,
    "pycharm": {
     "name": "#%%\n"
    }
   }
  },
  {
   "cell_type": "code",
   "execution_count": 23,
   "outputs": [],
   "source": [
    "df_male['Heightin'] = df_male['Heightin'].multiply(2.54)"
   ],
   "metadata": {
    "collapsed": false,
    "pycharm": {
     "name": "#%%\n"
    }
   }
  },
  {
   "cell_type": "code",
   "execution_count": 24,
   "outputs": [
    {
     "data": {
      "text/plain": "   chestcircumference  waistcircumference  Heightin\n0                1074                 933    180.34\n1                1021                 870    172.72\n2                1120                 964    172.72\n3                1114                 857    167.64\n4                1048                 868    195.58",
      "text/html": "<div>\n<style scoped>\n    .dataframe tbody tr th:only-of-type {\n        vertical-align: middle;\n    }\n\n    .dataframe tbody tr th {\n        vertical-align: top;\n    }\n\n    .dataframe thead th {\n        text-align: right;\n    }\n</style>\n<table border=\"1\" class=\"dataframe\">\n  <thead>\n    <tr style=\"text-align: right;\">\n      <th></th>\n      <th>chestcircumference</th>\n      <th>waistcircumference</th>\n      <th>Heightin</th>\n    </tr>\n  </thead>\n  <tbody>\n    <tr>\n      <th>0</th>\n      <td>1074</td>\n      <td>933</td>\n      <td>180.34</td>\n    </tr>\n    <tr>\n      <th>1</th>\n      <td>1021</td>\n      <td>870</td>\n      <td>172.72</td>\n    </tr>\n    <tr>\n      <th>2</th>\n      <td>1120</td>\n      <td>964</td>\n      <td>172.72</td>\n    </tr>\n    <tr>\n      <th>3</th>\n      <td>1114</td>\n      <td>857</td>\n      <td>167.64</td>\n    </tr>\n    <tr>\n      <th>4</th>\n      <td>1048</td>\n      <td>868</td>\n      <td>195.58</td>\n    </tr>\n  </tbody>\n</table>\n</div>"
     },
     "execution_count": 24,
     "metadata": {},
     "output_type": "execute_result"
    }
   ],
   "source": [
    "df_male.head()"
   ],
   "metadata": {
    "collapsed": false,
    "pycharm": {
     "name": "#%%\n"
    }
   }
  },
  {
   "cell_type": "code",
   "execution_count": 25,
   "outputs": [
    {
     "data": {
      "text/plain": "4082"
     },
     "execution_count": 25,
     "metadata": {},
     "output_type": "execute_result"
    }
   ],
   "source": [
    "len(df_male)"
   ],
   "metadata": {
    "collapsed": false,
    "pycharm": {
     "name": "#%%\n"
    }
   }
  },
  {
   "cell_type": "code",
   "execution_count": 29,
   "outputs": [],
   "source": [
    "df_male = df_male.rename(columns={'Heightin':'Heightcm'})"
   ],
   "metadata": {
    "collapsed": false,
    "pycharm": {
     "name": "#%%\n"
    }
   }
  },
  {
   "cell_type": "code",
   "execution_count": 30,
   "outputs": [
    {
     "data": {
      "text/plain": "   chestcircumference  waistcircumference  Heightcm\n0                1074                 933    180.34\n1                1021                 870    172.72\n2                1120                 964    172.72\n3                1114                 857    167.64\n4                1048                 868    195.58",
      "text/html": "<div>\n<style scoped>\n    .dataframe tbody tr th:only-of-type {\n        vertical-align: middle;\n    }\n\n    .dataframe tbody tr th {\n        vertical-align: top;\n    }\n\n    .dataframe thead th {\n        text-align: right;\n    }\n</style>\n<table border=\"1\" class=\"dataframe\">\n  <thead>\n    <tr style=\"text-align: right;\">\n      <th></th>\n      <th>chestcircumference</th>\n      <th>waistcircumference</th>\n      <th>Heightcm</th>\n    </tr>\n  </thead>\n  <tbody>\n    <tr>\n      <th>0</th>\n      <td>1074</td>\n      <td>933</td>\n      <td>180.34</td>\n    </tr>\n    <tr>\n      <th>1</th>\n      <td>1021</td>\n      <td>870</td>\n      <td>172.72</td>\n    </tr>\n    <tr>\n      <th>2</th>\n      <td>1120</td>\n      <td>964</td>\n      <td>172.72</td>\n    </tr>\n    <tr>\n      <th>3</th>\n      <td>1114</td>\n      <td>857</td>\n      <td>167.64</td>\n    </tr>\n    <tr>\n      <th>4</th>\n      <td>1048</td>\n      <td>868</td>\n      <td>195.58</td>\n    </tr>\n  </tbody>\n</table>\n</div>"
     },
     "execution_count": 30,
     "metadata": {},
     "output_type": "execute_result"
    }
   ],
   "source": [
    "df_male.head()"
   ],
   "metadata": {
    "collapsed": false,
    "pycharm": {
     "name": "#%%\n"
    }
   }
  },
  {
   "cell_type": "code",
   "execution_count": 31,
   "outputs": [
    {
     "data": {
      "text/plain": "   chestcircumference  waistcircumference  Heightcm\n0                1074                 933    180.34\n1                1021                 870    172.72\n2                1120                 964    172.72\n3                1114                 857    167.64\n4                1048                 868    195.58",
      "text/html": "<div>\n<style scoped>\n    .dataframe tbody tr th:only-of-type {\n        vertical-align: middle;\n    }\n\n    .dataframe tbody tr th {\n        vertical-align: top;\n    }\n\n    .dataframe thead th {\n        text-align: right;\n    }\n</style>\n<table border=\"1\" class=\"dataframe\">\n  <thead>\n    <tr style=\"text-align: right;\">\n      <th></th>\n      <th>chestcircumference</th>\n      <th>waistcircumference</th>\n      <th>Heightcm</th>\n    </tr>\n  </thead>\n  <tbody>\n    <tr>\n      <th>0</th>\n      <td>1074</td>\n      <td>933</td>\n      <td>180.34</td>\n    </tr>\n    <tr>\n      <th>1</th>\n      <td>1021</td>\n      <td>870</td>\n      <td>172.72</td>\n    </tr>\n    <tr>\n      <th>2</th>\n      <td>1120</td>\n      <td>964</td>\n      <td>172.72</td>\n    </tr>\n    <tr>\n      <th>3</th>\n      <td>1114</td>\n      <td>857</td>\n      <td>167.64</td>\n    </tr>\n    <tr>\n      <th>4</th>\n      <td>1048</td>\n      <td>868</td>\n      <td>195.58</td>\n    </tr>\n  </tbody>\n</table>\n</div>"
     },
     "execution_count": 31,
     "metadata": {},
     "output_type": "execute_result"
    }
   ],
   "source": [
    "df_male.head()"
   ],
   "metadata": {
    "collapsed": false,
    "pycharm": {
     "name": "#%%\n"
    }
   }
  },
  {
   "cell_type": "code",
   "execution_count": 36,
   "outputs": [],
   "source": [
    "df_male = df_male.rename(columns={'chestcircumference':'chest_circumference', 'waistcircumference':'waist_circumference', 'Heightcm': 'height_cm'})"
   ],
   "metadata": {
    "collapsed": false,
    "pycharm": {
     "name": "#%%\n"
    }
   }
  },
  {
   "cell_type": "code",
   "execution_count": 37,
   "outputs": [
    {
     "data": {
      "text/plain": "   chest_circumference  waist_circumference  height_cm\n0                 1074                  933     180.34\n1                 1021                  870     172.72\n2                 1120                  964     172.72\n3                 1114                  857     167.64\n4                 1048                  868     195.58",
      "text/html": "<div>\n<style scoped>\n    .dataframe tbody tr th:only-of-type {\n        vertical-align: middle;\n    }\n\n    .dataframe tbody tr th {\n        vertical-align: top;\n    }\n\n    .dataframe thead th {\n        text-align: right;\n    }\n</style>\n<table border=\"1\" class=\"dataframe\">\n  <thead>\n    <tr style=\"text-align: right;\">\n      <th></th>\n      <th>chest_circumference</th>\n      <th>waist_circumference</th>\n      <th>height_cm</th>\n    </tr>\n  </thead>\n  <tbody>\n    <tr>\n      <th>0</th>\n      <td>1074</td>\n      <td>933</td>\n      <td>180.34</td>\n    </tr>\n    <tr>\n      <th>1</th>\n      <td>1021</td>\n      <td>870</td>\n      <td>172.72</td>\n    </tr>\n    <tr>\n      <th>2</th>\n      <td>1120</td>\n      <td>964</td>\n      <td>172.72</td>\n    </tr>\n    <tr>\n      <th>3</th>\n      <td>1114</td>\n      <td>857</td>\n      <td>167.64</td>\n    </tr>\n    <tr>\n      <th>4</th>\n      <td>1048</td>\n      <td>868</td>\n      <td>195.58</td>\n    </tr>\n  </tbody>\n</table>\n</div>"
     },
     "execution_count": 37,
     "metadata": {},
     "output_type": "execute_result"
    }
   ],
   "source": [
    "df_male.head()"
   ],
   "metadata": {
    "collapsed": false,
    "pycharm": {
     "name": "#%%\n"
    }
   }
  },
  {
   "cell_type": "code",
   "execution_count": 38,
   "outputs": [
    {
     "data": {
      "text/plain": "1469"
     },
     "execution_count": 38,
     "metadata": {},
     "output_type": "execute_result"
    }
   ],
   "source": [
    "df_male.chest_circumference.max()"
   ],
   "metadata": {
    "collapsed": false,
    "pycharm": {
     "name": "#%%\n"
    }
   }
  },
  {
   "cell_type": "code",
   "execution_count": 39,
   "outputs": [
    {
     "data": {
      "text/plain": "774"
     },
     "execution_count": 39,
     "metadata": {},
     "output_type": "execute_result"
    }
   ],
   "source": [
    "df_male.chest_circumference.min()"
   ],
   "metadata": {
    "collapsed": false,
    "pycharm": {
     "name": "#%%\n"
    }
   }
  },
  {
   "cell_type": "code",
   "execution_count": 40,
   "outputs": [
    {
     "data": {
      "text/plain": "238.76"
     },
     "execution_count": 40,
     "metadata": {},
     "output_type": "execute_result"
    }
   ],
   "source": [
    "df_male.height_cm.max()"
   ],
   "metadata": {
    "collapsed": false,
    "pycharm": {
     "name": "#%%\n"
    }
   }
  },
  {
   "cell_type": "code",
   "execution_count": 41,
   "outputs": [
    {
     "data": {
      "text/plain": "152.4"
     },
     "execution_count": 41,
     "metadata": {},
     "output_type": "execute_result"
    }
   ],
   "source": [
    "df_male.height_cm.min()"
   ],
   "metadata": {
    "collapsed": false,
    "pycharm": {
     "name": "#%%\n"
    }
   }
  },
  {
   "cell_type": "code",
   "execution_count": 42,
   "outputs": [],
   "source": [
    "import matplotlib.pylab as plt"
   ],
   "metadata": {
    "collapsed": false,
    "pycharm": {
     "name": "#%%\n"
    }
   }
  },
  {
   "cell_type": "code",
   "execution_count": 43,
   "outputs": [
    {
     "data": {
      "text/plain": "      chest_circumference  waist_circumference  height_cm\n0                    1074                  933      180.0\n1                    1021                  870      173.0\n2                    1120                  964      173.0\n3                    1114                  857      168.0\n4                    1048                  868      196.0\n...                   ...                  ...        ...\n4077                  954                  816      170.0\n4078                 1072                  978      180.0\n4079                 1045                  991      170.0\n4080                  984                  783      175.0\n4081                 1144                 1080      185.0\n\n[4082 rows x 3 columns]",
      "text/html": "<div>\n<style scoped>\n    .dataframe tbody tr th:only-of-type {\n        vertical-align: middle;\n    }\n\n    .dataframe tbody tr th {\n        vertical-align: top;\n    }\n\n    .dataframe thead th {\n        text-align: right;\n    }\n</style>\n<table border=\"1\" class=\"dataframe\">\n  <thead>\n    <tr style=\"text-align: right;\">\n      <th></th>\n      <th>chest_circumference</th>\n      <th>waist_circumference</th>\n      <th>height_cm</th>\n    </tr>\n  </thead>\n  <tbody>\n    <tr>\n      <th>0</th>\n      <td>1074</td>\n      <td>933</td>\n      <td>180.0</td>\n    </tr>\n    <tr>\n      <th>1</th>\n      <td>1021</td>\n      <td>870</td>\n      <td>173.0</td>\n    </tr>\n    <tr>\n      <th>2</th>\n      <td>1120</td>\n      <td>964</td>\n      <td>173.0</td>\n    </tr>\n    <tr>\n      <th>3</th>\n      <td>1114</td>\n      <td>857</td>\n      <td>168.0</td>\n    </tr>\n    <tr>\n      <th>4</th>\n      <td>1048</td>\n      <td>868</td>\n      <td>196.0</td>\n    </tr>\n    <tr>\n      <th>...</th>\n      <td>...</td>\n      <td>...</td>\n      <td>...</td>\n    </tr>\n    <tr>\n      <th>4077</th>\n      <td>954</td>\n      <td>816</td>\n      <td>170.0</td>\n    </tr>\n    <tr>\n      <th>4078</th>\n      <td>1072</td>\n      <td>978</td>\n      <td>180.0</td>\n    </tr>\n    <tr>\n      <th>4079</th>\n      <td>1045</td>\n      <td>991</td>\n      <td>170.0</td>\n    </tr>\n    <tr>\n      <th>4080</th>\n      <td>984</td>\n      <td>783</td>\n      <td>175.0</td>\n    </tr>\n    <tr>\n      <th>4081</th>\n      <td>1144</td>\n      <td>1080</td>\n      <td>185.0</td>\n    </tr>\n  </tbody>\n</table>\n<p>4082 rows × 3 columns</p>\n</div>"
     },
     "execution_count": 43,
     "metadata": {},
     "output_type": "execute_result"
    }
   ],
   "source": [
    "df_male.round(decimals=0)"
   ],
   "metadata": {
    "collapsed": false,
    "pycharm": {
     "name": "#%%\n"
    }
   }
  },
  {
   "cell_type": "code",
   "execution_count": 46,
   "outputs": [
    {
     "data": {
      "text/plain": "<AxesSubplot:xlabel='height_cm'>"
     },
     "execution_count": 46,
     "metadata": {},
     "output_type": "execute_result"
    },
    {
     "data": {
      "text/plain": "<Figure size 432x288 with 1 Axes>",
      "image/png": "[encoded data removed]"
     },
     "metadata": {
      "needs_background": "light"
     },
     "output_type": "display_data"
    }
   ],
   "source": [
    "df_male.plot(x='height_cm',y='waist_circumference')"
   ],
   "metadata": {
    "collapsed": false,
    "pycharm": {
     "name": "#%%\n"
    }
   }
  },
  {
   "cell_type": "code",
   "execution_count": 47,
   "outputs": [],
   "source": [
    "df_male = pd.read_csv('male.csv')"
   ],
   "metadata": {
    "collapsed": false,
    "pycharm": {
     "name": "#%%\n"
    }
   }
  },
  {
   "cell_type": "code",
   "execution_count": 50,
   "outputs": [
    {
     "data": {
      "text/plain": "    subjectid  abdominalextensiondepthsitting  acromialheight  \\\n0       10027                             266            1467   \n1       10032                             233            1395   \n2       10033                             287            1430   \n3       10092                             234            1347   \n4       10093                             250            1585   \n..        ...                             ...             ...   \n95      10692                             209            1466   \n96      10694                             245            1349   \n97      10695                             295            1403   \n98      10696                             226            1429   \n99      10701                             300            1433   \n\n    acromionradialelength  anklecircumference  axillaheight  \\\n0                     337                 222          1347   \n1                     326                 220          1293   \n2                     341                 230          1327   \n3                     310                 230          1239   \n4                     372                 247          1478   \n..                    ...                 ...           ...   \n95                    339                 233          1367   \n96                    303                 223          1248   \n97                    327                 231          1291   \n98                    330                 220          1337   \n99                    327                 228          1318   \n\n    balloffootcircumference  balloffootlength  biacromialbreadth  \\\n0                       253               202                401   \n1                       245               193                394   \n2                       256               196                427   \n3                       262               199                401   \n4                       267               224                435   \n..                      ...               ...                ...   \n95                      257               193                428   \n96                      248               182                403   \n97                      242               196                367   \n98                      242               195                439   \n99                      245               197                421   \n\n    bicepscircumferenceflexed  ...                  Branch  PrimaryMOS  \\\n0                         369  ...             Combat Arms         19D   \n1                         338  ...          Combat Support         68W   \n2                         408  ...          Combat Support         68W   \n3                         359  ...  Combat Service Support         88M   \n4                         356  ...  Combat Service Support         92G   \n..                        ...  ...                     ...         ...   \n95                        362  ...             Combat Arms         19D   \n96                        331  ...             Combat Arms         19K   \n97                        348  ...             Combat Arms         19K   \n98                        320  ...             Combat Arms         19K   \n99                        386  ...             Combat Arms         19K   \n\n    SubjectsBirthLocation  SubjectNumericRace  Ethnicity  DODRace  Age  \\\n0            North Dakota                   1        NaN        1   41   \n1                New York                   1        NaN        1   35   \n2                New York                   2        NaN        2   42   \n3               Wisconsin                   1        NaN        1   31   \n4          North Carolina                   2        NaN        2   21   \n..                    ...                 ...        ...      ...  ...   \n95          Massachusetts                   1        NaN        1   21   \n96              Tennessee                   1        NaN        1   22   \n97               Arkansas                   1        NaN        1   26   \n98                 Alaska                   1        NaN        1   20   \n99                   Ohio                   1        NaN        1   27   \n\n    Heightin  Weightlbs  WritingPreference  \n0         71        180         Right hand  \n1         68        160          Left hand  \n2         68        205          Left hand  \n3         66        175         Right hand  \n4         77        213         Right hand  \n..       ...        ...                ...  \n95        72        170         Right hand  \n96        66        158         Right hand  \n97        67        174         Right hand  \n98        74        165         Right hand  \n99        71        215         Right hand  \n\n[100 rows x 108 columns]",
      "text/html": "<div>\n<style scoped>\n    .dataframe tbody tr th:only-of-type {\n        vertical-align: middle;\n    }\n\n    .dataframe tbody tr th {\n        vertical-align: top;\n    }\n\n    .dataframe thead th {\n        text-align: right;\n    }\n</style>\n<table border=\"1\" class=\"dataframe\">\n  <thead>\n    <tr style=\"text-align: right;\">\n      <th></th>\n      <th>subjectid</th>\n      <th>abdominalextensiondepthsitting</th>\n      <th>acromialheight</th>\n      <th>acromionradialelength</th>\n      <th>anklecircumference</th>\n      <th>axillaheight</th>\n      <th>balloffootcircumference</th>\n      <th>balloffootlength</th>\n      <th>biacromialbreadth</th>\n      <th>bicepscircumferenceflexed</th>\n      <th>...</th>\n      <th>Branch</th>\n      <th>PrimaryMOS</th>\n      <th>SubjectsBirthLocation</th>\n      <th>SubjectNumericRace</th>\n      <th>Ethnicity</th>\n      <th>DODRace</th>\n      <th>Age</th>\n      <th>Heightin</th>\n      <th>Weightlbs</th>\n      <th>WritingPreference</th>\n    </tr>\n  </thead>\n  <tbody>\n    <tr>\n      <th>0</th>\n      <td>10027</td>\n      <td>266</td>\n      <td>1467</td>\n      <td>337</td>\n      <td>222</td>\n      <td>1347</td>\n      <td>253</td>\n      <td>202</td>\n      <td>401</td>\n      <td>369</td>\n      <td>...</td>\n      <td>Combat Arms</td>\n      <td>19D</td>\n      <td>North Dakota</td>\n      <td>1</td>\n      <td>NaN</td>\n      <td>1</td>\n      <td>41</td>\n      <td>71</td>\n      <td>180</td>\n      <td>Right hand</td>\n    </tr>\n    <tr>\n      <th>1</th>\n      <td>10032</td>\n      <td>233</td>\n      <td>1395</td>\n      <td>326</td>\n      <td>220</td>\n      <td>1293</td>\n      <td>245</td>\n      <td>193</td>\n      <td>394</td>\n      <td>338</td>\n      <td>...</td>\n      <td>Combat Support</td>\n      <td>68W</td>\n      <td>New York</td>\n      <td>1</td>\n      <td>NaN</td>\n      <td>1</td>\n      <td>35</td>\n      <td>68</td>\n      <td>160</td>\n      <td>Left hand</td>\n    </tr>\n    <tr>\n      <th>2</th>\n      <td>10033</td>\n      <td>287</td>\n      <td>1430</td>\n      <td>341</td>\n      <td>230</td>\n      <td>1327</td>\n      <td>256</td>\n      <td>196</td>\n      <td>427</td>\n      <td>408</td>\n      <td>...</td>\n      <td>Combat Support</td>\n      <td>68W</td>\n      <td>New York</td>\n      <td>2</td>\n      <td>NaN</td>\n      <td>2</td>\n      <td>42</td>\n      <td>68</td>\n      <td>205</td>\n      <td>Left hand</td>\n    </tr>\n    <tr>\n      <th>3</th>\n      <td>10092</td>\n      <td>234</td>\n      <td>1347</td>\n      <td>310</td>\n      <td>230</td>\n      <td>1239</td>\n      <td>262</td>\n      <td>199</td>\n      <td>401</td>\n      <td>359</td>\n      <td>...</td>\n      <td>Combat Service Support</td>\n      <td>88M</td>\n      <td>Wisconsin</td>\n      <td>1</td>\n      <td>NaN</td>\n      <td>1</td>\n      <td>31</td>\n      <td>66</td>\n      <td>175</td>\n      <td>Right hand</td>\n    </tr>\n    <tr>\n      <th>4</th>\n      <td>10093</td>\n      <td>250</td>\n      <td>1585</td>\n      <td>372</td>\n      <td>247</td>\n      <td>1478</td>\n      <td>267</td>\n      <td>224</td>\n      <td>435</td>\n      <td>356</td>\n      <td>...</td>\n      <td>Combat Service Support</td>\n      <td>92G</td>\n      <td>North Carolina</td>\n      <td>2</td>\n      <td>NaN</td>\n      <td>2</td>\n      <td>21</td>\n      <td>77</td>\n      <td>213</td>\n      <td>Right hand</td>\n    </tr>\n    <tr>\n      <th>...</th>\n      <td>...</td>\n      <td>...</td>\n      <td>...</td>\n      <td>...</td>\n      <td>...</td>\n      <td>...</td>\n      <td>...</td>\n      <td>...</td>\n      <td>...</td>\n      <td>...</td>\n      <td>...</td>\n      <td>...</td>\n      <td>...</td>\n      <td>...</td>\n      <td>...</td>\n      <td>...</td>\n      <td>...</td>\n      <td>...</td>\n      <td>...</td>\n      <td>...</td>\n      <td>...</td>\n    </tr>\n    <tr>\n      <th>95</th>\n      <td>10692</td>\n      <td>209</td>\n      <td>1466</td>\n      <td>339</td>\n      <td>233</td>\n      <td>1367</td>\n      <td>257</td>\n      <td>193</td>\n      <td>428</td>\n      <td>362</td>\n      <td>...</td>\n      <td>Combat Arms</td>\n      <td>19D</td>\n      <td>Massachusetts</td>\n      <td>1</td>\n      <td>NaN</td>\n      <td>1</td>\n      <td>21</td>\n      <td>72</td>\n      <td>170</td>\n      <td>Right hand</td>\n    </tr>\n    <tr>\n      <th>96</th>\n      <td>10694</td>\n      <td>245</td>\n      <td>1349</td>\n      <td>303</td>\n      <td>223</td>\n      <td>1248</td>\n      <td>248</td>\n      <td>182</td>\n      <td>403</td>\n      <td>331</td>\n      <td>...</td>\n      <td>Combat Arms</td>\n      <td>19K</td>\n      <td>Tennessee</td>\n      <td>1</td>\n      <td>NaN</td>\n      <td>1</td>\n      <td>22</td>\n      <td>66</td>\n      <td>158</td>\n      <td>Right hand</td>\n    </tr>\n    <tr>\n      <th>97</th>\n      <td>10695</td>\n      <td>295</td>\n      <td>1403</td>\n      <td>327</td>\n      <td>231</td>\n      <td>1291</td>\n      <td>242</td>\n      <td>196</td>\n      <td>367</td>\n      <td>348</td>\n      <td>...</td>\n      <td>Combat Arms</td>\n      <td>19K</td>\n      <td>Arkansas</td>\n      <td>1</td>\n      <td>NaN</td>\n      <td>1</td>\n      <td>26</td>\n      <td>67</td>\n      <td>174</td>\n      <td>Right hand</td>\n    </tr>\n    <tr>\n      <th>98</th>\n      <td>10696</td>\n      <td>226</td>\n      <td>1429</td>\n      <td>330</td>\n      <td>220</td>\n      <td>1337</td>\n      <td>242</td>\n      <td>195</td>\n      <td>439</td>\n      <td>320</td>\n      <td>...</td>\n      <td>Combat Arms</td>\n      <td>19K</td>\n      <td>Alaska</td>\n      <td>1</td>\n      <td>NaN</td>\n      <td>1</td>\n      <td>20</td>\n      <td>74</td>\n      <td>165</td>\n      <td>Right hand</td>\n    </tr>\n    <tr>\n      <th>99</th>\n      <td>10701</td>\n      <td>300</td>\n      <td>1433</td>\n      <td>327</td>\n      <td>228</td>\n      <td>1318</td>\n      <td>245</td>\n      <td>197</td>\n      <td>421</td>\n      <td>386</td>\n      <td>...</td>\n      <td>Combat Arms</td>\n      <td>19K</td>\n      <td>Ohio</td>\n      <td>1</td>\n      <td>NaN</td>\n      <td>1</td>\n      <td>27</td>\n      <td>71</td>\n      <td>215</td>\n      <td>Right hand</td>\n    </tr>\n  </tbody>\n</table>\n<p>100 rows × 108 columns</p>\n</div>"
     },
     "execution_count": 50,
     "metadata": {},
     "output_type": "execute_result"
    }
   ],
   "source": [
    "df_male.head(100)"
   ],
   "metadata": {
    "collapsed": false,
    "pycharm": {
     "name": "#%%\n"
    }
   }
  },
  {
   "cell_type": "markdown",
   "source": [],
   "metadata": {
    "collapsed": false,
    "pycharm": {
     "name": "#%% md\n"
    }
   }
  },
  {
   "cell_type": "code",
   "execution_count": 51,
   "outputs": [
    {
     "data": {
      "text/plain": "   subjectid  abdominalextensiondepthsitting  acromialheight  \\\n0      10027                             266            1467   \n1      10032                             233            1395   \n2      10033                             287            1430   \n3      10092                             234            1347   \n4      10093                             250            1585   \n\n   acromionradialelength  anklecircumference  axillaheight  \\\n0                    337                 222          1347   \n1                    326                 220          1293   \n2                    341                 230          1327   \n3                    310                 230          1239   \n4                    372                 247          1478   \n\n   balloffootcircumference  balloffootlength  biacromialbreadth  \\\n0                      253               202                401   \n1                      245               193                394   \n2                      256               196                427   \n3                      262               199                401   \n4                      267               224                435   \n\n   bicepscircumferenceflexed  bicristalbreadth  bideltoidbreadth  \\\n0                        369               274               493   \n1                        338               257               479   \n2                        408               261               544   \n3                        359               262               518   \n4                        356               263               524   \n\n   bimalleolarbreadth  bitragionchinarc  bitragionsubmandibulararc  \\\n0                  71               319                        291   \n1                  67               344                        320   \n2                  75               345                        330   \n3                  73               328                        309   \n4                  80               340                        310   \n\n   bizygomaticbreadth  buttockcircumference  buttockdepth  buttockheight  \\\n0                 142                   979           240            882   \n1                 135                   944           232            870   \n2                 135                  1054           258            901   \n3                 143                   991           242            821   \n4                 138                  1029           275           1080   \n\n   buttockkneelength  buttockpopliteallength  calfcircumference  \\\n0                619                     509                373   \n1                584                     468                357   \n2                623                     506                412   \n3                560                     437                395   \n4                706                     567                425   \n\n   cervicaleheight  chestbreadth  chestcircumference  chestdepth  chestheight  \\\n0             1535           291                1074         259         1292   \n1             1471           269                1021         253         1244   \n2             1501           288                1120         267         1288   \n3             1423           296                1114         262         1205   \n4             1684           304                1048         232         1452   \n\n   crotchheight  crotchlengthomphalion  crotchlengthposterioromphalion  \\\n0           877                    607                             351   \n1           851                    615                             376   \n2           854                    636                             359   \n3           769                    590                             341   \n4          1014                    682                             382   \n\n   earbreadth  earlength  earprotrusion  elbowrestheight  eyeheightsitting  \\\n0          36         71             19              247               802   \n1          33         62             18              232               781   \n2          40         61             23              237               810   \n3          39         66             25              272               794   \n4          32         56             19              188               814   \n\n   footbreadthhorizontal  footlength  forearmcenterofgriplength  \\\n0                    101         273                        349   \n1                     98         263                        348   \n2                    103         270                        355   \n3                    106         267                        352   \n4                    111         305                        399   \n\n   forearmcircumferenceflexed  forearmforearmbreadth  forearmhandlength  \\\n0                         299                    575                477   \n1                         289                    523                476   \n2                         357                    575                491   \n3                         318                    593                467   \n4                         324                    605                550   \n\n   functionalleglength  handbreadth  handcircumference  handlength  \\\n0                 1136           90                214         193   \n1                 1096           86                203         195   \n2                 1115           93                220         203   \n3                 1034           91                217         194   \n4                 1279           94                222         218   \n\n   headbreadth  headcircumference  headlength  heelanklecircumference  \\\n0          150                583         206                     326   \n1          146                568         201                     334   \n2          148                573         202                     356   \n3          158                576         199                     341   \n4          153                566         197                     374   \n\n   heelbreadth  hipbreadth  hipbreadthsitting  iliocristaleheight  \\\n0           70         332                366                1071   \n1           72         312                356                1046   \n2           70         349                393                1053   \n3           68         338                367                 986   \n4           69         332                372                1251   \n\n   interpupillarybreadth  interscyei  interscyeii  kneeheightmidpatella  \\\n0                    685         422          441                   502   \n1                    620         441          447                   490   \n2                    665         462          475                   496   \n3                    640         458          461                   460   \n4                    675         481          505                   612   \n\n   kneeheightsitting  lateralfemoralepicondyleheight  lateralmalleolusheight  \\\n0                560                             500                      77   \n1                540                             488                      73   \n2                556                             482                      72   \n3                511                             452                      76   \n4                666                             585                      85   \n\n   lowerthighcircumference  mentonsellionlength  neckcircumference  \\\n0                      391                  118                400   \n1                      371                  131                380   \n2                      409                  123                403   \n3                      393                  106                407   \n4                      458                  135                398   \n\n   neckcircumferencebase  overheadfingertipreachsitting  palmlength  \\\n0                    436                           1447         113   \n1                    420                           1380         118   \n2                    434                           1447         121   \n3                    446                           1357         118   \n4                    430                           1572         132   \n\n   poplitealheight  radialestylionlength  shouldercircumference  \\\n0              437                   273                   1151   \n1              417                   254                   1119   \n2              431                   268                   1276   \n3              393                   249                   1155   \n4              523                   302                   1231   \n\n   shoulderelbowlength  shoulderlength  sittingheight  sleevelengthspinewrist  \\\n0                  368             145            928                     883   \n1                  353             141            884                     868   \n2                  367             167            917                     910   \n3                  330             148            903                     848   \n4                  400             180            919                     995   \n\n   sleeveoutseam  span  stature  suprasternaleheight  tenthribheight  \\\n0            600  1782     1776                 1449            1092   \n1            564  1745     1702                 1387            1076   \n2            604  1867     1735                 1438            1105   \n3            550  1708     1655                 1346            1021   \n4            641  2035     1914                 1596            1292   \n\n   thighcircumference  thighclearance  thumbtipreach  tibialheight  \\\n0                 610             164            786           491   \n1                 572             169            822           476   \n2                 685             198            807           477   \n3                 604             180            803           445   \n4                 672             194            962           584   \n\n   tragiontopofhead  trochanterionheight  verticaltrunkcircumferenceusa  \\\n0               140                  919                           1700   \n1               120                  918                           1627   \n2               125                  918                           1678   \n3               127                  847                           1625   \n4               122                 1090                           1679   \n\n   waistbacklength  waistbreadth  waistcircumference  waistdepth  \\\n0              501           329                 933         240   \n1              432           316                 870         225   \n2              472           329                 964         255   \n3              461           315                 857         205   \n4              467           303                 868         214   \n\n   waistfrontlengthsitting  waistheightomphalion  weightkg  \\\n0                      440                  1054       815   \n1                      371                  1054       726   \n2                      411                  1041       929   \n3                      399                   968       794   \n4                      379                  1245       946   \n\n   wristcircumference  wristheight Gender       Date Installation  \\\n0                 175          853   Male   4-Oct-10    Fort Hood   \n1                 167          815   Male   4-Oct-10    Fort Hood   \n2                 180          831   Male   4-Oct-10    Fort Hood   \n3                 176          793   Male  12-Oct-10    Fort Hood   \n4                 188          954   Male  12-Oct-10    Fort Hood   \n\n      Component                  Branch PrimaryMOS SubjectsBirthLocation  \\\n0  Regular Army             Combat Arms        19D          North Dakota   \n1  Regular Army          Combat Support        68W              New York   \n2  Regular Army          Combat Support        68W              New York   \n3  Regular Army  Combat Service Support        88M             Wisconsin   \n4  Regular Army  Combat Service Support        92G        North Carolina   \n\n   SubjectNumericRace Ethnicity  DODRace  Age  Heightin  Weightlbs  \\\n0                   1       NaN        1   41        71        180   \n1                   1       NaN        1   35        68        160   \n2                   2       NaN        2   42        68        205   \n3                   1       NaN        1   31        66        175   \n4                   2       NaN        2   21        77        213   \n\n  WritingPreference  \n0        Right hand  \n1         Left hand  \n2         Left hand  \n3        Right hand  \n4        Right hand  ",
      "text/html": "<div>\n<style scoped>\n    .dataframe tbody tr th:only-of-type {\n        vertical-align: middle;\n    }\n\n    .dataframe tbody tr th {\n        vertical-align: top;\n    }\n\n    .dataframe thead th {\n        text-align: right;\n    }\n</style>\n<table border=\"1\" class=\"dataframe\">\n  <thead>\n    <tr style=\"text-align: right;\">\n      <th></th>\n      <th>subjectid</th>\n      <th>abdominalextensiondepthsitting</th>\n      <th>acromialheight</th>\n      <th>acromionradialelength</th>\n      <th>anklecircumference</th>\n      <th>axillaheight</th>\n      <th>balloffootcircumference</th>\n      <th>balloffootlength</th>\n      <th>biacromialbreadth</th>\n      <th>bicepscircumferenceflexed</th>\n      <th>bicristalbreadth</th>\n      <th>bideltoidbreadth</th>\n      <th>bimalleolarbreadth</th>\n      <th>bitragionchinarc</th>\n      <th>bitragionsubmandibulararc</th>\n      <th>bizygomaticbreadth</th>\n      <th>buttockcircumference</th>\n      <th>buttockdepth</th>\n      <th>buttockheight</th>\n      <th>buttockkneelength</th>\n      <th>buttockpopliteallength</th>\n      <th>calfcircumference</th>\n      <th>cervicaleheight</th>\n      <th>chestbreadth</th>\n      <th>chestcircumference</th>\n      <th>chestdepth</th>\n      <th>chestheight</th>\n      <th>crotchheight</th>\n      <th>crotchlengthomphalion</th>\n      <th>crotchlengthposterioromphalion</th>\n      <th>earbreadth</th>\n      <th>earlength</th>\n      <th>earprotrusion</th>\n      <th>elbowrestheight</th>\n      <th>eyeheightsitting</th>\n      <th>footbreadthhorizontal</th>\n      <th>footlength</th>\n      <th>forearmcenterofgriplength</th>\n      <th>forearmcircumferenceflexed</th>\n      <th>forearmforearmbreadth</th>\n      <th>forearmhandlength</th>\n      <th>functionalleglength</th>\n      <th>handbreadth</th>\n      <th>handcircumference</th>\n      <th>handlength</th>\n      <th>headbreadth</th>\n      <th>headcircumference</th>\n      <th>headlength</th>\n      <th>heelanklecircumference</th>\n      <th>heelbreadth</th>\n      <th>hipbreadth</th>\n      <th>hipbreadthsitting</th>\n      <th>iliocristaleheight</th>\n      <th>interpupillarybreadth</th>\n      <th>interscyei</th>\n      <th>interscyeii</th>\n      <th>kneeheightmidpatella</th>\n      <th>kneeheightsitting</th>\n      <th>lateralfemoralepicondyleheight</th>\n      <th>lateralmalleolusheight</th>\n      <th>lowerthighcircumference</th>\n      <th>mentonsellionlength</th>\n      <th>neckcircumference</th>\n      <th>neckcircumferencebase</th>\n      <th>overheadfingertipreachsitting</th>\n      <th>palmlength</th>\n      <th>poplitealheight</th>\n      <th>radialestylionlength</th>\n      <th>shouldercircumference</th>\n      <th>shoulderelbowlength</th>\n      <th>shoulderlength</th>\n      <th>sittingheight</th>\n      <th>sleevelengthspinewrist</th>\n      <th>sleeveoutseam</th>\n      <th>span</th>\n      <th>stature</th>\n      <th>suprasternaleheight</th>\n      <th>tenthribheight</th>\n      <th>thighcircumference</th>\n      <th>thighclearance</th>\n      <th>thumbtipreach</th>\n      <th>tibialheight</th>\n      <th>tragiontopofhead</th>\n      <th>trochanterionheight</th>\n      <th>verticaltrunkcircumferenceusa</th>\n      <th>waistbacklength</th>\n      <th>waistbreadth</th>\n      <th>waistcircumference</th>\n      <th>waistdepth</th>\n      <th>waistfrontlengthsitting</th>\n      <th>waistheightomphalion</th>\n      <th>weightkg</th>\n      <th>wristcircumference</th>\n      <th>wristheight</th>\n      <th>Gender</th>\n      <th>Date</th>\n      <th>Installation</th>\n      <th>Component</th>\n      <th>Branch</th>\n      <th>PrimaryMOS</th>\n      <th>SubjectsBirthLocation</th>\n      <th>SubjectNumericRace</th>\n      <th>Ethnicity</th>\n      <th>DODRace</th>\n      <th>Age</th>\n      <th>Heightin</th>\n      <th>Weightlbs</th>\n      <th>WritingPreference</th>\n    </tr>\n  </thead>\n  <tbody>\n    <tr>\n      <th>0</th>\n      <td>10027</td>\n      <td>266</td>\n      <td>1467</td>\n      <td>337</td>\n      <td>222</td>\n      <td>1347</td>\n      <td>253</td>\n      <td>202</td>\n      <td>401</td>\n      <td>369</td>\n      <td>274</td>\n      <td>493</td>\n      <td>71</td>\n      <td>319</td>\n      <td>291</td>\n      <td>142</td>\n      <td>979</td>\n      <td>240</td>\n      <td>882</td>\n      <td>619</td>\n      <td>509</td>\n      <td>373</td>\n      <td>1535</td>\n      <td>291</td>\n      <td>1074</td>\n      <td>259</td>\n      <td>1292</td>\n      <td>877</td>\n      <td>607</td>\n      <td>351</td>\n      <td>36</td>\n      <td>71</td>\n      <td>19</td>\n      <td>247</td>\n      <td>802</td>\n      <td>101</td>\n      <td>273</td>\n      <td>349</td>\n      <td>299</td>\n      <td>575</td>\n      <td>477</td>\n      <td>1136</td>\n      <td>90</td>\n      <td>214</td>\n      <td>193</td>\n      <td>150</td>\n      <td>583</td>\n      <td>206</td>\n      <td>326</td>\n      <td>70</td>\n      <td>332</td>\n      <td>366</td>\n      <td>1071</td>\n      <td>685</td>\n      <td>422</td>\n      <td>441</td>\n      <td>502</td>\n      <td>560</td>\n      <td>500</td>\n      <td>77</td>\n      <td>391</td>\n      <td>118</td>\n      <td>400</td>\n      <td>436</td>\n      <td>1447</td>\n      <td>113</td>\n      <td>437</td>\n      <td>273</td>\n      <td>1151</td>\n      <td>368</td>\n      <td>145</td>\n      <td>928</td>\n      <td>883</td>\n      <td>600</td>\n      <td>1782</td>\n      <td>1776</td>\n      <td>1449</td>\n      <td>1092</td>\n      <td>610</td>\n      <td>164</td>\n      <td>786</td>\n      <td>491</td>\n      <td>140</td>\n      <td>919</td>\n      <td>1700</td>\n      <td>501</td>\n      <td>329</td>\n      <td>933</td>\n      <td>240</td>\n      <td>440</td>\n      <td>1054</td>\n      <td>815</td>\n      <td>175</td>\n      <td>853</td>\n      <td>Male</td>\n      <td>4-Oct-10</td>\n      <td>Fort Hood</td>\n      <td>Regular Army</td>\n      <td>Combat Arms</td>\n      <td>19D</td>\n      <td>North Dakota</td>\n      <td>1</td>\n      <td>NaN</td>\n      <td>1</td>\n      <td>41</td>\n      <td>71</td>\n      <td>180</td>\n      <td>Right hand</td>\n    </tr>\n    <tr>\n      <th>1</th>\n      <td>10032</td>\n      <td>233</td>\n      <td>1395</td>\n      <td>326</td>\n      <td>220</td>\n      <td>1293</td>\n      <td>245</td>\n      <td>193</td>\n      <td>394</td>\n      <td>338</td>\n      <td>257</td>\n      <td>479</td>\n      <td>67</td>\n      <td>344</td>\n      <td>320</td>\n      <td>135</td>\n      <td>944</td>\n      <td>232</td>\n      <td>870</td>\n      <td>584</td>\n      <td>468</td>\n      <td>357</td>\n      <td>1471</td>\n      <td>269</td>\n      <td>1021</td>\n      <td>253</td>\n      <td>1244</td>\n      <td>851</td>\n      <td>615</td>\n      <td>376</td>\n      <td>33</td>\n      <td>62</td>\n      <td>18</td>\n      <td>232</td>\n      <td>781</td>\n      <td>98</td>\n      <td>263</td>\n      <td>348</td>\n      <td>289</td>\n      <td>523</td>\n      <td>476</td>\n      <td>1096</td>\n      <td>86</td>\n      <td>203</td>\n      <td>195</td>\n      <td>146</td>\n      <td>568</td>\n      <td>201</td>\n      <td>334</td>\n      <td>72</td>\n      <td>312</td>\n      <td>356</td>\n      <td>1046</td>\n      <td>620</td>\n      <td>441</td>\n      <td>447</td>\n      <td>490</td>\n      <td>540</td>\n      <td>488</td>\n      <td>73</td>\n      <td>371</td>\n      <td>131</td>\n      <td>380</td>\n      <td>420</td>\n      <td>1380</td>\n      <td>118</td>\n      <td>417</td>\n      <td>254</td>\n      <td>1119</td>\n      <td>353</td>\n      <td>141</td>\n      <td>884</td>\n      <td>868</td>\n      <td>564</td>\n      <td>1745</td>\n      <td>1702</td>\n      <td>1387</td>\n      <td>1076</td>\n      <td>572</td>\n      <td>169</td>\n      <td>822</td>\n      <td>476</td>\n      <td>120</td>\n      <td>918</td>\n      <td>1627</td>\n      <td>432</td>\n      <td>316</td>\n      <td>870</td>\n      <td>225</td>\n      <td>371</td>\n      <td>1054</td>\n      <td>726</td>\n      <td>167</td>\n      <td>815</td>\n      <td>Male</td>\n      <td>4-Oct-10</td>\n      <td>Fort Hood</td>\n      <td>Regular Army</td>\n      <td>Combat Support</td>\n      <td>68W</td>\n      <td>New York</td>\n      <td>1</td>\n      <td>NaN</td>\n      <td>1</td>\n      <td>35</td>\n      <td>68</td>\n      <td>160</td>\n      <td>Left hand</td>\n    </tr>\n    <tr>\n      <th>2</th>\n      <td>10033</td>\n      <td>287</td>\n      <td>1430</td>\n      <td>341</td>\n      <td>230</td>\n      <td>1327</td>\n      <td>256</td>\n      <td>196</td>\n      <td>427</td>\n      <td>408</td>\n      <td>261</td>\n      <td>544</td>\n      <td>75</td>\n      <td>345</td>\n      <td>330</td>\n      <td>135</td>\n      <td>1054</td>\n      <td>258</td>\n      <td>901</td>\n      <td>623</td>\n      <td>506</td>\n      <td>412</td>\n      <td>1501</td>\n      <td>288</td>\n      <td>1120</td>\n      <td>267</td>\n      <td>1288</td>\n      <td>854</td>\n      <td>636</td>\n      <td>359</td>\n      <td>40</td>\n      <td>61</td>\n      <td>23</td>\n      <td>237</td>\n      <td>810</td>\n      <td>103</td>\n      <td>270</td>\n      <td>355</td>\n      <td>357</td>\n      <td>575</td>\n      <td>491</td>\n      <td>1115</td>\n      <td>93</td>\n      <td>220</td>\n      <td>203</td>\n      <td>148</td>\n      <td>573</td>\n      <td>202</td>\n      <td>356</td>\n      <td>70</td>\n      <td>349</td>\n      <td>393</td>\n      <td>1053</td>\n      <td>665</td>\n      <td>462</td>\n      <td>475</td>\n      <td>496</td>\n      <td>556</td>\n      <td>482</td>\n      <td>72</td>\n      <td>409</td>\n      <td>123</td>\n      <td>403</td>\n      <td>434</td>\n      <td>1447</td>\n      <td>121</td>\n      <td>431</td>\n      <td>268</td>\n      <td>1276</td>\n      <td>367</td>\n      <td>167</td>\n      <td>917</td>\n      <td>910</td>\n      <td>604</td>\n      <td>1867</td>\n      <td>1735</td>\n      <td>1438</td>\n      <td>1105</td>\n      <td>685</td>\n      <td>198</td>\n      <td>807</td>\n      <td>477</td>\n      <td>125</td>\n      <td>918</td>\n      <td>1678</td>\n      <td>472</td>\n      <td>329</td>\n      <td>964</td>\n      <td>255</td>\n      <td>411</td>\n      <td>1041</td>\n      <td>929</td>\n      <td>180</td>\n      <td>831</td>\n      <td>Male</td>\n      <td>4-Oct-10</td>\n      <td>Fort Hood</td>\n      <td>Regular Army</td>\n      <td>Combat Support</td>\n      <td>68W</td>\n      <td>New York</td>\n      <td>2</td>\n      <td>NaN</td>\n      <td>2</td>\n      <td>42</td>\n      <td>68</td>\n      <td>205</td>\n      <td>Left hand</td>\n    </tr>\n    <tr>\n      <th>3</th>\n      <td>10092</td>\n      <td>234</td>\n      <td>1347</td>\n      <td>310</td>\n      <td>230</td>\n      <td>1239</td>\n      <td>262</td>\n      <td>199</td>\n      <td>401</td>\n      <td>359</td>\n      <td>262</td>\n      <td>518</td>\n      <td>73</td>\n      <td>328</td>\n      <td>309</td>\n      <td>143</td>\n      <td>991</td>\n      <td>242</td>\n      <td>821</td>\n      <td>560</td>\n      <td>437</td>\n      <td>395</td>\n      <td>1423</td>\n      <td>296</td>\n      <td>1114</td>\n      <td>262</td>\n      <td>1205</td>\n      <td>769</td>\n      <td>590</td>\n      <td>341</td>\n      <td>39</td>\n      <td>66</td>\n      <td>25</td>\n      <td>272</td>\n      <td>794</td>\n      <td>106</td>\n      <td>267</td>\n      <td>352</td>\n      <td>318</td>\n      <td>593</td>\n      <td>467</td>\n      <td>1034</td>\n      <td>91</td>\n      <td>217</td>\n      <td>194</td>\n      <td>158</td>\n      <td>576</td>\n      <td>199</td>\n      <td>341</td>\n      <td>68</td>\n      <td>338</td>\n      <td>367</td>\n      <td>986</td>\n      <td>640</td>\n      <td>458</td>\n      <td>461</td>\n      <td>460</td>\n      <td>511</td>\n      <td>452</td>\n      <td>76</td>\n      <td>393</td>\n      <td>106</td>\n      <td>407</td>\n      <td>446</td>\n      <td>1357</td>\n      <td>118</td>\n      <td>393</td>\n      <td>249</td>\n      <td>1155</td>\n      <td>330</td>\n      <td>148</td>\n      <td>903</td>\n      <td>848</td>\n      <td>550</td>\n      <td>1708</td>\n      <td>1655</td>\n      <td>1346</td>\n      <td>1021</td>\n      <td>604</td>\n      <td>180</td>\n      <td>803</td>\n      <td>445</td>\n      <td>127</td>\n      <td>847</td>\n      <td>1625</td>\n      <td>461</td>\n      <td>315</td>\n      <td>857</td>\n      <td>205</td>\n      <td>399</td>\n      <td>968</td>\n      <td>794</td>\n      <td>176</td>\n      <td>793</td>\n      <td>Male</td>\n      <td>12-Oct-10</td>\n      <td>Fort Hood</td>\n      <td>Regular Army</td>\n      <td>Combat Service Support</td>\n      <td>88M</td>\n      <td>Wisconsin</td>\n      <td>1</td>\n      <td>NaN</td>\n      <td>1</td>\n      <td>31</td>\n      <td>66</td>\n      <td>175</td>\n      <td>Right hand</td>\n    </tr>\n    <tr>\n      <th>4</th>\n      <td>10093</td>\n      <td>250</td>\n      <td>1585</td>\n      <td>372</td>\n      <td>247</td>\n      <td>1478</td>\n      <td>267</td>\n      <td>224</td>\n      <td>435</td>\n      <td>356</td>\n      <td>263</td>\n      <td>524</td>\n      <td>80</td>\n      <td>340</td>\n      <td>310</td>\n      <td>138</td>\n      <td>1029</td>\n      <td>275</td>\n      <td>1080</td>\n      <td>706</td>\n      <td>567</td>\n      <td>425</td>\n      <td>1684</td>\n      <td>304</td>\n      <td>1048</td>\n      <td>232</td>\n      <td>1452</td>\n      <td>1014</td>\n      <td>682</td>\n      <td>382</td>\n      <td>32</td>\n      <td>56</td>\n      <td>19</td>\n      <td>188</td>\n      <td>814</td>\n      <td>111</td>\n      <td>305</td>\n      <td>399</td>\n      <td>324</td>\n      <td>605</td>\n      <td>550</td>\n      <td>1279</td>\n      <td>94</td>\n      <td>222</td>\n      <td>218</td>\n      <td>153</td>\n      <td>566</td>\n      <td>197</td>\n      <td>374</td>\n      <td>69</td>\n      <td>332</td>\n      <td>372</td>\n      <td>1251</td>\n      <td>675</td>\n      <td>481</td>\n      <td>505</td>\n      <td>612</td>\n      <td>666</td>\n      <td>585</td>\n      <td>85</td>\n      <td>458</td>\n      <td>135</td>\n      <td>398</td>\n      <td>430</td>\n      <td>1572</td>\n      <td>132</td>\n      <td>523</td>\n      <td>302</td>\n      <td>1231</td>\n      <td>400</td>\n      <td>180</td>\n      <td>919</td>\n      <td>995</td>\n      <td>641</td>\n      <td>2035</td>\n      <td>1914</td>\n      <td>1596</td>\n      <td>1292</td>\n      <td>672</td>\n      <td>194</td>\n      <td>962</td>\n      <td>584</td>\n      <td>122</td>\n      <td>1090</td>\n      <td>1679</td>\n      <td>467</td>\n      <td>303</td>\n      <td>868</td>\n      <td>214</td>\n      <td>379</td>\n      <td>1245</td>\n      <td>946</td>\n      <td>188</td>\n      <td>954</td>\n      <td>Male</td>\n      <td>12-Oct-10</td>\n      <td>Fort Hood</td>\n      <td>Regular Army</td>\n      <td>Combat Service Support</td>\n      <td>92G</td>\n      <td>North Carolina</td>\n      <td>2</td>\n      <td>NaN</td>\n      <td>2</td>\n      <td>21</td>\n      <td>77</td>\n      <td>213</td>\n      <td>Right hand</td>\n    </tr>\n  </tbody>\n</table>\n</div>"
     },
     "execution_count": 51,
     "metadata": {},
     "output_type": "execute_result"
    }
   ],
   "source": [
    "pd.set_option('display.max_columns', None)\n",
    "df_male.head()"
   ],
   "metadata": {
    "collapsed": false,
    "pycharm": {
     "name": "#%%\n"
    }
   }
  },
  {
   "cell_type": "code",
   "execution_count": 55,
   "outputs": [],
   "source": [
    "df_male = pd.read_csv('male.csv', usecols=['chestcircumference', 'chestdepth', 'chestheight','waistcircumference','weightkg','Heightin'])"
   ],
   "metadata": {
    "collapsed": false,
    "pycharm": {
     "name": "#%%\n"
    }
   }
  },
  {
   "cell_type": "code",
   "execution_count": 56,
   "outputs": [
    {
     "data": {
      "text/plain": "   chestcircumference  chestdepth  chestheight  waistcircumference  weightkg  \\\n0                1074         259         1292                 933       815   \n1                1021         253         1244                 870       726   \n2                1120         267         1288                 964       929   \n3                1114         262         1205                 857       794   \n4                1048         232         1452                 868       946   \n\n   Heightin  \n0        71  \n1        68  \n2        68  \n3        66  \n4        77  ",
      "text/html": "<div>\n<style scoped>\n    .dataframe tbody tr th:only-of-type {\n        vertical-align: middle;\n    }\n\n    .dataframe tbody tr th {\n        vertical-align: top;\n    }\n\n    .dataframe thead th {\n        text-align: right;\n    }\n</style>\n<table border=\"1\" class=\"dataframe\">\n  <thead>\n    <tr style=\"text-align: right;\">\n      <th></th>\n      <th>chestcircumference</th>\n      <th>chestdepth</th>\n      <th>chestheight</th>\n      <th>waistcircumference</th>\n      <th>weightkg</th>\n      <th>Heightin</th>\n    </tr>\n  </thead>\n  <tbody>\n    <tr>\n      <th>0</th>\n      <td>1074</td>\n      <td>259</td>\n      <td>1292</td>\n      <td>933</td>\n      <td>815</td>\n      <td>71</td>\n    </tr>\n    <tr>\n      <th>1</th>\n      <td>1021</td>\n      <td>253</td>\n      <td>1244</td>\n      <td>870</td>\n      <td>726</td>\n      <td>68</td>\n    </tr>\n    <tr>\n      <th>2</th>\n      <td>1120</td>\n      <td>267</td>\n      <td>1288</td>\n      <td>964</td>\n      <td>929</td>\n      <td>68</td>\n    </tr>\n    <tr>\n      <th>3</th>\n      <td>1114</td>\n      <td>262</td>\n      <td>1205</td>\n      <td>857</td>\n      <td>794</td>\n      <td>66</td>\n    </tr>\n    <tr>\n      <th>4</th>\n      <td>1048</td>\n      <td>232</td>\n      <td>1452</td>\n      <td>868</td>\n      <td>946</td>\n      <td>77</td>\n    </tr>\n  </tbody>\n</table>\n</div>"
     },
     "execution_count": 56,
     "metadata": {},
     "output_type": "execute_result"
    }
   ],
   "source": [
    "df_male.head()"
   ],
   "metadata": {
    "collapsed": false,
    "pycharm": {
     "name": "#%%\n"
    }
   }
  },
  {
   "cell_type": "code",
   "execution_count": 57,
   "outputs": [],
   "source": [
    "df_male['Heightin'] = df_male['Heightin'].multiply(2.54)"
   ],
   "metadata": {
    "collapsed": false,
    "pycharm": {
     "name": "#%%\n"
    }
   }
  },
  {
   "cell_type": "code",
   "execution_count": 58,
   "outputs": [
    {
     "data": {
      "text/plain": "   chestcircumference  chestdepth  chestheight  waistcircumference  weightkg  \\\n0                1074         259         1292                 933       815   \n1                1021         253         1244                 870       726   \n2                1120         267         1288                 964       929   \n3                1114         262         1205                 857       794   \n4                1048         232         1452                 868       946   \n\n   Heightin  \n0    180.34  \n1    172.72  \n2    172.72  \n3    167.64  \n4    195.58  ",
      "text/html": "<div>\n<style scoped>\n    .dataframe tbody tr th:only-of-type {\n        vertical-align: middle;\n    }\n\n    .dataframe tbody tr th {\n        vertical-align: top;\n    }\n\n    .dataframe thead th {\n        text-align: right;\n    }\n</style>\n<table border=\"1\" class=\"dataframe\">\n  <thead>\n    <tr style=\"text-align: right;\">\n      <th></th>\n      <th>chestcircumference</th>\n      <th>chestdepth</th>\n      <th>chestheight</th>\n      <th>waistcircumference</th>\n      <th>weightkg</th>\n      <th>Heightin</th>\n    </tr>\n  </thead>\n  <tbody>\n    <tr>\n      <th>0</th>\n      <td>1074</td>\n      <td>259</td>\n      <td>1292</td>\n      <td>933</td>\n      <td>815</td>\n      <td>180.34</td>\n    </tr>\n    <tr>\n      <th>1</th>\n      <td>1021</td>\n      <td>253</td>\n      <td>1244</td>\n      <td>870</td>\n      <td>726</td>\n      <td>172.72</td>\n    </tr>\n    <tr>\n      <th>2</th>\n      <td>1120</td>\n      <td>267</td>\n      <td>1288</td>\n      <td>964</td>\n      <td>929</td>\n      <td>172.72</td>\n    </tr>\n    <tr>\n      <th>3</th>\n      <td>1114</td>\n      <td>262</td>\n      <td>1205</td>\n      <td>857</td>\n      <td>794</td>\n      <td>167.64</td>\n    </tr>\n    <tr>\n      <th>4</th>\n      <td>1048</td>\n      <td>232</td>\n      <td>1452</td>\n      <td>868</td>\n      <td>946</td>\n      <td>195.58</td>\n    </tr>\n  </tbody>\n</table>\n</div>"
     },
     "execution_count": 58,
     "metadata": {},
     "output_type": "execute_result"
    }
   ],
   "source": [
    "df_male.head()"
   ],
   "metadata": {
    "collapsed": false,
    "pycharm": {
     "name": "#%%\n"
    }
   }
  },
  {
   "cell_type": "code",
   "execution_count": 59,
   "outputs": [],
   "source": [
    "df_male = df_male.rename(columns={'chestcircumference':'chest_circumference', 'chestdepth':'chest_depth', 'chestheight': 'chest_height'\n",
    "                                  ,'waistcircumference':'waist_circumference','weightkg':'weight_gram', 'Heightin': 'height_cm'})"
   ],
   "metadata": {
    "collapsed": false,
    "pycharm": {
     "name": "#%%\n"
    }
   }
  },
  {
   "cell_type": "code",
   "execution_count": 60,
   "outputs": [
    {
     "data": {
      "text/plain": "   chest_circumference  chest_depth  chest_height  waist_circumference  \\\n0                 1074          259          1292                  933   \n1                 1021          253          1244                  870   \n2                 1120          267          1288                  964   \n3                 1114          262          1205                  857   \n4                 1048          232          1452                  868   \n\n   weight_gram  height_cm  \n0          815     180.34  \n1          726     172.72  \n2          929     172.72  \n3          794     167.64  \n4          946     195.58  ",
      "text/html": "<div>\n<style scoped>\n    .dataframe tbody tr th:only-of-type {\n        vertical-align: middle;\n    }\n\n    .dataframe tbody tr th {\n        vertical-align: top;\n    }\n\n    .dataframe thead th {\n        text-align: right;\n    }\n</style>\n<table border=\"1\" class=\"dataframe\">\n  <thead>\n    <tr style=\"text-align: right;\">\n      <th></th>\n      <th>chest_circumference</th>\n      <th>chest_depth</th>\n      <th>chest_height</th>\n      <th>waist_circumference</th>\n      <th>weight_gram</th>\n      <th>height_cm</th>\n    </tr>\n  </thead>\n  <tbody>\n    <tr>\n      <th>0</th>\n      <td>1074</td>\n      <td>259</td>\n      <td>1292</td>\n      <td>933</td>\n      <td>815</td>\n      <td>180.34</td>\n    </tr>\n    <tr>\n      <th>1</th>\n      <td>1021</td>\n      <td>253</td>\n      <td>1244</td>\n      <td>870</td>\n      <td>726</td>\n      <td>172.72</td>\n    </tr>\n    <tr>\n      <th>2</th>\n      <td>1120</td>\n      <td>267</td>\n      <td>1288</td>\n      <td>964</td>\n      <td>929</td>\n      <td>172.72</td>\n    </tr>\n    <tr>\n      <th>3</th>\n      <td>1114</td>\n      <td>262</td>\n      <td>1205</td>\n      <td>857</td>\n      <td>794</td>\n      <td>167.64</td>\n    </tr>\n    <tr>\n      <th>4</th>\n      <td>1048</td>\n      <td>232</td>\n      <td>1452</td>\n      <td>868</td>\n      <td>946</td>\n      <td>195.58</td>\n    </tr>\n  </tbody>\n</table>\n</div>"
     },
     "execution_count": 60,
     "metadata": {},
     "output_type": "execute_result"
    }
   ],
   "source": [
    "df_male.head()"
   ],
   "metadata": {
    "collapsed": false,
    "pycharm": {
     "name": "#%%\n"
    }
   }
  },
  {
   "cell_type": "code",
   "execution_count": 61,
   "outputs": [],
   "source": [
    "df_male.to_csv('refined_df_male_shirt.csv')"
   ],
   "metadata": {
    "collapsed": false,
    "pycharm": {
     "name": "#%%\n"
    }
   }
  },
  {
   "cell_type": "code",
   "execution_count": 62,
   "outputs": [
    {
     "data": {
      "text/plain": "1469"
     },
     "execution_count": 62,
     "metadata": {},
     "output_type": "execute_result"
    }
   ],
   "source": [
    "df_male.chest_circumference.max()"
   ],
   "metadata": {
    "collapsed": false,
    "pycharm": {
     "name": "#%%\n"
    }
   }
  },
  {
   "cell_type": "code",
   "execution_count": 63,
   "outputs": [
    {
     "data": {
      "text/plain": "774"
     },
     "execution_count": 63,
     "metadata": {},
     "output_type": "execute_result"
    }
   ],
   "source": [
    "df_male.chest_circumference.min()"
   ],
   "metadata": {
    "collapsed": false,
    "pycharm": {
     "name": "#%%\n"
    }
   }
  },
  {
   "cell_type": "code",
   "execution_count": 64,
   "outputs": [
    {
     "data": {
      "text/plain": "   chest_circumference  chest_depth  chest_height  waist_circumference  \\\n0                 1074          259          1292                  933   \n1                 1021          253          1244                  870   \n2                 1120          267          1288                  964   \n3                 1114          262          1205                  857   \n4                 1048          232          1452                  868   \n\n   weight_gram  height_cm  \n0          815     180.34  \n1          726     172.72  \n2          929     172.72  \n3          794     167.64  \n4          946     195.58  ",
      "text/html": "<div>\n<style scoped>\n    .dataframe tbody tr th:only-of-type {\n        vertical-align: middle;\n    }\n\n    .dataframe tbody tr th {\n        vertical-align: top;\n    }\n\n    .dataframe thead th {\n        text-align: right;\n    }\n</style>\n<table border=\"1\" class=\"dataframe\">\n  <thead>\n    <tr style=\"text-align: right;\">\n      <th></th>\n      <th>chest_circumference</th>\n      <th>chest_depth</th>\n      <th>chest_height</th>\n      <th>waist_circumference</th>\n      <th>weight_gram</th>\n      <th>height_cm</th>\n    </tr>\n  </thead>\n  <tbody>\n    <tr>\n      <th>0</th>\n      <td>1074</td>\n      <td>259</td>\n      <td>1292</td>\n      <td>933</td>\n      <td>815</td>\n      <td>180.34</td>\n    </tr>\n    <tr>\n      <th>1</th>\n      <td>1021</td>\n      <td>253</td>\n      <td>1244</td>\n      <td>870</td>\n      <td>726</td>\n      <td>172.72</td>\n    </tr>\n    <tr>\n      <th>2</th>\n      <td>1120</td>\n      <td>267</td>\n      <td>1288</td>\n      <td>964</td>\n      <td>929</td>\n      <td>172.72</td>\n    </tr>\n    <tr>\n      <th>3</th>\n      <td>1114</td>\n      <td>262</td>\n      <td>1205</td>\n      <td>857</td>\n      <td>794</td>\n      <td>167.64</td>\n    </tr>\n    <tr>\n      <th>4</th>\n      <td>1048</td>\n      <td>232</td>\n      <td>1452</td>\n      <td>868</td>\n      <td>946</td>\n      <td>195.58</td>\n    </tr>\n  </tbody>\n</table>\n</div>"
     },
     "execution_count": 64,
     "metadata": {},
     "output_type": "execute_result"
    }
   ],
   "source": [
    "df_male.head()"
   ],
   "metadata": {
    "collapsed": false,
    "pycharm": {
     "name": "#%%\n"
    }
   }
  },
  {
   "cell_type": "code",
   "execution_count": 65,
   "outputs": [],
   "source": [
    "df_male_weight = df_male[['weight_gram']]"
   ],
   "metadata": {
    "collapsed": false,
    "pycharm": {
     "name": "#%%\n"
    }
   }
  },
  {
   "cell_type": "code",
   "execution_count": 66,
   "outputs": [
    {
     "data": {
      "text/plain": "   weight_gram\n0          815\n1          726\n2          929\n3          794\n4          946",
      "text/html": "<div>\n<style scoped>\n    .dataframe tbody tr th:only-of-type {\n        vertical-align: middle;\n    }\n\n    .dataframe tbody tr th {\n        vertical-align: top;\n    }\n\n    .dataframe thead th {\n        text-align: right;\n    }\n</style>\n<table border=\"1\" class=\"dataframe\">\n  <thead>\n    <tr style=\"text-align: right;\">\n      <th></th>\n      <th>weight_gram</th>\n    </tr>\n  </thead>\n  <tbody>\n    <tr>\n      <th>0</th>\n      <td>815</td>\n    </tr>\n    <tr>\n      <th>1</th>\n      <td>726</td>\n    </tr>\n    <tr>\n      <th>2</th>\n      <td>929</td>\n    </tr>\n    <tr>\n      <th>3</th>\n      <td>794</td>\n    </tr>\n    <tr>\n      <th>4</th>\n      <td>946</td>\n    </tr>\n  </tbody>\n</table>\n</div>"
     },
     "execution_count": 66,
     "metadata": {},
     "output_type": "execute_result"
    }
   ],
   "source": [
    "df_male_weight.head()"
   ],
   "metadata": {
    "collapsed": false,
    "pycharm": {
     "name": "#%%\n"
    }
   }
  },
  {
   "cell_type": "code",
   "execution_count": 67,
   "outputs": [],
   "source": [
    "df_male_weight = df_male_weight.rename (columns={'weight_gram':'weight_hg'})"
   ],
   "metadata": {
    "collapsed": false,
    "pycharm": {
     "name": "#%%\n"
    }
   }
  },
  {
   "cell_type": "code",
   "execution_count": 68,
   "outputs": [
    {
     "data": {
      "text/plain": "   weight_hg\n0        815\n1        726\n2        929\n3        794\n4        946",
      "text/html": "<div>\n<style scoped>\n    .dataframe tbody tr th:only-of-type {\n        vertical-align: middle;\n    }\n\n    .dataframe tbody tr th {\n        vertical-align: top;\n    }\n\n    .dataframe thead th {\n        text-align: right;\n    }\n</style>\n<table border=\"1\" class=\"dataframe\">\n  <thead>\n    <tr style=\"text-align: right;\">\n      <th></th>\n      <th>weight_hg</th>\n    </tr>\n  </thead>\n  <tbody>\n    <tr>\n      <th>0</th>\n      <td>815</td>\n    </tr>\n    <tr>\n      <th>1</th>\n      <td>726</td>\n    </tr>\n    <tr>\n      <th>2</th>\n      <td>929</td>\n    </tr>\n    <tr>\n      <th>3</th>\n      <td>794</td>\n    </tr>\n    <tr>\n      <th>4</th>\n      <td>946</td>\n    </tr>\n  </tbody>\n</table>\n</div>"
     },
     "execution_count": 68,
     "metadata": {},
     "output_type": "execute_result"
    }
   ],
   "source": [
    "df_male_weight.head()"
   ],
   "metadata": {
    "collapsed": false,
    "pycharm": {
     "name": "#%%\n"
    }
   }
  },
  {
   "cell_type": "code",
   "execution_count": 70,
   "outputs": [],
   "source": [
    "df_male_weight.to_csv('df_male_weight.csv')"
   ],
   "metadata": {
    "collapsed": false,
    "pycharm": {
     "name": "#%%\n"
    }
   }
  },
  {
   "cell_type": "code",
   "execution_count": 71,
   "outputs": [],
   "source": [
    "df_male_height = df_male[['height_cm']]"
   ],
   "metadata": {
    "collapsed": false,
    "pycharm": {
     "name": "#%%\n"
    }
   }
  },
  {
   "cell_type": "code",
   "execution_count": 72,
   "outputs": [
    {
     "data": {
      "text/plain": "   height_cm\n0     180.34\n1     172.72\n2     172.72\n3     167.64\n4     195.58",
      "text/html": "<div>\n<style scoped>\n    .dataframe tbody tr th:only-of-type {\n        vertical-align: middle;\n    }\n\n    .dataframe tbody tr th {\n        vertical-align: top;\n    }\n\n    .dataframe thead th {\n        text-align: right;\n    }\n</style>\n<table border=\"1\" class=\"dataframe\">\n  <thead>\n    <tr style=\"text-align: right;\">\n      <th></th>\n      <th>height_cm</th>\n    </tr>\n  </thead>\n  <tbody>\n    <tr>\n      <th>0</th>\n      <td>180.34</td>\n    </tr>\n    <tr>\n      <th>1</th>\n      <td>172.72</td>\n    </tr>\n    <tr>\n      <th>2</th>\n      <td>172.72</td>\n    </tr>\n    <tr>\n      <th>3</th>\n      <td>167.64</td>\n    </tr>\n    <tr>\n      <th>4</th>\n      <td>195.58</td>\n    </tr>\n  </tbody>\n</table>\n</div>"
     },
     "execution_count": 72,
     "metadata": {},
     "output_type": "execute_result"
    }
   ],
   "source": [
    "df_male_height.head()"
   ],
   "metadata": {
    "collapsed": false,
    "pycharm": {
     "name": "#%%\n"
    }
   }
  },
  {
   "cell_type": "code",
   "execution_count": 73,
   "outputs": [],
   "source": [
    "df_male_height.to_csv('df_male_height.csv')"
   ],
   "metadata": {
    "collapsed": false,
    "pycharm": {
     "name": "#%%\n"
    }
   }
  },
  {
   "cell_type": "code",
   "execution_count": 74,
   "outputs": [
    {
     "data": {
      "text/plain": "   height_cm\n0     180.34\n1     172.72\n2     172.72\n3     167.64\n4     195.58",
      "text/html": "<div>\n<style scoped>\n    .dataframe tbody tr th:only-of-type {\n        vertical-align: middle;\n    }\n\n    .dataframe tbody tr th {\n        vertical-align: top;\n    }\n\n    .dataframe thead th {\n        text-align: right;\n    }\n</style>\n<table border=\"1\" class=\"dataframe\">\n  <thead>\n    <tr style=\"text-align: right;\">\n      <th></th>\n      <th>height_cm</th>\n    </tr>\n  </thead>\n  <tbody>\n    <tr>\n      <th>0</th>\n      <td>180.34</td>\n    </tr>\n    <tr>\n      <th>1</th>\n      <td>172.72</td>\n    </tr>\n    <tr>\n      <th>2</th>\n      <td>172.72</td>\n    </tr>\n    <tr>\n      <th>3</th>\n      <td>167.64</td>\n    </tr>\n    <tr>\n      <th>4</th>\n      <td>195.58</td>\n    </tr>\n  </tbody>\n</table>\n</div>"
     },
     "execution_count": 74,
     "metadata": {},
     "output_type": "execute_result"
    }
   ],
   "source": [
    "df_male_height.head()"
   ],
   "metadata": {
    "collapsed": false,
    "pycharm": {
     "name": "#%%\n"
    }
   }
  },
  {
   "cell_type": "code",
   "execution_count": 78,
   "outputs": [
    {
     "name": "stderr",
     "output_type": "stream",
     "text": [
      "C:\\Users\\46700\\AppData\\Local\\Temp\\ipykernel_30984\\357035728.py:1: FutureWarning: In a future version of pandas all arguments of DataFrame.drop except for the argument 'labels' will be keyword-only.\n",
      "  df_male_height_trimmed=df_male_height.drop([0],0)\n"
     ]
    }
   ],
   "source": [
    "df_male_height_trimmed=df_male_height.drop([0],0)"
   ],
   "metadata": {
    "collapsed": false,
    "pycharm": {
     "name": "#%%\n"
    }
   }
  },
  {
   "cell_type": "code",
   "execution_count": 81,
   "outputs": [
    {
     "data": {
      "text/plain": "0       180.34\n1       172.72\n2       172.72\n3       167.64\n4       195.58\n         ...  \n4077    170.18\n4078    180.34\n4079    170.18\n4080    175.26\n4081    185.42\nName: height_cm, Length: 4082, dtype: float64"
     },
     "execution_count": 81,
     "metadata": {},
     "output_type": "execute_result"
    }
   ],
   "source": [
    "df_male_height['height_cm']"
   ],
   "metadata": {
    "collapsed": false,
    "pycharm": {
     "name": "#%%\n"
    }
   }
  },
  {
   "cell_type": "code",
   "execution_count": 82,
   "outputs": [],
   "source": [
    "df_male = pd.read_csv('male.csv')"
   ],
   "metadata": {
    "collapsed": false,
    "pycharm": {
     "name": "#%%\n"
    }
   }
  },
  {
   "cell_type": "code",
   "execution_count": 83,
   "outputs": [],
   "source": [
    "df_male = pd.read_csv('male.csv', usecols=['Heightin'])"
   ],
   "metadata": {
    "collapsed": false,
    "pycharm": {
     "name": "#%%\n"
    }
   }
  },
  {
   "cell_type": "code",
   "execution_count": 84,
   "outputs": [
    {
     "data": {
      "text/plain": "   Heightin\n0        71\n1        68\n2        68\n3        66\n4        77",
      "text/html": "<div>\n<style scoped>\n    .dataframe tbody tr th:only-of-type {\n        vertical-align: middle;\n    }\n\n    .dataframe tbody tr th {\n        vertical-align: top;\n    }\n\n    .dataframe thead th {\n        text-align: right;\n    }\n</style>\n<table border=\"1\" class=\"dataframe\">\n  <thead>\n    <tr style=\"text-align: right;\">\n      <th></th>\n      <th>Heightin</th>\n    </tr>\n  </thead>\n  <tbody>\n    <tr>\n      <th>0</th>\n      <td>71</td>\n    </tr>\n    <tr>\n      <th>1</th>\n      <td>68</td>\n    </tr>\n    <tr>\n      <th>2</th>\n      <td>68</td>\n    </tr>\n    <tr>\n      <th>3</th>\n      <td>66</td>\n    </tr>\n    <tr>\n      <th>4</th>\n      <td>77</td>\n    </tr>\n  </tbody>\n</table>\n</div>"
     },
     "execution_count": 84,
     "metadata": {},
     "output_type": "execute_result"
    }
   ],
   "source": [
    "df_male.head()"
   ],
   "metadata": {
    "collapsed": false,
    "pycharm": {
     "name": "#%%\n"
    }
   }
  },
  {
   "cell_type": "code",
   "execution_count": 85,
   "outputs": [
    {
     "name": "stdout",
     "output_type": "stream",
     "text": [
      "<class 'pandas.core.series.Series'>\n"
     ]
    }
   ],
   "source": [
    "print(type(df_male['Heightin']))"
   ],
   "metadata": {
    "collapsed": false,
    "pycharm": {
     "name": "#%%\n"
    }
   }
  },
  {
   "cell_type": "code",
   "execution_count": 86,
   "outputs": [
    {
     "name": "stdout",
     "output_type": "stream",
     "text": [
      "<class 'int'>\n",
      "<class 'int'>\n",
      "<class 'int'>\n",
      "<class 'int'>\n",
      "<class 'int'>\n",
      "<class 'int'>\n",
      "<class 'int'>\n",
      "<class 'int'>\n",
      "<class 'int'>\n",
      "<class 'int'>\n",
      "<class 'int'>\n",
      "<class 'int'>\n",
      "<class 'int'>\n",
      "<class 'int'>\n",
      "<class 'int'>\n",
      "<class 'int'>\n",
      "<class 'int'>\n",
      "<class 'int'>\n",
      "<class 'int'>\n",
      "<class 'int'>\n",
      "<class 'int'>\n",
      "<class 'int'>\n",
      "<class 'int'>\n",
      "<class 'int'>\n",
      "<class 'int'>\n",
      "<class 'int'>\n",
      "<class 'int'>\n",
      "<class 'int'>\n",
      "<class 'int'>\n",
      "<class 'int'>\n",
      "<class 'int'>\n",
      "<class 'int'>\n",
      "<class 'int'>\n",
      "<class 'int'>\n",
      "<class 'int'>\n",
      "<class 'int'>\n",
      "<class 'int'>\n",
      "<class 'int'>\n",
      "<class 'int'>\n",
      "<class 'int'>\n",
      "<class 'int'>\n",
      "<class 'int'>\n",
      "<class 'int'>\n",
      "<class 'int'>\n",
      "<class 'int'>\n",
      "<class 'int'>\n",
      "<class 'int'>\n",
      "<class 'int'>\n",
      "<class 'int'>\n",
      "<class 'int'>\n",
      "<class 'int'>\n",
      "<class 'int'>\n",
      "<class 'int'>\n",
      "<class 'int'>\n",
      "<class 'int'>\n",
      "<class 'int'>\n",
      "<class 'int'>\n",
      "<class 'int'>\n",
      "<class 'int'>\n",
      "<class 'int'>\n",
      "<class 'int'>\n",
      "<class 'int'>\n",
      "<class 'int'>\n",
      "<class 'int'>\n",
      "<class 'int'>\n",
      "<class 'int'>\n",
      "<class 'int'>\n",
      "<class 'int'>\n",
      "<class 'int'>\n",
      "<class 'int'>\n",
      "<class 'int'>\n",
      "<class 'int'>\n",
      "<class 'int'>\n",
      "<class 'int'>\n",
      "<class 'int'>\n",
      "<class 'int'>\n",
      "<class 'int'>\n",
      "<class 'int'>\n",
      "<class 'int'>\n",
      "<class 'int'>\n",
      "<class 'int'>\n",
      "<class 'int'>\n",
      "<class 'int'>\n",
      "<class 'int'>\n",
      "<class 'int'>\n",
      "<class 'int'>\n",
      "<class 'int'>\n",
      "<class 'int'>\n",
      "<class 'int'>\n",
      "<class 'int'>\n",
      "<class 'int'>\n",
      "<class 'int'>\n",
      "<class 'int'>\n",
      "<class 'int'>\n",
      "<class 'int'>\n",
      "<class 'int'>\n",
      "<class 'int'>\n",
      "<class 'int'>\n",
      "<class 'int'>\n",
      "<class 'int'>\n",
      "<class 'int'>\n",
      "<class 'int'>\n",
      "<class 'int'>\n",
      "<class 'int'>\n",
      "<class 'int'>\n",
      "<class 'int'>\n",
      "<class 'int'>\n",
      "<class 'int'>\n",
      "<class 'int'>\n",
      "<class 'int'>\n",
      "<class 'int'>\n",
      "<class 'int'>\n",
      "<class 'int'>\n",
      "<class 'int'>\n",
      "<class 'int'>\n",
      "<class 'int'>\n",
      "<class 'int'>\n",
      "<class 'int'>\n",
      "<class 'int'>\n",
      "<class 'int'>\n",
      "<class 'int'>\n",
      "<class 'int'>\n",
      "<class 'int'>\n",
      "<class 'int'>\n",
      "<class 'int'>\n",
      "<class 'int'>\n",
      "<class 'int'>\n",
      "<class 'int'>\n",
      "<class 'int'>\n",
      "<class 'int'>\n",
      "<class 'int'>\n",
      "<class 'int'>\n",
      "<class 'int'>\n",
      "<class 'int'>\n",
      "<class 'int'>\n",
      "<class 'int'>\n",
      "<class 'int'>\n",
      "<class 'int'>\n",
      "<class 'int'>\n",
      "<class 'int'>\n",
      "<class 'int'>\n",
      "<class 'int'>\n",
      "<class 'int'>\n",
      "<class 'int'>\n",
      "<class 'int'>\n",
      "<class 'int'>\n",
      "<class 'int'>\n",
      "<class 'int'>\n",
      "<class 'int'>\n",
      "<class 'int'>\n",
      "<class 'int'>\n",
      "<class 'int'>\n",
      "<class 'int'>\n",
      "<class 'int'>\n",
      "<class 'int'>\n",
      "<class 'int'>\n",
      "<class 'int'>\n",
      "<class 'int'>\n",
      "<class 'int'>\n",
      "<class 'int'>\n",
      "<class 'int'>\n",
      "<class 'int'>\n",
      "<class 'int'>\n",
      "<class 'int'>\n",
      "<class 'int'>\n",
      "<class 'int'>\n",
      "<class 'int'>\n",
      "<class 'int'>\n",
      "<class 'int'>\n",
      "<class 'int'>\n",
      "<class 'int'>\n",
      "<class 'int'>\n",
      "<class 'int'>\n",
      "<class 'int'>\n",
      "<class 'int'>\n",
      "<class 'int'>\n",
      "<class 'int'>\n",
      "<class 'int'>\n",
      "<class 'int'>\n",
      "<class 'int'>\n",
      "<class 'int'>\n",
      "<class 'int'>\n",
      "<class 'int'>\n",
      "<class 'int'>\n",
      "<class 'int'>\n",
      "<class 'int'>\n",
      "<class 'int'>\n",
      "<class 'int'>\n",
      "<class 'int'>\n",
      "<class 'int'>\n",
      "<class 'int'>\n",
      "<class 'int'>\n",
      "<class 'int'>\n",
      "<class 'int'>\n",
      "<class 'int'>\n",
      "<class 'int'>\n",
      "<class 'int'>\n",
      "<class 'int'>\n",
      "<class 'int'>\n",
      "<class 'int'>\n",
      "<class 'int'>\n",
      "<class 'int'>\n",
      "<class 'int'>\n",
      "<class 'int'>\n",
      "<class 'int'>\n",
      "<class 'int'>\n",
      "<class 'int'>\n",
      "<class 'int'>\n",
      "<class 'int'>\n",
      "<class 'int'>\n",
      "<class 'int'>\n",
      "<class 'int'>\n",
      "<class 'int'>\n",
      "<class 'int'>\n",
      "<class 'int'>\n",
      "<class 'int'>\n",
      "<class 'int'>\n",
      "<class 'int'>\n",
      "<class 'int'>\n",
      "<class 'int'>\n",
      "<class 'int'>\n",
      "<class 'int'>\n",
      "<class 'int'>\n",
      "<class 'int'>\n",
      "<class 'int'>\n",
      "<class 'int'>\n",
      "<class 'int'>\n",
      "<class 'int'>\n",
      "<class 'int'>\n",
      "<class 'int'>\n",
      "<class 'int'>\n",
      "<class 'int'>\n",
      "<class 'int'>\n",
      "<class 'int'>\n",
      "<class 'int'>\n",
      "<class 'int'>\n",
      "<class 'int'>\n",
      "<class 'int'>\n",
      "<class 'int'>\n",
      "<class 'int'>\n",
      "<class 'int'>\n",
      "<class 'int'>\n",
      "<class 'int'>\n",
      "<class 'int'>\n",
      "<class 'int'>\n",
      "<class 'int'>\n",
      "<class 'int'>\n",
      "<class 'int'>\n",
      "<class 'int'>\n",
      "<class 'int'>\n",
      "<class 'int'>\n",
      "<class 'int'>\n",
      "<class 'int'>\n",
      "<class 'int'>\n",
      "<class 'int'>\n",
      "<class 'int'>\n",
      "<class 'int'>\n",
      "<class 'int'>\n",
      "<class 'int'>\n",
      "<class 'int'>\n",
      "<class 'int'>\n",
      "<class 'int'>\n",
      "<class 'int'>\n",
      "<class 'int'>\n",
      "<class 'int'>\n",
      "<class 'int'>\n",
      "<class 'int'>\n",
      "<class 'int'>\n",
      "<class 'int'>\n",
      "<class 'int'>\n",
      "<class 'int'>\n",
      "<class 'int'>\n",
      "<class 'int'>\n",
      "<class 'int'>\n",
      "<class 'int'>\n",
      "<class 'int'>\n",
      "<class 'int'>\n",
      "<class 'int'>\n",
      "<class 'int'>\n",
      "<class 'int'>\n",
      "<class 'int'>\n",
      "<class 'int'>\n",
      "<class 'int'>\n",
      "<class 'int'>\n",
      "<class 'int'>\n",
      "<class 'int'>\n",
      "<class 'int'>\n",
      "<class 'int'>\n",
      "<class 'int'>\n",
      "<class 'int'>\n",
      "<class 'int'>\n",
      "<class 'int'>\n",
      "<class 'int'>\n",
      "<class 'int'>\n",
      "<class 'int'>\n",
      "<class 'int'>\n",
      "<class 'int'>\n",
      "<class 'int'>\n",
      "<class 'int'>\n",
      "<class 'int'>\n",
      "<class 'int'>\n",
      "<class 'int'>\n",
      "<class 'int'>\n",
      "<class 'int'>\n",
      "<class 'int'>\n",
      "<class 'int'>\n",
      "<class 'int'>\n",
      "<class 'int'>\n",
      "<class 'int'>\n",
      "<class 'int'>\n",
      "<class 'int'>\n",
      "<class 'int'>\n",
      "<class 'int'>\n",
      "<class 'int'>\n",
      "<class 'int'>\n",
      "<class 'int'>\n",
      "<class 'int'>\n",
      "<class 'int'>\n",
      "<class 'int'>\n",
      "<class 'int'>\n",
      "<class 'int'>\n",
      "<class 'int'>\n",
      "<class 'int'>\n",
      "<class 'int'>\n",
      "<class 'int'>\n",
      "<class 'int'>\n",
      "<class 'int'>\n",
      "<class 'int'>\n",
      "<class 'int'>\n",
      "<class 'int'>\n",
      "<class 'int'>\n",
      "<class 'int'>\n",
      "<class 'int'>\n",
      "<class 'int'>\n",
      "<class 'int'>\n",
      "<class 'int'>\n",
      "<class 'int'>\n",
      "<class 'int'>\n",
      "<class 'int'>\n",
      "<class 'int'>\n",
      "<class 'int'>\n",
      "<class 'int'>\n",
      "<class 'int'>\n",
      "<class 'int'>\n",
      "<class 'int'>\n",
      "<class 'int'>\n",
      "<class 'int'>\n",
      "<class 'int'>\n",
      "<class 'int'>\n",
      "<class 'int'>\n",
      "<class 'int'>\n",
      "<class 'int'>\n",
      "<class 'int'>\n",
      "<class 'int'>\n",
      "<class 'int'>\n",
      "<class 'int'>\n",
      "<class 'int'>\n",
      "<class 'int'>\n",
      "<class 'int'>\n",
      "<class 'int'>\n",
      "<class 'int'>\n",
      "<class 'int'>\n",
      "<class 'int'>\n",
      "<class 'int'>\n",
      "<class 'int'>\n",
      "<class 'int'>\n",
      "<class 'int'>\n",
      "<class 'int'>\n",
      "<class 'int'>\n",
      "<class 'int'>\n",
      "<class 'int'>\n",
      "<class 'int'>\n",
      "<class 'int'>\n",
      "<class 'int'>\n",
      "<class 'int'>\n",
      "<class 'int'>\n",
      "<class 'int'>\n",
      "<class 'int'>\n",
      "<class 'int'>\n",
      "<class 'int'>\n",
      "<class 'int'>\n",
      "<class 'int'>\n",
      "<class 'int'>\n",
      "<class 'int'>\n",
      "<class 'int'>\n",
      "<class 'int'>\n",
      "<class 'int'>\n",
      "<class 'int'>\n",
      "<class 'int'>\n",
      "<class 'int'>\n",
      "<class 'int'>\n",
      "<class 'int'>\n",
      "<class 'int'>\n",
      "<class 'int'>\n",
      "<class 'int'>\n",
      "<class 'int'>\n",
      "<class 'int'>\n",
      "<class 'int'>\n",
      "<class 'int'>\n",
      "<class 'int'>\n",
      "<class 'int'>\n",
      "<class 'int'>\n",
      "<class 'int'>\n",
      "<class 'int'>\n",
      "<class 'int'>\n",
      "<class 'int'>\n",
      "<class 'int'>\n",
      "<class 'int'>\n",
      "<class 'int'>\n",
      "<class 'int'>\n",
      "<class 'int'>\n",
      "<class 'int'>\n",
      "<class 'int'>\n",
      "<class 'int'>\n",
      "<class 'int'>\n",
      "<class 'int'>\n",
      "<class 'int'>\n",
      "<class 'int'>\n",
      "<class 'int'>\n",
      "<class 'int'>\n",
      "<class 'int'>\n",
      "<class 'int'>\n",
      "<class 'int'>\n",
      "<class 'int'>\n",
      "<class 'int'>\n",
      "<class 'int'>\n",
      "<class 'int'>\n",
      "<class 'int'>\n",
      "<class 'int'>\n",
      "<class 'int'>\n",
      "<class 'int'>\n",
      "<class 'int'>\n",
      "<class 'int'>\n",
      "<class 'int'>\n",
      "<class 'int'>\n",
      "<class 'int'>\n",
      "<class 'int'>\n",
      "<class 'int'>\n",
      "<class 'int'>\n",
      "<class 'int'>\n",
      "<class 'int'>\n",
      "<class 'int'>\n",
      "<class 'int'>\n",
      "<class 'int'>\n",
      "<class 'int'>\n",
      "<class 'int'>\n",
      "<class 'int'>\n",
      "<class 'int'>\n",
      "<class 'int'>\n",
      "<class 'int'>\n",
      "<class 'int'>\n",
      "<class 'int'>\n",
      "<class 'int'>\n",
      "<class 'int'>\n",
      "<class 'int'>\n",
      "<class 'int'>\n",
      "<class 'int'>\n",
      "<class 'int'>\n",
      "<class 'int'>\n",
      "<class 'int'>\n",
      "<class 'int'>\n",
      "<class 'int'>\n",
      "<class 'int'>\n",
      "<class 'int'>\n",
      "<class 'int'>\n",
      "<class 'int'>\n",
      "<class 'int'>\n",
      "<class 'int'>\n",
      "<class 'int'>\n",
      "<class 'int'>\n",
      "<class 'int'>\n",
      "<class 'int'>\n",
      "<class 'int'>\n",
      "<class 'int'>\n",
      "<class 'int'>\n",
      "<class 'int'>\n",
      "<class 'int'>\n",
      "<class 'int'>\n",
      "<class 'int'>\n",
      "<class 'int'>\n",
      "<class 'int'>\n",
      "<class 'int'>\n",
      "<class 'int'>\n",
      "<class 'int'>\n",
      "<class 'int'>\n",
      "<class 'int'>\n",
      "<class 'int'>\n",
      "<class 'int'>\n",
      "<class 'int'>\n",
      "<class 'int'>\n",
      "<class 'int'>\n",
      "<class 'int'>\n",
      "<class 'int'>\n",
      "<class 'int'>\n",
      "<class 'int'>\n",
      "<class 'int'>\n",
      "<class 'int'>\n",
      "<class 'int'>\n",
      "<class 'int'>\n",
      "<class 'int'>\n",
      "<class 'int'>\n",
      "<class 'int'>\n",
      "<class 'int'>\n",
      "<class 'int'>\n",
      "<class 'int'>\n",
      "<class 'int'>\n",
      "<class 'int'>\n",
      "<class 'int'>\n",
      "<class 'int'>\n",
      "<class 'int'>\n",
      "<class 'int'>\n",
      "<class 'int'>\n",
      "<class 'int'>\n",
      "<class 'int'>\n",
      "<class 'int'>\n",
      "<class 'int'>\n",
      "<class 'int'>\n",
      "<class 'int'>\n",
      "<class 'int'>\n",
      "<class 'int'>\n",
      "<class 'int'>\n",
      "<class 'int'>\n",
      "<class 'int'>\n",
      "<class 'int'>\n",
      "<class 'int'>\n",
      "<class 'int'>\n",
      "<class 'int'>\n",
      "<class 'int'>\n",
      "<class 'int'>\n",
      "<class 'int'>\n",
      "<class 'int'>\n",
      "<class 'int'>\n",
      "<class 'int'>\n",
      "<class 'int'>\n",
      "<class 'int'>\n",
      "<class 'int'>\n",
      "<class 'int'>\n",
      "<class 'int'>\n",
      "<class 'int'>\n",
      "<class 'int'>\n",
      "<class 'int'>\n",
      "<class 'int'>\n",
      "<class 'int'>\n",
      "<class 'int'>\n",
      "<class 'int'>\n",
      "<class 'int'>\n",
      "<class 'int'>\n",
      "<class 'int'>\n",
      "<class 'int'>\n",
      "<class 'int'>\n",
      "<class 'int'>\n",
      "<class 'int'>\n",
      "<class 'int'>\n",
      "<class 'int'>\n",
      "<class 'int'>\n",
      "<class 'int'>\n",
      "<class 'int'>\n",
      "<class 'int'>\n",
      "<class 'int'>\n",
      "<class 'int'>\n",
      "<class 'int'>\n",
      "<class 'int'>\n",
      "<class 'int'>\n",
      "<class 'int'>\n",
      "<class 'int'>\n",
      "<class 'int'>\n",
      "<class 'int'>\n",
      "<class 'int'>\n",
      "<class 'int'>\n",
      "<class 'int'>\n",
      "<class 'int'>\n",
      "<class 'int'>\n",
      "<class 'int'>\n",
      "<class 'int'>\n",
      "<class 'int'>\n",
      "<class 'int'>\n",
      "<class 'int'>\n",
      "<class 'int'>\n",
      "<class 'int'>\n",
      "<class 'int'>\n",
      "<class 'int'>\n",
      "<class 'int'>\n",
      "<class 'int'>\n",
      "<class 'int'>\n",
      "<class 'int'>\n",
      "<class 'int'>\n",
      "<class 'int'>\n",
      "<class 'int'>\n",
      "<class 'int'>\n",
      "<class 'int'>\n",
      "<class 'int'>\n",
      "<class 'int'>\n",
      "<class 'int'>\n",
      "<class 'int'>\n",
      "<class 'int'>\n",
      "<class 'int'>\n",
      "<class 'int'>\n",
      "<class 'int'>\n",
      "<class 'int'>\n",
      "<class 'int'>\n",
      "<class 'int'>\n",
      "<class 'int'>\n",
      "<class 'int'>\n",
      "<class 'int'>\n",
      "<class 'int'>\n",
      "<class 'int'>\n",
      "<class 'int'>\n",
      "<class 'int'>\n",
      "<class 'int'>\n",
      "<class 'int'>\n",
      "<class 'int'>\n",
      "<class 'int'>\n",
      "<class 'int'>\n",
      "<class 'int'>\n",
      "<class 'int'>\n",
      "<class 'int'>\n",
      "<class 'int'>\n",
      "<class 'int'>\n",
      "<class 'int'>\n",
      "<class 'int'>\n",
      "<class 'int'>\n",
      "<class 'int'>\n",
      "<class 'int'>\n",
      "<class 'int'>\n",
      "<class 'int'>\n",
      "<class 'int'>\n",
      "<class 'int'>\n",
      "<class 'int'>\n",
      "<class 'int'>\n",
      "<class 'int'>\n",
      "<class 'int'>\n",
      "<class 'int'>\n",
      "<class 'int'>\n",
      "<class 'int'>\n",
      "<class 'int'>\n",
      "<class 'int'>\n",
      "<class 'int'>\n",
      "<class 'int'>\n",
      "<class 'int'>\n",
      "<class 'int'>\n",
      "<class 'int'>\n",
      "<class 'int'>\n",
      "<class 'int'>\n",
      "<class 'int'>\n",
      "<class 'int'>\n",
      "<class 'int'>\n",
      "<class 'int'>\n",
      "<class 'int'>\n",
      "<class 'int'>\n",
      "<class 'int'>\n",
      "<class 'int'>\n",
      "<class 'int'>\n",
      "<class 'int'>\n",
      "<class 'int'>\n",
      "<class 'int'>\n",
      "<class 'int'>\n",
      "<class 'int'>\n",
      "<class 'int'>\n",
      "<class 'int'>\n",
      "<class 'int'>\n",
      "<class 'int'>\n",
      "<class 'int'>\n",
      "<class 'int'>\n",
      "<class 'int'>\n",
      "<class 'int'>\n",
      "<class 'int'>\n",
      "<class 'int'>\n",
      "<class 'int'>\n",
      "<class 'int'>\n",
      "<class 'int'>\n",
      "<class 'int'>\n",
      "<class 'int'>\n",
      "<class 'int'>\n",
      "<class 'int'>\n",
      "<class 'int'>\n",
      "<class 'int'>\n",
      "<class 'int'>\n",
      "<class 'int'>\n",
      "<class 'int'>\n",
      "<class 'int'>\n",
      "<class 'int'>\n",
      "<class 'int'>\n",
      "<class 'int'>\n",
      "<class 'int'>\n",
      "<class 'int'>\n",
      "<class 'int'>\n",
      "<class 'int'>\n",
      "<class 'int'>\n",
      "<class 'int'>\n",
      "<class 'int'>\n",
      "<class 'int'>\n",
      "<class 'int'>\n",
      "<class 'int'>\n",
      "<class 'int'>\n",
      "<class 'int'>\n",
      "<class 'int'>\n",
      "<class 'int'>\n",
      "<class 'int'>\n",
      "<class 'int'>\n",
      "<class 'int'>\n",
      "<class 'int'>\n",
      "<class 'int'>\n",
      "<class 'int'>\n",
      "<class 'int'>\n",
      "<class 'int'>\n",
      "<class 'int'>\n",
      "<class 'int'>\n",
      "<class 'int'>\n",
      "<class 'int'>\n",
      "<class 'int'>\n",
      "<class 'int'>\n",
      "<class 'int'>\n",
      "<class 'int'>\n",
      "<class 'int'>\n",
      "<class 'int'>\n",
      "<class 'int'>\n",
      "<class 'int'>\n",
      "<class 'int'>\n",
      "<class 'int'>\n",
      "<class 'int'>\n",
      "<class 'int'>\n",
      "<class 'int'>\n",
      "<class 'int'>\n",
      "<class 'int'>\n",
      "<class 'int'>\n",
      "<class 'int'>\n",
      "<class 'int'>\n",
      "<class 'int'>\n",
      "<class 'int'>\n",
      "<class 'int'>\n",
      "<class 'int'>\n",
      "<class 'int'>\n",
      "<class 'int'>\n",
      "<class 'int'>\n",
      "<class 'int'>\n",
      "<class 'int'>\n",
      "<class 'int'>\n",
      "<class 'int'>\n",
      "<class 'int'>\n",
      "<class 'int'>\n",
      "<class 'int'>\n",
      "<class 'int'>\n",
      "<class 'int'>\n",
      "<class 'int'>\n",
      "<class 'int'>\n",
      "<class 'int'>\n",
      "<class 'int'>\n",
      "<class 'int'>\n",
      "<class 'int'>\n",
      "<class 'int'>\n",
      "<class 'int'>\n",
      "<class 'int'>\n",
      "<class 'int'>\n",
      "<class 'int'>\n",
      "<class 'int'>\n",
      "<class 'int'>\n",
      "<class 'int'>\n",
      "<class 'int'>\n",
      "<class 'int'>\n",
      "<class 'int'>\n",
      "<class 'int'>\n",
      "<class 'int'>\n",
      "<class 'int'>\n",
      "<class 'int'>\n",
      "<class 'int'>\n",
      "<class 'int'>\n",
      "<class 'int'>\n",
      "<class 'int'>\n",
      "<class 'int'>\n",
      "<class 'int'>\n",
      "<class 'int'>\n",
      "<class 'int'>\n",
      "<class 'int'>\n",
      "<class 'int'>\n",
      "<class 'int'>\n",
      "<class 'int'>\n",
      "<class 'int'>\n",
      "<class 'int'>\n",
      "<class 'int'>\n",
      "<class 'int'>\n",
      "<class 'int'>\n",
      "<class 'int'>\n",
      "<class 'int'>\n",
      "<class 'int'>\n",
      "<class 'int'>\n",
      "<class 'int'>\n",
      "<class 'int'>\n",
      "<class 'int'>\n",
      "<class 'int'>\n",
      "<class 'int'>\n",
      "<class 'int'>\n",
      "<class 'int'>\n",
      "<class 'int'>\n",
      "<class 'int'>\n",
      "<class 'int'>\n",
      "<class 'int'>\n",
      "<class 'int'>\n",
      "<class 'int'>\n",
      "<class 'int'>\n",
      "<class 'int'>\n",
      "<class 'int'>\n",
      "<class 'int'>\n",
      "<class 'int'>\n",
      "<class 'int'>\n",
      "<class 'int'>\n",
      "<class 'int'>\n",
      "<class 'int'>\n",
      "<class 'int'>\n",
      "<class 'int'>\n",
      "<class 'int'>\n",
      "<class 'int'>\n",
      "<class 'int'>\n",
      "<class 'int'>\n",
      "<class 'int'>\n",
      "<class 'int'>\n",
      "<class 'int'>\n",
      "<class 'int'>\n",
      "<class 'int'>\n",
      "<class 'int'>\n",
      "<class 'int'>\n",
      "<class 'int'>\n",
      "<class 'int'>\n",
      "<class 'int'>\n",
      "<class 'int'>\n",
      "<class 'int'>\n",
      "<class 'int'>\n",
      "<class 'int'>\n",
      "<class 'int'>\n",
      "<class 'int'>\n",
      "<class 'int'>\n",
      "<class 'int'>\n",
      "<class 'int'>\n",
      "<class 'int'>\n",
      "<class 'int'>\n",
      "<class 'int'>\n",
      "<class 'int'>\n",
      "<class 'int'>\n",
      "<class 'int'>\n",
      "<class 'int'>\n",
      "<class 'int'>\n",
      "<class 'int'>\n",
      "<class 'int'>\n",
      "<class 'int'>\n",
      "<class 'int'>\n",
      "<class 'int'>\n",
      "<class 'int'>\n",
      "<class 'int'>\n",
      "<class 'int'>\n",
      "<class 'int'>\n",
      "<class 'int'>\n",
      "<class 'int'>\n",
      "<class 'int'>\n",
      "<class 'int'>\n",
      "<class 'int'>\n",
      "<class 'int'>\n",
      "<class 'int'>\n",
      "<class 'int'>\n",
      "<class 'int'>\n",
      "<class 'int'>\n",
      "<class 'int'>\n",
      "<class 'int'>\n",
      "<class 'int'>\n",
      "<class 'int'>\n",
      "<class 'int'>\n",
      "<class 'int'>\n",
      "<class 'int'>\n",
      "<class 'int'>\n",
      "<class 'int'>\n",
      "<class 'int'>\n",
      "<class 'int'>\n",
      "<class 'int'>\n",
      "<class 'int'>\n",
      "<class 'int'>\n",
      "<class 'int'>\n",
      "<class 'int'>\n",
      "<class 'int'>\n",
      "<class 'int'>\n",
      "<class 'int'>\n",
      "<class 'int'>\n",
      "<class 'int'>\n",
      "<class 'int'>\n",
      "<class 'int'>\n",
      "<class 'int'>\n",
      "<class 'int'>\n",
      "<class 'int'>\n",
      "<class 'int'>\n",
      "<class 'int'>\n",
      "<class 'int'>\n",
      "<class 'int'>\n",
      "<class 'int'>\n",
      "<class 'int'>\n",
      "<class 'int'>\n",
      "<class 'int'>\n",
      "<class 'int'>\n",
      "<class 'int'>\n",
      "<class 'int'>\n",
      "<class 'int'>\n",
      "<class 'int'>\n",
      "<class 'int'>\n",
      "<class 'int'>\n",
      "<class 'int'>\n",
      "<class 'int'>\n",
      "<class 'int'>\n",
      "<class 'int'>\n",
      "<class 'int'>\n",
      "<class 'int'>\n",
      "<class 'int'>\n",
      "<class 'int'>\n",
      "<class 'int'>\n",
      "<class 'int'>\n",
      "<class 'int'>\n",
      "<class 'int'>\n",
      "<class 'int'>\n",
      "<class 'int'>\n",
      "<class 'int'>\n",
      "<class 'int'>\n",
      "<class 'int'>\n",
      "<class 'int'>\n",
      "<class 'int'>\n",
      "<class 'int'>\n",
      "<class 'int'>\n",
      "<class 'int'>\n",
      "<class 'int'>\n",
      "<class 'int'>\n",
      "<class 'int'>\n",
      "<class 'int'>\n",
      "<class 'int'>\n",
      "<class 'int'>\n",
      "<class 'int'>\n",
      "<class 'int'>\n",
      "<class 'int'>\n",
      "<class 'int'>\n",
      "<class 'int'>\n",
      "<class 'int'>\n",
      "<class 'int'>\n",
      "<class 'int'>\n",
      "<class 'int'>\n",
      "<class 'int'>\n",
      "<class 'int'>\n",
      "<class 'int'>\n",
      "<class 'int'>\n",
      "<class 'int'>\n",
      "<class 'int'>\n",
      "<class 'int'>\n",
      "<class 'int'>\n",
      "<class 'int'>\n",
      "<class 'int'>\n",
      "<class 'int'>\n",
      "<class 'int'>\n",
      "<class 'int'>\n",
      "<class 'int'>\n",
      "<class 'int'>\n",
      "<class 'int'>\n",
      "<class 'int'>\n",
      "<class 'int'>\n",
      "<class 'int'>\n",
      "<class 'int'>\n",
      "<class 'int'>\n",
      "<class 'int'>\n",
      "<class 'int'>\n",
      "<class 'int'>\n",
      "<class 'int'>\n",
      "<class 'int'>\n",
      "<class 'int'>\n",
      "<class 'int'>\n",
      "<class 'int'>\n",
      "<class 'int'>\n",
      "<class 'int'>\n",
      "<class 'int'>\n",
      "<class 'int'>\n",
      "<class 'int'>\n",
      "<class 'int'>\n",
      "<class 'int'>\n",
      "<class 'int'>\n",
      "<class 'int'>\n",
      "<class 'int'>\n",
      "<class 'int'>\n",
      "<class 'int'>\n",
      "<class 'int'>\n",
      "<class 'int'>\n",
      "<class 'int'>\n",
      "<class 'int'>\n",
      "<class 'int'>\n",
      "<class 'int'>\n",
      "<class 'int'>\n",
      "<class 'int'>\n",
      "<class 'int'>\n",
      "<class 'int'>\n",
      "<class 'int'>\n",
      "<class 'int'>\n",
      "<class 'int'>\n",
      "<class 'int'>\n",
      "<class 'int'>\n",
      "<class 'int'>\n",
      "<class 'int'>\n",
      "<class 'int'>\n",
      "<class 'int'>\n",
      "<class 'int'>\n",
      "<class 'int'>\n",
      "<class 'int'>\n",
      "<class 'int'>\n",
      "<class 'int'>\n",
      "<class 'int'>\n",
      "<class 'int'>\n",
      "<class 'int'>\n",
      "<class 'int'>\n",
      "<class 'int'>\n",
      "<class 'int'>\n",
      "<class 'int'>\n",
      "<class 'int'>\n",
      "<class 'int'>\n",
      "<class 'int'>\n",
      "<class 'int'>\n",
      "<class 'int'>\n",
      "<class 'int'>\n",
      "<class 'int'>\n",
      "<class 'int'>\n",
      "<class 'int'>\n",
      "<class 'int'>\n",
      "<class 'int'>\n",
      "<class 'int'>\n",
      "<class 'int'>\n",
      "<class 'int'>\n",
      "<class 'int'>\n",
      "<class 'int'>\n",
      "<class 'int'>\n",
      "<class 'int'>\n",
      "<class 'int'>\n",
      "<class 'int'>\n",
      "<class 'int'>\n",
      "<class 'int'>\n",
      "<class 'int'>\n",
      "<class 'int'>\n",
      "<class 'int'>\n",
      "<class 'int'>\n",
      "<class 'int'>\n",
      "<class 'int'>\n",
      "<class 'int'>\n",
      "<class 'int'>\n",
      "<class 'int'>\n",
      "<class 'int'>\n",
      "<class 'int'>\n",
      "<class 'int'>\n",
      "<class 'int'>\n",
      "<class 'int'>\n",
      "<class 'int'>\n",
      "<class 'int'>\n",
      "<class 'int'>\n",
      "<class 'int'>\n",
      "<class 'int'>\n",
      "<class 'int'>\n",
      "<class 'int'>\n",
      "<class 'int'>\n",
      "<class 'int'>\n",
      "<class 'int'>\n",
      "<class 'int'>\n",
      "<class 'int'>\n",
      "<class 'int'>\n",
      "<class 'int'>\n",
      "<class 'int'>\n",
      "<class 'int'>\n",
      "<class 'int'>\n",
      "<class 'int'>\n",
      "<class 'int'>\n",
      "<class 'int'>\n",
      "<class 'int'>\n",
      "<class 'int'>\n",
      "<class 'int'>\n",
      "<class 'int'>\n",
      "<class 'int'>\n",
      "<class 'int'>\n",
      "<class 'int'>\n",
      "<class 'int'>\n",
      "<class 'int'>\n",
      "<class 'int'>\n",
      "<class 'int'>\n",
      "<class 'int'>\n",
      "<class 'int'>\n",
      "<class 'int'>\n",
      "<class 'int'>\n",
      "<class 'int'>\n",
      "<class 'int'>\n",
      "<class 'int'>\n",
      "<class 'int'>\n",
      "<class 'int'>\n",
      "<class 'int'>\n",
      "<class 'int'>\n",
      "<class 'int'>\n",
      "<class 'int'>\n",
      "<class 'int'>\n",
      "<class 'int'>\n",
      "<class 'int'>\n",
      "<class 'int'>\n",
      "<class 'int'>\n",
      "<class 'int'>\n",
      "<class 'int'>\n",
      "<class 'int'>\n",
      "<class 'int'>\n",
      "<class 'int'>\n",
      "<class 'int'>\n",
      "<class 'int'>\n",
      "<class 'int'>\n",
      "<class 'int'>\n",
      "<class 'int'>\n",
      "<class 'int'>\n",
      "<class 'int'>\n",
      "<class 'int'>\n",
      "<class 'int'>\n",
      "<class 'int'>\n",
      "<class 'int'>\n",
      "<class 'int'>\n",
      "<class 'int'>\n",
      "<class 'int'>\n",
      "<class 'int'>\n",
      "<class 'int'>\n",
      "<class 'int'>\n",
      "<class 'int'>\n",
      "<class 'int'>\n",
      "<class 'int'>\n",
      "<class 'int'>\n",
      "<class 'int'>\n",
      "<class 'int'>\n",
      "<class 'int'>\n",
      "<class 'int'>\n",
      "<class 'int'>\n",
      "<class 'int'>\n",
      "<class 'int'>\n",
      "<class 'int'>\n",
      "<class 'int'>\n",
      "<class 'int'>\n",
      "<class 'int'>\n",
      "<class 'int'>\n",
      "<class 'int'>\n",
      "<class 'int'>\n",
      "<class 'int'>\n",
      "<class 'int'>\n",
      "<class 'int'>\n",
      "<class 'int'>\n",
      "<class 'int'>\n",
      "<class 'int'>\n",
      "<class 'int'>\n",
      "<class 'int'>\n",
      "<class 'int'>\n",
      "<class 'int'>\n",
      "<class 'int'>\n",
      "<class 'int'>\n",
      "<class 'int'>\n",
      "<class 'int'>\n",
      "<class 'int'>\n",
      "<class 'int'>\n",
      "<class 'int'>\n",
      "<class 'int'>\n",
      "<class 'int'>\n",
      "<class 'int'>\n",
      "<class 'int'>\n",
      "<class 'int'>\n",
      "<class 'int'>\n",
      "<class 'int'>\n",
      "<class 'int'>\n",
      "<class 'int'>\n",
      "<class 'int'>\n",
      "<class 'int'>\n",
      "<class 'int'>\n",
      "<class 'int'>\n",
      "<class 'int'>\n",
      "<class 'int'>\n",
      "<class 'int'>\n",
      "<class 'int'>\n",
      "<class 'int'>\n",
      "<class 'int'>\n",
      "<class 'int'>\n",
      "<class 'int'>\n",
      "<class 'int'>\n",
      "<class 'int'>\n",
      "<class 'int'>\n",
      "<class 'int'>\n",
      "<class 'int'>\n",
      "<class 'int'>\n",
      "<class 'int'>\n",
      "<class 'int'>\n",
      "<class 'int'>\n",
      "<class 'int'>\n",
      "<class 'int'>\n",
      "<class 'int'>\n",
      "<class 'int'>\n",
      "<class 'int'>\n",
      "<class 'int'>\n",
      "<class 'int'>\n",
      "<class 'int'>\n",
      "<class 'int'>\n",
      "<class 'int'>\n",
      "<class 'int'>\n",
      "<class 'int'>\n",
      "<class 'int'>\n",
      "<class 'int'>\n",
      "<class 'int'>\n",
      "<class 'int'>\n",
      "<class 'int'>\n",
      "<class 'int'>\n",
      "<class 'int'>\n",
      "<class 'int'>\n",
      "<class 'int'>\n",
      "<class 'int'>\n",
      "<class 'int'>\n",
      "<class 'int'>\n",
      "<class 'int'>\n",
      "<class 'int'>\n",
      "<class 'int'>\n",
      "<class 'int'>\n",
      "<class 'int'>\n",
      "<class 'int'>\n",
      "<class 'int'>\n",
      "<class 'int'>\n",
      "<class 'int'>\n",
      "<class 'int'>\n",
      "<class 'int'>\n",
      "<class 'int'>\n",
      "<class 'int'>\n",
      "<class 'int'>\n",
      "<class 'int'>\n",
      "<class 'int'>\n",
      "<class 'int'>\n",
      "<class 'int'>\n",
      "<class 'int'>\n",
      "<class 'int'>\n",
      "<class 'int'>\n",
      "<class 'int'>\n",
      "<class 'int'>\n",
      "<class 'int'>\n",
      "<class 'int'>\n",
      "<class 'int'>\n",
      "<class 'int'>\n",
      "<class 'int'>\n",
      "<class 'int'>\n",
      "<class 'int'>\n",
      "<class 'int'>\n",
      "<class 'int'>\n",
      "<class 'int'>\n",
      "<class 'int'>\n",
      "<class 'int'>\n",
      "<class 'int'>\n",
      "<class 'int'>\n",
      "<class 'int'>\n",
      "<class 'int'>\n",
      "<class 'int'>\n",
      "<class 'int'>\n",
      "<class 'int'>\n",
      "<class 'int'>\n",
      "<class 'int'>\n",
      "<class 'int'>\n",
      "<class 'int'>\n",
      "<class 'int'>\n",
      "<class 'int'>\n",
      "<class 'int'>\n",
      "<class 'int'>\n",
      "<class 'int'>\n",
      "<class 'int'>\n",
      "<class 'int'>\n",
      "<class 'int'>\n",
      "<class 'int'>\n",
      "<class 'int'>\n",
      "<class 'int'>\n",
      "<class 'int'>\n",
      "<class 'int'>\n",
      "<class 'int'>\n",
      "<class 'int'>\n",
      "<class 'int'>\n",
      "<class 'int'>\n",
      "<class 'int'>\n",
      "<class 'int'>\n",
      "<class 'int'>\n",
      "<class 'int'>\n",
      "<class 'int'>\n",
      "<class 'int'>\n",
      "<class 'int'>\n",
      "<class 'int'>\n",
      "<class 'int'>\n",
      "<class 'int'>\n",
      "<class 'int'>\n",
      "<class 'int'>\n",
      "<class 'int'>\n",
      "<class 'int'>\n",
      "<class 'int'>\n",
      "<class 'int'>\n",
      "<class 'int'>\n",
      "<class 'int'>\n",
      "<class 'int'>\n",
      "<class 'int'>\n",
      "<class 'int'>\n",
      "<class 'int'>\n",
      "<class 'int'>\n",
      "<class 'int'>\n",
      "<class 'int'>\n",
      "<class 'int'>\n",
      "<class 'int'>\n",
      "<class 'int'>\n",
      "<class 'int'>\n",
      "<class 'int'>\n",
      "<class 'int'>\n",
      "<class 'int'>\n",
      "<class 'int'>\n",
      "<class 'int'>\n",
      "<class 'int'>\n",
      "<class 'int'>\n",
      "<class 'int'>\n",
      "<class 'int'>\n",
      "<class 'int'>\n",
      "<class 'int'>\n",
      "<class 'int'>\n",
      "<class 'int'>\n",
      "<class 'int'>\n",
      "<class 'int'>\n",
      "<class 'int'>\n",
      "<class 'int'>\n",
      "<class 'int'>\n",
      "<class 'int'>\n",
      "<class 'int'>\n",
      "<class 'int'>\n",
      "<class 'int'>\n",
      "<class 'int'>\n",
      "<class 'int'>\n",
      "<class 'int'>\n",
      "<class 'int'>\n",
      "<class 'int'>\n",
      "<class 'int'>\n",
      "<class 'int'>\n",
      "<class 'int'>\n",
      "<class 'int'>\n",
      "<class 'int'>\n",
      "<class 'int'>\n",
      "<class 'int'>\n",
      "<class 'int'>\n",
      "<class 'int'>\n",
      "<class 'int'>\n",
      "<class 'int'>\n",
      "<class 'int'>\n",
      "<class 'int'>\n",
      "<class 'int'>\n",
      "<class 'int'>\n",
      "<class 'int'>\n",
      "<class 'int'>\n",
      "<class 'int'>\n",
      "<class 'int'>\n",
      "<class 'int'>\n",
      "<class 'int'>\n",
      "<class 'int'>\n",
      "<class 'int'>\n",
      "<class 'int'>\n",
      "<class 'int'>\n",
      "<class 'int'>\n",
      "<class 'int'>\n",
      "<class 'int'>\n",
      "<class 'int'>\n",
      "<class 'int'>\n",
      "<class 'int'>\n",
      "<class 'int'>\n",
      "<class 'int'>\n",
      "<class 'int'>\n",
      "<class 'int'>\n",
      "<class 'int'>\n",
      "<class 'int'>\n",
      "<class 'int'>\n",
      "<class 'int'>\n",
      "<class 'int'>\n",
      "<class 'int'>\n",
      "<class 'int'>\n",
      "<class 'int'>\n",
      "<class 'int'>\n",
      "<class 'int'>\n",
      "<class 'int'>\n",
      "<class 'int'>\n",
      "<class 'int'>\n",
      "<class 'int'>\n",
      "<class 'int'>\n",
      "<class 'int'>\n",
      "<class 'int'>\n",
      "<class 'int'>\n",
      "<class 'int'>\n",
      "<class 'int'>\n",
      "<class 'int'>\n",
      "<class 'int'>\n",
      "<class 'int'>\n",
      "<class 'int'>\n",
      "<class 'int'>\n",
      "<class 'int'>\n",
      "<class 'int'>\n",
      "<class 'int'>\n",
      "<class 'int'>\n",
      "<class 'int'>\n",
      "<class 'int'>\n",
      "<class 'int'>\n",
      "<class 'int'>\n",
      "<class 'int'>\n",
      "<class 'int'>\n",
      "<class 'int'>\n",
      "<class 'int'>\n",
      "<class 'int'>\n",
      "<class 'int'>\n",
      "<class 'int'>\n",
      "<class 'int'>\n",
      "<class 'int'>\n",
      "<class 'int'>\n",
      "<class 'int'>\n",
      "<class 'int'>\n",
      "<class 'int'>\n",
      "<class 'int'>\n",
      "<class 'int'>\n",
      "<class 'int'>\n",
      "<class 'int'>\n",
      "<class 'int'>\n",
      "<class 'int'>\n",
      "<class 'int'>\n",
      "<class 'int'>\n",
      "<class 'int'>\n",
      "<class 'int'>\n",
      "<class 'int'>\n",
      "<class 'int'>\n",
      "<class 'int'>\n",
      "<class 'int'>\n",
      "<class 'int'>\n",
      "<class 'int'>\n",
      "<class 'int'>\n",
      "<class 'int'>\n",
      "<class 'int'>\n",
      "<class 'int'>\n",
      "<class 'int'>\n",
      "<class 'int'>\n",
      "<class 'int'>\n",
      "<class 'int'>\n",
      "<class 'int'>\n",
      "<class 'int'>\n",
      "<class 'int'>\n",
      "<class 'int'>\n",
      "<class 'int'>\n",
      "<class 'int'>\n",
      "<class 'int'>\n",
      "<class 'int'>\n",
      "<class 'int'>\n",
      "<class 'int'>\n",
      "<class 'int'>\n",
      "<class 'int'>\n",
      "<class 'int'>\n",
      "<class 'int'>\n",
      "<class 'int'>\n",
      "<class 'int'>\n",
      "<class 'int'>\n",
      "<class 'int'>\n",
      "<class 'int'>\n",
      "<class 'int'>\n",
      "<class 'int'>\n",
      "<class 'int'>\n",
      "<class 'int'>\n",
      "<class 'int'>\n",
      "<class 'int'>\n",
      "<class 'int'>\n",
      "<class 'int'>\n",
      "<class 'int'>\n",
      "<class 'int'>\n",
      "<class 'int'>\n",
      "<class 'int'>\n",
      "<class 'int'>\n",
      "<class 'int'>\n",
      "<class 'int'>\n",
      "<class 'int'>\n",
      "<class 'int'>\n",
      "<class 'int'>\n",
      "<class 'int'>\n",
      "<class 'int'>\n",
      "<class 'int'>\n",
      "<class 'int'>\n",
      "<class 'int'>\n",
      "<class 'int'>\n",
      "<class 'int'>\n",
      "<class 'int'>\n",
      "<class 'int'>\n",
      "<class 'int'>\n",
      "<class 'int'>\n",
      "<class 'int'>\n",
      "<class 'int'>\n",
      "<class 'int'>\n",
      "<class 'int'>\n",
      "<class 'int'>\n",
      "<class 'int'>\n",
      "<class 'int'>\n",
      "<class 'int'>\n",
      "<class 'int'>\n",
      "<class 'int'>\n",
      "<class 'int'>\n",
      "<class 'int'>\n",
      "<class 'int'>\n",
      "<class 'int'>\n",
      "<class 'int'>\n",
      "<class 'int'>\n",
      "<class 'int'>\n",
      "<class 'int'>\n",
      "<class 'int'>\n",
      "<class 'int'>\n",
      "<class 'int'>\n",
      "<class 'int'>\n",
      "<class 'int'>\n",
      "<class 'int'>\n",
      "<class 'int'>\n",
      "<class 'int'>\n",
      "<class 'int'>\n",
      "<class 'int'>\n",
      "<class 'int'>\n",
      "<class 'int'>\n",
      "<class 'int'>\n",
      "<class 'int'>\n",
      "<class 'int'>\n",
      "<class 'int'>\n",
      "<class 'int'>\n",
      "<class 'int'>\n",
      "<class 'int'>\n",
      "<class 'int'>\n",
      "<class 'int'>\n",
      "<class 'int'>\n",
      "<class 'int'>\n",
      "<class 'int'>\n",
      "<class 'int'>\n",
      "<class 'int'>\n",
      "<class 'int'>\n",
      "<class 'int'>\n",
      "<class 'int'>\n",
      "<class 'int'>\n",
      "<class 'int'>\n",
      "<class 'int'>\n",
      "<class 'int'>\n",
      "<class 'int'>\n",
      "<class 'int'>\n",
      "<class 'int'>\n",
      "<class 'int'>\n",
      "<class 'int'>\n",
      "<class 'int'>\n",
      "<class 'int'>\n",
      "<class 'int'>\n",
      "<class 'int'>\n",
      "<class 'int'>\n",
      "<class 'int'>\n",
      "<class 'int'>\n",
      "<class 'int'>\n",
      "<class 'int'>\n",
      "<class 'int'>\n",
      "<class 'int'>\n",
      "<class 'int'>\n",
      "<class 'int'>\n",
      "<class 'int'>\n",
      "<class 'int'>\n",
      "<class 'int'>\n",
      "<class 'int'>\n",
      "<class 'int'>\n",
      "<class 'int'>\n",
      "<class 'int'>\n",
      "<class 'int'>\n",
      "<class 'int'>\n",
      "<class 'int'>\n",
      "<class 'int'>\n",
      "<class 'int'>\n",
      "<class 'int'>\n",
      "<class 'int'>\n",
      "<class 'int'>\n",
      "<class 'int'>\n",
      "<class 'int'>\n",
      "<class 'int'>\n",
      "<class 'int'>\n",
      "<class 'int'>\n",
      "<class 'int'>\n",
      "<class 'int'>\n",
      "<class 'int'>\n",
      "<class 'int'>\n",
      "<class 'int'>\n",
      "<class 'int'>\n",
      "<class 'int'>\n",
      "<class 'int'>\n",
      "<class 'int'>\n",
      "<class 'int'>\n",
      "<class 'int'>\n",
      "<class 'int'>\n",
      "<class 'int'>\n",
      "<class 'int'>\n",
      "<class 'int'>\n",
      "<class 'int'>\n",
      "<class 'int'>\n",
      "<class 'int'>\n",
      "<class 'int'>\n",
      "<class 'int'>\n",
      "<class 'int'>\n",
      "<class 'int'>\n",
      "<class 'int'>\n",
      "<class 'int'>\n",
      "<class 'int'>\n",
      "<class 'int'>\n",
      "<class 'int'>\n",
      "<class 'int'>\n",
      "<class 'int'>\n",
      "<class 'int'>\n",
      "<class 'int'>\n",
      "<class 'int'>\n",
      "<class 'int'>\n",
      "<class 'int'>\n",
      "<class 'int'>\n",
      "<class 'int'>\n",
      "<class 'int'>\n",
      "<class 'int'>\n",
      "<class 'int'>\n",
      "<class 'int'>\n",
      "<class 'int'>\n",
      "<class 'int'>\n",
      "<class 'int'>\n",
      "<class 'int'>\n",
      "<class 'int'>\n",
      "<class 'int'>\n",
      "<class 'int'>\n",
      "<class 'int'>\n",
      "<class 'int'>\n",
      "<class 'int'>\n",
      "<class 'int'>\n",
      "<class 'int'>\n",
      "<class 'int'>\n",
      "<class 'int'>\n",
      "<class 'int'>\n",
      "<class 'int'>\n",
      "<class 'int'>\n",
      "<class 'int'>\n",
      "<class 'int'>\n",
      "<class 'int'>\n",
      "<class 'int'>\n",
      "<class 'int'>\n",
      "<class 'int'>\n",
      "<class 'int'>\n",
      "<class 'int'>\n",
      "<class 'int'>\n",
      "<class 'int'>\n",
      "<class 'int'>\n",
      "<class 'int'>\n",
      "<class 'int'>\n",
      "<class 'int'>\n",
      "<class 'int'>\n",
      "<class 'int'>\n",
      "<class 'int'>\n",
      "<class 'int'>\n",
      "<class 'int'>\n",
      "<class 'int'>\n",
      "<class 'int'>\n",
      "<class 'int'>\n",
      "<class 'int'>\n",
      "<class 'int'>\n",
      "<class 'int'>\n",
      "<class 'int'>\n",
      "<class 'int'>\n",
      "<class 'int'>\n",
      "<class 'int'>\n",
      "<class 'int'>\n",
      "<class 'int'>\n",
      "<class 'int'>\n",
      "<class 'int'>\n",
      "<class 'int'>\n",
      "<class 'int'>\n",
      "<class 'int'>\n",
      "<class 'int'>\n",
      "<class 'int'>\n",
      "<class 'int'>\n",
      "<class 'int'>\n",
      "<class 'int'>\n",
      "<class 'int'>\n",
      "<class 'int'>\n",
      "<class 'int'>\n",
      "<class 'int'>\n",
      "<class 'int'>\n",
      "<class 'int'>\n",
      "<class 'int'>\n",
      "<class 'int'>\n",
      "<class 'int'>\n",
      "<class 'int'>\n",
      "<class 'int'>\n",
      "<class 'int'>\n",
      "<class 'int'>\n",
      "<class 'int'>\n",
      "<class 'int'>\n",
      "<class 'int'>\n",
      "<class 'int'>\n",
      "<class 'int'>\n",
      "<class 'int'>\n",
      "<class 'int'>\n",
      "<class 'int'>\n",
      "<class 'int'>\n",
      "<class 'int'>\n",
      "<class 'int'>\n",
      "<class 'int'>\n",
      "<class 'int'>\n",
      "<class 'int'>\n",
      "<class 'int'>\n",
      "<class 'int'>\n",
      "<class 'int'>\n",
      "<class 'int'>\n",
      "<class 'int'>\n",
      "<class 'int'>\n",
      "<class 'int'>\n",
      "<class 'int'>\n",
      "<class 'int'>\n",
      "<class 'int'>\n",
      "<class 'int'>\n",
      "<class 'int'>\n",
      "<class 'int'>\n",
      "<class 'int'>\n",
      "<class 'int'>\n",
      "<class 'int'>\n",
      "<class 'int'>\n",
      "<class 'int'>\n",
      "<class 'int'>\n",
      "<class 'int'>\n",
      "<class 'int'>\n",
      "<class 'int'>\n",
      "<class 'int'>\n",
      "<class 'int'>\n",
      "<class 'int'>\n",
      "<class 'int'>\n",
      "<class 'int'>\n",
      "<class 'int'>\n",
      "<class 'int'>\n",
      "<class 'int'>\n",
      "<class 'int'>\n",
      "<class 'int'>\n",
      "<class 'int'>\n",
      "<class 'int'>\n",
      "<class 'int'>\n",
      "<class 'int'>\n",
      "<class 'int'>\n",
      "<class 'int'>\n",
      "<class 'int'>\n",
      "<class 'int'>\n",
      "<class 'int'>\n",
      "<class 'int'>\n",
      "<class 'int'>\n",
      "<class 'int'>\n",
      "<class 'int'>\n",
      "<class 'int'>\n",
      "<class 'int'>\n",
      "<class 'int'>\n",
      "<class 'int'>\n",
      "<class 'int'>\n",
      "<class 'int'>\n",
      "<class 'int'>\n",
      "<class 'int'>\n",
      "<class 'int'>\n",
      "<class 'int'>\n",
      "<class 'int'>\n",
      "<class 'int'>\n",
      "<class 'int'>\n",
      "<class 'int'>\n",
      "<class 'int'>\n",
      "<class 'int'>\n",
      "<class 'int'>\n",
      "<class 'int'>\n",
      "<class 'int'>\n",
      "<class 'int'>\n",
      "<class 'int'>\n",
      "<class 'int'>\n",
      "<class 'int'>\n",
      "<class 'int'>\n",
      "<class 'int'>\n",
      "<class 'int'>\n",
      "<class 'int'>\n",
      "<class 'int'>\n",
      "<class 'int'>\n",
      "<class 'int'>\n",
      "<class 'int'>\n",
      "<class 'int'>\n",
      "<class 'int'>\n",
      "<class 'int'>\n",
      "<class 'int'>\n",
      "<class 'int'>\n",
      "<class 'int'>\n",
      "<class 'int'>\n",
      "<class 'int'>\n",
      "<class 'int'>\n",
      "<class 'int'>\n",
      "<class 'int'>\n",
      "<class 'int'>\n",
      "<class 'int'>\n",
      "<class 'int'>\n",
      "<class 'int'>\n",
      "<class 'int'>\n",
      "<class 'int'>\n",
      "<class 'int'>\n",
      "<class 'int'>\n",
      "<class 'int'>\n",
      "<class 'int'>\n",
      "<class 'int'>\n",
      "<class 'int'>\n",
      "<class 'int'>\n",
      "<class 'int'>\n",
      "<class 'int'>\n",
      "<class 'int'>\n",
      "<class 'int'>\n",
      "<class 'int'>\n",
      "<class 'int'>\n",
      "<class 'int'>\n",
      "<class 'int'>\n",
      "<class 'int'>\n",
      "<class 'int'>\n",
      "<class 'int'>\n",
      "<class 'int'>\n",
      "<class 'int'>\n",
      "<class 'int'>\n",
      "<class 'int'>\n",
      "<class 'int'>\n",
      "<class 'int'>\n",
      "<class 'int'>\n",
      "<class 'int'>\n",
      "<class 'int'>\n",
      "<class 'int'>\n",
      "<class 'int'>\n",
      "<class 'int'>\n",
      "<class 'int'>\n",
      "<class 'int'>\n",
      "<class 'int'>\n",
      "<class 'int'>\n",
      "<class 'int'>\n",
      "<class 'int'>\n",
      "<class 'int'>\n",
      "<class 'int'>\n",
      "<class 'int'>\n",
      "<class 'int'>\n",
      "<class 'int'>\n",
      "<class 'int'>\n",
      "<class 'int'>\n",
      "<class 'int'>\n",
      "<class 'int'>\n",
      "<class 'int'>\n",
      "<class 'int'>\n",
      "<class 'int'>\n",
      "<class 'int'>\n",
      "<class 'int'>\n",
      "<class 'int'>\n",
      "<class 'int'>\n",
      "<class 'int'>\n",
      "<class 'int'>\n",
      "<class 'int'>\n",
      "<class 'int'>\n",
      "<class 'int'>\n",
      "<class 'int'>\n",
      "<class 'int'>\n",
      "<class 'int'>\n",
      "<class 'int'>\n",
      "<class 'int'>\n",
      "<class 'int'>\n",
      "<class 'int'>\n",
      "<class 'int'>\n",
      "<class 'int'>\n",
      "<class 'int'>\n",
      "<class 'int'>\n",
      "<class 'int'>\n",
      "<class 'int'>\n",
      "<class 'int'>\n",
      "<class 'int'>\n",
      "<class 'int'>\n",
      "<class 'int'>\n",
      "<class 'int'>\n",
      "<class 'int'>\n",
      "<class 'int'>\n",
      "<class 'int'>\n",
      "<class 'int'>\n",
      "<class 'int'>\n",
      "<class 'int'>\n",
      "<class 'int'>\n",
      "<class 'int'>\n",
      "<class 'int'>\n",
      "<class 'int'>\n",
      "<class 'int'>\n",
      "<class 'int'>\n",
      "<class 'int'>\n",
      "<class 'int'>\n",
      "<class 'int'>\n",
      "<class 'int'>\n",
      "<class 'int'>\n",
      "<class 'int'>\n",
      "<class 'int'>\n",
      "<class 'int'>\n",
      "<class 'int'>\n",
      "<class 'int'>\n",
      "<class 'int'>\n",
      "<class 'int'>\n",
      "<class 'int'>\n",
      "<class 'int'>\n",
      "<class 'int'>\n",
      "<class 'int'>\n",
      "<class 'int'>\n",
      "<class 'int'>\n",
      "<class 'int'>\n",
      "<class 'int'>\n",
      "<class 'int'>\n",
      "<class 'int'>\n",
      "<class 'int'>\n",
      "<class 'int'>\n",
      "<class 'int'>\n",
      "<class 'int'>\n",
      "<class 'int'>\n",
      "<class 'int'>\n",
      "<class 'int'>\n",
      "<class 'int'>\n",
      "<class 'int'>\n",
      "<class 'int'>\n",
      "<class 'int'>\n",
      "<class 'int'>\n",
      "<class 'int'>\n",
      "<class 'int'>\n",
      "<class 'int'>\n",
      "<class 'int'>\n",
      "<class 'int'>\n",
      "<class 'int'>\n",
      "<class 'int'>\n",
      "<class 'int'>\n",
      "<class 'int'>\n",
      "<class 'int'>\n",
      "<class 'int'>\n",
      "<class 'int'>\n",
      "<class 'int'>\n",
      "<class 'int'>\n",
      "<class 'int'>\n",
      "<class 'int'>\n",
      "<class 'int'>\n",
      "<class 'int'>\n",
      "<class 'int'>\n",
      "<class 'int'>\n",
      "<class 'int'>\n",
      "<class 'int'>\n",
      "<class 'int'>\n",
      "<class 'int'>\n",
      "<class 'int'>\n",
      "<class 'int'>\n",
      "<class 'int'>\n",
      "<class 'int'>\n",
      "<class 'int'>\n",
      "<class 'int'>\n",
      "<class 'int'>\n",
      "<class 'int'>\n",
      "<class 'int'>\n",
      "<class 'int'>\n",
      "<class 'int'>\n",
      "<class 'int'>\n",
      "<class 'int'>\n",
      "<class 'int'>\n",
      "<class 'int'>\n",
      "<class 'int'>\n",
      "<class 'int'>\n",
      "<class 'int'>\n",
      "<class 'int'>\n",
      "<class 'int'>\n",
      "<class 'int'>\n",
      "<class 'int'>\n",
      "<class 'int'>\n",
      "<class 'int'>\n",
      "<class 'int'>\n",
      "<class 'int'>\n",
      "<class 'int'>\n",
      "<class 'int'>\n",
      "<class 'int'>\n",
      "<class 'int'>\n",
      "<class 'int'>\n",
      "<class 'int'>\n",
      "<class 'int'>\n",
      "<class 'int'>\n",
      "<class 'int'>\n",
      "<class 'int'>\n",
      "<class 'int'>\n",
      "<class 'int'>\n",
      "<class 'int'>\n",
      "<class 'int'>\n",
      "<class 'int'>\n",
      "<class 'int'>\n",
      "<class 'int'>\n",
      "<class 'int'>\n",
      "<class 'int'>\n",
      "<class 'int'>\n",
      "<class 'int'>\n",
      "<class 'int'>\n",
      "<class 'int'>\n",
      "<class 'int'>\n",
      "<class 'int'>\n",
      "<class 'int'>\n",
      "<class 'int'>\n",
      "<class 'int'>\n",
      "<class 'int'>\n",
      "<class 'int'>\n",
      "<class 'int'>\n",
      "<class 'int'>\n",
      "<class 'int'>\n",
      "<class 'int'>\n",
      "<class 'int'>\n",
      "<class 'int'>\n",
      "<class 'int'>\n",
      "<class 'int'>\n",
      "<class 'int'>\n",
      "<class 'int'>\n",
      "<class 'int'>\n",
      "<class 'int'>\n",
      "<class 'int'>\n",
      "<class 'int'>\n",
      "<class 'int'>\n",
      "<class 'int'>\n",
      "<class 'int'>\n",
      "<class 'int'>\n",
      "<class 'int'>\n",
      "<class 'int'>\n",
      "<class 'int'>\n",
      "<class 'int'>\n",
      "<class 'int'>\n",
      "<class 'int'>\n",
      "<class 'int'>\n",
      "<class 'int'>\n",
      "<class 'int'>\n",
      "<class 'int'>\n",
      "<class 'int'>\n",
      "<class 'int'>\n",
      "<class 'int'>\n",
      "<class 'int'>\n",
      "<class 'int'>\n",
      "<class 'int'>\n",
      "<class 'int'>\n",
      "<class 'int'>\n",
      "<class 'int'>\n",
      "<class 'int'>\n",
      "<class 'int'>\n",
      "<class 'int'>\n",
      "<class 'int'>\n",
      "<class 'int'>\n",
      "<class 'int'>\n",
      "<class 'int'>\n",
      "<class 'int'>\n",
      "<class 'int'>\n",
      "<class 'int'>\n",
      "<class 'int'>\n",
      "<class 'int'>\n",
      "<class 'int'>\n",
      "<class 'int'>\n",
      "<class 'int'>\n",
      "<class 'int'>\n",
      "<class 'int'>\n",
      "<class 'int'>\n",
      "<class 'int'>\n",
      "<class 'int'>\n",
      "<class 'int'>\n",
      "<class 'int'>\n",
      "<class 'int'>\n",
      "<class 'int'>\n",
      "<class 'int'>\n",
      "<class 'int'>\n",
      "<class 'int'>\n",
      "<class 'int'>\n",
      "<class 'int'>\n",
      "<class 'int'>\n",
      "<class 'int'>\n",
      "<class 'int'>\n",
      "<class 'int'>\n",
      "<class 'int'>\n",
      "<class 'int'>\n",
      "<class 'int'>\n",
      "<class 'int'>\n",
      "<class 'int'>\n",
      "<class 'int'>\n",
      "<class 'int'>\n",
      "<class 'int'>\n",
      "<class 'int'>\n",
      "<class 'int'>\n",
      "<class 'int'>\n",
      "<class 'int'>\n",
      "<class 'int'>\n",
      "<class 'int'>\n",
      "<class 'int'>\n",
      "<class 'int'>\n",
      "<class 'int'>\n",
      "<class 'int'>\n",
      "<class 'int'>\n",
      "<class 'int'>\n",
      "<class 'int'>\n",
      "<class 'int'>\n",
      "<class 'int'>\n",
      "<class 'int'>\n",
      "<class 'int'>\n",
      "<class 'int'>\n",
      "<class 'int'>\n",
      "<class 'int'>\n",
      "<class 'int'>\n",
      "<class 'int'>\n",
      "<class 'int'>\n",
      "<class 'int'>\n",
      "<class 'int'>\n",
      "<class 'int'>\n",
      "<class 'int'>\n",
      "<class 'int'>\n",
      "<class 'int'>\n",
      "<class 'int'>\n",
      "<class 'int'>\n",
      "<class 'int'>\n",
      "<class 'int'>\n",
      "<class 'int'>\n",
      "<class 'int'>\n",
      "<class 'int'>\n",
      "<class 'int'>\n",
      "<class 'int'>\n",
      "<class 'int'>\n",
      "<class 'int'>\n",
      "<class 'int'>\n",
      "<class 'int'>\n",
      "<class 'int'>\n",
      "<class 'int'>\n",
      "<class 'int'>\n",
      "<class 'int'>\n",
      "<class 'int'>\n",
      "<class 'int'>\n",
      "<class 'int'>\n",
      "<class 'int'>\n",
      "<class 'int'>\n",
      "<class 'int'>\n",
      "<class 'int'>\n",
      "<class 'int'>\n",
      "<class 'int'>\n",
      "<class 'int'>\n",
      "<class 'int'>\n",
      "<class 'int'>\n",
      "<class 'int'>\n",
      "<class 'int'>\n",
      "<class 'int'>\n",
      "<class 'int'>\n",
      "<class 'int'>\n",
      "<class 'int'>\n",
      "<class 'int'>\n",
      "<class 'int'>\n",
      "<class 'int'>\n",
      "<class 'int'>\n",
      "<class 'int'>\n",
      "<class 'int'>\n",
      "<class 'int'>\n",
      "<class 'int'>\n",
      "<class 'int'>\n",
      "<class 'int'>\n",
      "<class 'int'>\n",
      "<class 'int'>\n",
      "<class 'int'>\n",
      "<class 'int'>\n",
      "<class 'int'>\n",
      "<class 'int'>\n",
      "<class 'int'>\n",
      "<class 'int'>\n",
      "<class 'int'>\n",
      "<class 'int'>\n",
      "<class 'int'>\n",
      "<class 'int'>\n",
      "<class 'int'>\n",
      "<class 'int'>\n",
      "<class 'int'>\n",
      "<class 'int'>\n",
      "<class 'int'>\n",
      "<class 'int'>\n",
      "<class 'int'>\n",
      "<class 'int'>\n",
      "<class 'int'>\n",
      "<class 'int'>\n",
      "<class 'int'>\n",
      "<class 'int'>\n",
      "<class 'int'>\n",
      "<class 'int'>\n",
      "<class 'int'>\n",
      "<class 'int'>\n",
      "<class 'int'>\n",
      "<class 'int'>\n",
      "<class 'int'>\n",
      "<class 'int'>\n",
      "<class 'int'>\n",
      "<class 'int'>\n",
      "<class 'int'>\n",
      "<class 'int'>\n",
      "<class 'int'>\n",
      "<class 'int'>\n",
      "<class 'int'>\n",
      "<class 'int'>\n",
      "<class 'int'>\n",
      "<class 'int'>\n",
      "<class 'int'>\n",
      "<class 'int'>\n",
      "<class 'int'>\n",
      "<class 'int'>\n",
      "<class 'int'>\n",
      "<class 'int'>\n",
      "<class 'int'>\n",
      "<class 'int'>\n",
      "<class 'int'>\n",
      "<class 'int'>\n",
      "<class 'int'>\n",
      "<class 'int'>\n",
      "<class 'int'>\n",
      "<class 'int'>\n",
      "<class 'int'>\n",
      "<class 'int'>\n",
      "<class 'int'>\n",
      "<class 'int'>\n",
      "<class 'int'>\n",
      "<class 'int'>\n",
      "<class 'int'>\n",
      "<class 'int'>\n",
      "<class 'int'>\n",
      "<class 'int'>\n",
      "<class 'int'>\n",
      "<class 'int'>\n",
      "<class 'int'>\n",
      "<class 'int'>\n",
      "<class 'int'>\n",
      "<class 'int'>\n",
      "<class 'int'>\n",
      "<class 'int'>\n",
      "<class 'int'>\n",
      "<class 'int'>\n",
      "<class 'int'>\n",
      "<class 'int'>\n",
      "<class 'int'>\n",
      "<class 'int'>\n",
      "<class 'int'>\n",
      "<class 'int'>\n",
      "<class 'int'>\n",
      "<class 'int'>\n",
      "<class 'int'>\n",
      "<class 'int'>\n",
      "<class 'int'>\n",
      "<class 'int'>\n",
      "<class 'int'>\n",
      "<class 'int'>\n",
      "<class 'int'>\n",
      "<class 'int'>\n",
      "<class 'int'>\n",
      "<class 'int'>\n",
      "<class 'int'>\n",
      "<class 'int'>\n",
      "<class 'int'>\n",
      "<class 'int'>\n",
      "<class 'int'>\n",
      "<class 'int'>\n",
      "<class 'int'>\n",
      "<class 'int'>\n",
      "<class 'int'>\n",
      "<class 'int'>\n",
      "<class 'int'>\n",
      "<class 'int'>\n",
      "<class 'int'>\n",
      "<class 'int'>\n",
      "<class 'int'>\n",
      "<class 'int'>\n",
      "<class 'int'>\n",
      "<class 'int'>\n",
      "<class 'int'>\n",
      "<class 'int'>\n",
      "<class 'int'>\n",
      "<class 'int'>\n",
      "<class 'int'>\n",
      "<class 'int'>\n",
      "<class 'int'>\n",
      "<class 'int'>\n",
      "<class 'int'>\n",
      "<class 'int'>\n",
      "<class 'int'>\n",
      "<class 'int'>\n",
      "<class 'int'>\n",
      "<class 'int'>\n",
      "<class 'int'>\n",
      "<class 'int'>\n",
      "<class 'int'>\n",
      "<class 'int'>\n",
      "<class 'int'>\n",
      "<class 'int'>\n",
      "<class 'int'>\n",
      "<class 'int'>\n",
      "<class 'int'>\n",
      "<class 'int'>\n",
      "<class 'int'>\n",
      "<class 'int'>\n",
      "<class 'int'>\n",
      "<class 'int'>\n",
      "<class 'int'>\n",
      "<class 'int'>\n",
      "<class 'int'>\n",
      "<class 'int'>\n",
      "<class 'int'>\n",
      "<class 'int'>\n",
      "<class 'int'>\n",
      "<class 'int'>\n",
      "<class 'int'>\n",
      "<class 'int'>\n",
      "<class 'int'>\n",
      "<class 'int'>\n",
      "<class 'int'>\n",
      "<class 'int'>\n",
      "<class 'int'>\n",
      "<class 'int'>\n",
      "<class 'int'>\n",
      "<class 'int'>\n",
      "<class 'int'>\n",
      "<class 'int'>\n",
      "<class 'int'>\n",
      "<class 'int'>\n",
      "<class 'int'>\n",
      "<class 'int'>\n",
      "<class 'int'>\n",
      "<class 'int'>\n",
      "<class 'int'>\n",
      "<class 'int'>\n",
      "<class 'int'>\n",
      "<class 'int'>\n",
      "<class 'int'>\n",
      "<class 'int'>\n",
      "<class 'int'>\n",
      "<class 'int'>\n",
      "<class 'int'>\n",
      "<class 'int'>\n",
      "<class 'int'>\n",
      "<class 'int'>\n",
      "<class 'int'>\n",
      "<class 'int'>\n",
      "<class 'int'>\n",
      "<class 'int'>\n",
      "<class 'int'>\n",
      "<class 'int'>\n",
      "<class 'int'>\n",
      "<class 'int'>\n",
      "<class 'int'>\n",
      "<class 'int'>\n",
      "<class 'int'>\n",
      "<class 'int'>\n",
      "<class 'int'>\n",
      "<class 'int'>\n",
      "<class 'int'>\n",
      "<class 'int'>\n",
      "<class 'int'>\n",
      "<class 'int'>\n",
      "<class 'int'>\n",
      "<class 'int'>\n",
      "<class 'int'>\n",
      "<class 'int'>\n",
      "<class 'int'>\n",
      "<class 'int'>\n",
      "<class 'int'>\n",
      "<class 'int'>\n",
      "<class 'int'>\n",
      "<class 'int'>\n",
      "<class 'int'>\n",
      "<class 'int'>\n",
      "<class 'int'>\n",
      "<class 'int'>\n",
      "<class 'int'>\n",
      "<class 'int'>\n",
      "<class 'int'>\n",
      "<class 'int'>\n",
      "<class 'int'>\n",
      "<class 'int'>\n",
      "<class 'int'>\n",
      "<class 'int'>\n",
      "<class 'int'>\n",
      "<class 'int'>\n",
      "<class 'int'>\n",
      "<class 'int'>\n",
      "<class 'int'>\n",
      "<class 'int'>\n",
      "<class 'int'>\n",
      "<class 'int'>\n",
      "<class 'int'>\n",
      "<class 'int'>\n",
      "<class 'int'>\n",
      "<class 'int'>\n",
      "<class 'int'>\n",
      "<class 'int'>\n",
      "<class 'int'>\n",
      "<class 'int'>\n",
      "<class 'int'>\n",
      "<class 'int'>\n",
      "<class 'int'>\n",
      "<class 'int'>\n",
      "<class 'int'>\n",
      "<class 'int'>\n",
      "<class 'int'>\n",
      "<class 'int'>\n",
      "<class 'int'>\n",
      "<class 'int'>\n",
      "<class 'int'>\n",
      "<class 'int'>\n",
      "<class 'int'>\n",
      "<class 'int'>\n",
      "<class 'int'>\n",
      "<class 'int'>\n",
      "<class 'int'>\n",
      "<class 'int'>\n",
      "<class 'int'>\n",
      "<class 'int'>\n",
      "<class 'int'>\n",
      "<class 'int'>\n",
      "<class 'int'>\n",
      "<class 'int'>\n",
      "<class 'int'>\n",
      "<class 'int'>\n",
      "<class 'int'>\n",
      "<class 'int'>\n",
      "<class 'int'>\n",
      "<class 'int'>\n",
      "<class 'int'>\n",
      "<class 'int'>\n",
      "<class 'int'>\n",
      "<class 'int'>\n",
      "<class 'int'>\n",
      "<class 'int'>\n",
      "<class 'int'>\n",
      "<class 'int'>\n",
      "<class 'int'>\n",
      "<class 'int'>\n",
      "<class 'int'>\n",
      "<class 'int'>\n",
      "<class 'int'>\n",
      "<class 'int'>\n",
      "<class 'int'>\n",
      "<class 'int'>\n",
      "<class 'int'>\n",
      "<class 'int'>\n",
      "<class 'int'>\n",
      "<class 'int'>\n",
      "<class 'int'>\n",
      "<class 'int'>\n",
      "<class 'int'>\n",
      "<class 'int'>\n",
      "<class 'int'>\n",
      "<class 'int'>\n",
      "<class 'int'>\n",
      "<class 'int'>\n",
      "<class 'int'>\n",
      "<class 'int'>\n",
      "<class 'int'>\n",
      "<class 'int'>\n",
      "<class 'int'>\n",
      "<class 'int'>\n",
      "<class 'int'>\n",
      "<class 'int'>\n",
      "<class 'int'>\n",
      "<class 'int'>\n",
      "<class 'int'>\n",
      "<class 'int'>\n",
      "<class 'int'>\n",
      "<class 'int'>\n",
      "<class 'int'>\n",
      "<class 'int'>\n",
      "<class 'int'>\n",
      "<class 'int'>\n",
      "<class 'int'>\n",
      "<class 'int'>\n",
      "<class 'int'>\n",
      "<class 'int'>\n",
      "<class 'int'>\n",
      "<class 'int'>\n",
      "<class 'int'>\n",
      "<class 'int'>\n",
      "<class 'int'>\n",
      "<class 'int'>\n",
      "<class 'int'>\n",
      "<class 'int'>\n",
      "<class 'int'>\n",
      "<class 'int'>\n",
      "<class 'int'>\n",
      "<class 'int'>\n",
      "<class 'int'>\n",
      "<class 'int'>\n",
      "<class 'int'>\n",
      "<class 'int'>\n",
      "<class 'int'>\n",
      "<class 'int'>\n",
      "<class 'int'>\n",
      "<class 'int'>\n",
      "<class 'int'>\n",
      "<class 'int'>\n",
      "<class 'int'>\n",
      "<class 'int'>\n",
      "<class 'int'>\n",
      "<class 'int'>\n",
      "<class 'int'>\n",
      "<class 'int'>\n",
      "<class 'int'>\n",
      "<class 'int'>\n",
      "<class 'int'>\n",
      "<class 'int'>\n",
      "<class 'int'>\n",
      "<class 'int'>\n",
      "<class 'int'>\n",
      "<class 'int'>\n",
      "<class 'int'>\n",
      "<class 'int'>\n",
      "<class 'int'>\n",
      "<class 'int'>\n",
      "<class 'int'>\n",
      "<class 'int'>\n",
      "<class 'int'>\n",
      "<class 'int'>\n",
      "<class 'int'>\n",
      "<class 'int'>\n",
      "<class 'int'>\n",
      "<class 'int'>\n",
      "<class 'int'>\n",
      "<class 'int'>\n",
      "<class 'int'>\n",
      "<class 'int'>\n",
      "<class 'int'>\n",
      "<class 'int'>\n",
      "<class 'int'>\n",
      "<class 'int'>\n",
      "<class 'int'>\n",
      "<class 'int'>\n",
      "<class 'int'>\n",
      "<class 'int'>\n",
      "<class 'int'>\n",
      "<class 'int'>\n",
      "<class 'int'>\n",
      "<class 'int'>\n",
      "<class 'int'>\n",
      "<class 'int'>\n",
      "<class 'int'>\n",
      "<class 'int'>\n",
      "<class 'int'>\n",
      "<class 'int'>\n",
      "<class 'int'>\n",
      "<class 'int'>\n",
      "<class 'int'>\n",
      "<class 'int'>\n",
      "<class 'int'>\n",
      "<class 'int'>\n",
      "<class 'int'>\n",
      "<class 'int'>\n",
      "<class 'int'>\n",
      "<class 'int'>\n",
      "<class 'int'>\n",
      "<class 'int'>\n",
      "<class 'int'>\n",
      "<class 'int'>\n",
      "<class 'int'>\n",
      "<class 'int'>\n",
      "<class 'int'>\n",
      "<class 'int'>\n",
      "<class 'int'>\n",
      "<class 'int'>\n",
      "<class 'int'>\n",
      "<class 'int'>\n",
      "<class 'int'>\n",
      "<class 'int'>\n",
      "<class 'int'>\n",
      "<class 'int'>\n",
      "<class 'int'>\n",
      "<class 'int'>\n",
      "<class 'int'>\n",
      "<class 'int'>\n",
      "<class 'int'>\n",
      "<class 'int'>\n",
      "<class 'int'>\n",
      "<class 'int'>\n",
      "<class 'int'>\n",
      "<class 'int'>\n",
      "<class 'int'>\n",
      "<class 'int'>\n",
      "<class 'int'>\n",
      "<class 'int'>\n",
      "<class 'int'>\n",
      "<class 'int'>\n",
      "<class 'int'>\n",
      "<class 'int'>\n",
      "<class 'int'>\n",
      "<class 'int'>\n",
      "<class 'int'>\n",
      "<class 'int'>\n",
      "<class 'int'>\n",
      "<class 'int'>\n",
      "<class 'int'>\n",
      "<class 'int'>\n",
      "<class 'int'>\n",
      "<class 'int'>\n",
      "<class 'int'>\n",
      "<class 'int'>\n",
      "<class 'int'>\n",
      "<class 'int'>\n",
      "<class 'int'>\n",
      "<class 'int'>\n",
      "<class 'int'>\n",
      "<class 'int'>\n",
      "<class 'int'>\n",
      "<class 'int'>\n",
      "<class 'int'>\n",
      "<class 'int'>\n",
      "<class 'int'>\n",
      "<class 'int'>\n",
      "<class 'int'>\n",
      "<class 'int'>\n",
      "<class 'int'>\n",
      "<class 'int'>\n",
      "<class 'int'>\n",
      "<class 'int'>\n",
      "<class 'int'>\n",
      "<class 'int'>\n",
      "<class 'int'>\n",
      "<class 'int'>\n",
      "<class 'int'>\n",
      "<class 'int'>\n",
      "<class 'int'>\n",
      "<class 'int'>\n",
      "<class 'int'>\n",
      "<class 'int'>\n",
      "<class 'int'>\n",
      "<class 'int'>\n",
      "<class 'int'>\n",
      "<class 'int'>\n",
      "<class 'int'>\n",
      "<class 'int'>\n",
      "<class 'int'>\n",
      "<class 'int'>\n",
      "<class 'int'>\n",
      "<class 'int'>\n",
      "<class 'int'>\n",
      "<class 'int'>\n",
      "<class 'int'>\n",
      "<class 'int'>\n",
      "<class 'int'>\n",
      "<class 'int'>\n",
      "<class 'int'>\n",
      "<class 'int'>\n",
      "<class 'int'>\n",
      "<class 'int'>\n",
      "<class 'int'>\n",
      "<class 'int'>\n",
      "<class 'int'>\n",
      "<class 'int'>\n",
      "<class 'int'>\n",
      "<class 'int'>\n",
      "<class 'int'>\n",
      "<class 'int'>\n",
      "<class 'int'>\n",
      "<class 'int'>\n",
      "<class 'int'>\n",
      "<class 'int'>\n",
      "<class 'int'>\n",
      "<class 'int'>\n",
      "<class 'int'>\n",
      "<class 'int'>\n",
      "<class 'int'>\n",
      "<class 'int'>\n",
      "<class 'int'>\n",
      "<class 'int'>\n",
      "<class 'int'>\n",
      "<class 'int'>\n",
      "<class 'int'>\n",
      "<class 'int'>\n",
      "<class 'int'>\n",
      "<class 'int'>\n",
      "<class 'int'>\n",
      "<class 'int'>\n",
      "<class 'int'>\n",
      "<class 'int'>\n",
      "<class 'int'>\n",
      "<class 'int'>\n",
      "<class 'int'>\n",
      "<class 'int'>\n",
      "<class 'int'>\n",
      "<class 'int'>\n",
      "<class 'int'>\n",
      "<class 'int'>\n",
      "<class 'int'>\n",
      "<class 'int'>\n",
      "<class 'int'>\n",
      "<class 'int'>\n",
      "<class 'int'>\n",
      "<class 'int'>\n",
      "<class 'int'>\n",
      "<class 'int'>\n",
      "<class 'int'>\n",
      "<class 'int'>\n",
      "<class 'int'>\n",
      "<class 'int'>\n",
      "<class 'int'>\n",
      "<class 'int'>\n",
      "<class 'int'>\n",
      "<class 'int'>\n",
      "<class 'int'>\n",
      "<class 'int'>\n",
      "<class 'int'>\n",
      "<class 'int'>\n",
      "<class 'int'>\n",
      "<class 'int'>\n",
      "<class 'int'>\n",
      "<class 'int'>\n",
      "<class 'int'>\n",
      "<class 'int'>\n",
      "<class 'int'>\n",
      "<class 'int'>\n",
      "<class 'int'>\n",
      "<class 'int'>\n",
      "<class 'int'>\n",
      "<class 'int'>\n",
      "<class 'int'>\n",
      "<class 'int'>\n",
      "<class 'int'>\n",
      "<class 'int'>\n",
      "<class 'int'>\n",
      "<class 'int'>\n",
      "<class 'int'>\n",
      "<class 'int'>\n",
      "<class 'int'>\n",
      "<class 'int'>\n",
      "<class 'int'>\n",
      "<class 'int'>\n",
      "<class 'int'>\n",
      "<class 'int'>\n",
      "<class 'int'>\n",
      "<class 'int'>\n",
      "<class 'int'>\n",
      "<class 'int'>\n",
      "<class 'int'>\n",
      "<class 'int'>\n",
      "<class 'int'>\n",
      "<class 'int'>\n",
      "<class 'int'>\n",
      "<class 'int'>\n",
      "<class 'int'>\n",
      "<class 'int'>\n",
      "<class 'int'>\n",
      "<class 'int'>\n",
      "<class 'int'>\n",
      "<class 'int'>\n",
      "<class 'int'>\n",
      "<class 'int'>\n",
      "<class 'int'>\n",
      "<class 'int'>\n",
      "<class 'int'>\n",
      "<class 'int'>\n",
      "<class 'int'>\n",
      "<class 'int'>\n",
      "<class 'int'>\n",
      "<class 'int'>\n",
      "<class 'int'>\n",
      "<class 'int'>\n",
      "<class 'int'>\n",
      "<class 'int'>\n",
      "<class 'int'>\n",
      "<class 'int'>\n",
      "<class 'int'>\n",
      "<class 'int'>\n",
      "<class 'int'>\n",
      "<class 'int'>\n",
      "<class 'int'>\n",
      "<class 'int'>\n",
      "<class 'int'>\n",
      "<class 'int'>\n",
      "<class 'int'>\n",
      "<class 'int'>\n",
      "<class 'int'>\n",
      "<class 'int'>\n",
      "<class 'int'>\n",
      "<class 'int'>\n",
      "<class 'int'>\n",
      "<class 'int'>\n",
      "<class 'int'>\n",
      "<class 'int'>\n",
      "<class 'int'>\n",
      "<class 'int'>\n",
      "<class 'int'>\n",
      "<class 'int'>\n",
      "<class 'int'>\n",
      "<class 'int'>\n",
      "<class 'int'>\n",
      "<class 'int'>\n",
      "<class 'int'>\n",
      "<class 'int'>\n",
      "<class 'int'>\n",
      "<class 'int'>\n",
      "<class 'int'>\n",
      "<class 'int'>\n",
      "<class 'int'>\n",
      "<class 'int'>\n",
      "<class 'int'>\n",
      "<class 'int'>\n",
      "<class 'int'>\n",
      "<class 'int'>\n",
      "<class 'int'>\n",
      "<class 'int'>\n",
      "<class 'int'>\n",
      "<class 'int'>\n",
      "<class 'int'>\n",
      "<class 'int'>\n",
      "<class 'int'>\n",
      "<class 'int'>\n",
      "<class 'int'>\n",
      "<class 'int'>\n",
      "<class 'int'>\n",
      "<class 'int'>\n",
      "<class 'int'>\n",
      "<class 'int'>\n",
      "<class 'int'>\n",
      "<class 'int'>\n",
      "<class 'int'>\n",
      "<class 'int'>\n",
      "<class 'int'>\n",
      "<class 'int'>\n",
      "<class 'int'>\n",
      "<class 'int'>\n",
      "<class 'int'>\n",
      "<class 'int'>\n",
      "<class 'int'>\n",
      "<class 'int'>\n",
      "<class 'int'>\n",
      "<class 'int'>\n",
      "<class 'int'>\n",
      "<class 'int'>\n",
      "<class 'int'>\n",
      "<class 'int'>\n",
      "<class 'int'>\n",
      "<class 'int'>\n",
      "<class 'int'>\n",
      "<class 'int'>\n",
      "<class 'int'>\n",
      "<class 'int'>\n",
      "<class 'int'>\n",
      "<class 'int'>\n",
      "<class 'int'>\n",
      "<class 'int'>\n",
      "<class 'int'>\n",
      "<class 'int'>\n",
      "<class 'int'>\n",
      "<class 'int'>\n",
      "<class 'int'>\n",
      "<class 'int'>\n",
      "<class 'int'>\n",
      "<class 'int'>\n",
      "<class 'int'>\n",
      "<class 'int'>\n",
      "<class 'int'>\n",
      "<class 'int'>\n",
      "<class 'int'>\n",
      "<class 'int'>\n",
      "<class 'int'>\n",
      "<class 'int'>\n",
      "<class 'int'>\n",
      "<class 'int'>\n",
      "<class 'int'>\n",
      "<class 'int'>\n",
      "<class 'int'>\n",
      "<class 'int'>\n",
      "<class 'int'>\n",
      "<class 'int'>\n",
      "<class 'int'>\n",
      "<class 'int'>\n",
      "<class 'int'>\n",
      "<class 'int'>\n",
      "<class 'int'>\n",
      "<class 'int'>\n",
      "<class 'int'>\n",
      "<class 'int'>\n",
      "<class 'int'>\n",
      "<class 'int'>\n",
      "<class 'int'>\n",
      "<class 'int'>\n",
      "<class 'int'>\n",
      "<class 'int'>\n",
      "<class 'int'>\n",
      "<class 'int'>\n",
      "<class 'int'>\n",
      "<class 'int'>\n",
      "<class 'int'>\n",
      "<class 'int'>\n",
      "<class 'int'>\n",
      "<class 'int'>\n",
      "<class 'int'>\n",
      "<class 'int'>\n",
      "<class 'int'>\n",
      "<class 'int'>\n",
      "<class 'int'>\n",
      "<class 'int'>\n",
      "<class 'int'>\n",
      "<class 'int'>\n",
      "<class 'int'>\n",
      "<class 'int'>\n",
      "<class 'int'>\n",
      "<class 'int'>\n",
      "<class 'int'>\n",
      "<class 'int'>\n",
      "<class 'int'>\n",
      "<class 'int'>\n",
      "<class 'int'>\n",
      "<class 'int'>\n",
      "<class 'int'>\n",
      "<class 'int'>\n",
      "<class 'int'>\n",
      "<class 'int'>\n",
      "<class 'int'>\n",
      "<class 'int'>\n",
      "<class 'int'>\n",
      "<class 'int'>\n",
      "<class 'int'>\n",
      "<class 'int'>\n",
      "<class 'int'>\n",
      "<class 'int'>\n",
      "<class 'int'>\n",
      "<class 'int'>\n",
      "<class 'int'>\n",
      "<class 'int'>\n",
      "<class 'int'>\n",
      "<class 'int'>\n",
      "<class 'int'>\n",
      "<class 'int'>\n",
      "<class 'int'>\n",
      "<class 'int'>\n",
      "<class 'int'>\n",
      "<class 'int'>\n",
      "<class 'int'>\n",
      "<class 'int'>\n",
      "<class 'int'>\n",
      "<class 'int'>\n",
      "<class 'int'>\n",
      "<class 'int'>\n",
      "<class 'int'>\n",
      "<class 'int'>\n",
      "<class 'int'>\n",
      "<class 'int'>\n",
      "<class 'int'>\n",
      "<class 'int'>\n",
      "<class 'int'>\n",
      "<class 'int'>\n",
      "<class 'int'>\n",
      "<class 'int'>\n",
      "<class 'int'>\n",
      "<class 'int'>\n",
      "<class 'int'>\n",
      "<class 'int'>\n",
      "<class 'int'>\n",
      "<class 'int'>\n",
      "<class 'int'>\n",
      "<class 'int'>\n",
      "<class 'int'>\n",
      "<class 'int'>\n",
      "<class 'int'>\n",
      "<class 'int'>\n",
      "<class 'int'>\n",
      "<class 'int'>\n",
      "<class 'int'>\n",
      "<class 'int'>\n",
      "<class 'int'>\n",
      "<class 'int'>\n",
      "<class 'int'>\n",
      "<class 'int'>\n",
      "<class 'int'>\n",
      "<class 'int'>\n",
      "<class 'int'>\n",
      "<class 'int'>\n",
      "<class 'int'>\n",
      "<class 'int'>\n",
      "<class 'int'>\n",
      "<class 'int'>\n",
      "<class 'int'>\n",
      "<class 'int'>\n",
      "<class 'int'>\n",
      "<class 'int'>\n",
      "<class 'int'>\n",
      "<class 'int'>\n",
      "<class 'int'>\n",
      "<class 'int'>\n",
      "<class 'int'>\n",
      "<class 'int'>\n",
      "<class 'int'>\n",
      "<class 'int'>\n",
      "<class 'int'>\n",
      "<class 'int'>\n",
      "<class 'int'>\n",
      "<class 'int'>\n",
      "<class 'int'>\n",
      "<class 'int'>\n",
      "<class 'int'>\n",
      "<class 'int'>\n",
      "<class 'int'>\n",
      "<class 'int'>\n",
      "<class 'int'>\n",
      "<class 'int'>\n",
      "<class 'int'>\n",
      "<class 'int'>\n",
      "<class 'int'>\n",
      "<class 'int'>\n",
      "<class 'int'>\n",
      "<class 'int'>\n",
      "<class 'int'>\n",
      "<class 'int'>\n",
      "<class 'int'>\n",
      "<class 'int'>\n",
      "<class 'int'>\n",
      "<class 'int'>\n",
      "<class 'int'>\n",
      "<class 'int'>\n",
      "<class 'int'>\n",
      "<class 'int'>\n",
      "<class 'int'>\n",
      "<class 'int'>\n",
      "<class 'int'>\n",
      "<class 'int'>\n",
      "<class 'int'>\n",
      "<class 'int'>\n",
      "<class 'int'>\n",
      "<class 'int'>\n",
      "<class 'int'>\n",
      "<class 'int'>\n",
      "<class 'int'>\n",
      "<class 'int'>\n",
      "<class 'int'>\n",
      "<class 'int'>\n",
      "<class 'int'>\n",
      "<class 'int'>\n",
      "<class 'int'>\n",
      "<class 'int'>\n",
      "<class 'int'>\n",
      "<class 'int'>\n",
      "<class 'int'>\n",
      "<class 'int'>\n",
      "<class 'int'>\n",
      "<class 'int'>\n",
      "<class 'int'>\n",
      "<class 'int'>\n",
      "<class 'int'>\n",
      "<class 'int'>\n",
      "<class 'int'>\n",
      "<class 'int'>\n",
      "<class 'int'>\n",
      "<class 'int'>\n",
      "<class 'int'>\n",
      "<class 'int'>\n",
      "<class 'int'>\n",
      "<class 'int'>\n",
      "<class 'int'>\n",
      "<class 'int'>\n",
      "<class 'int'>\n",
      "<class 'int'>\n",
      "<class 'int'>\n",
      "<class 'int'>\n",
      "<class 'int'>\n",
      "<class 'int'>\n",
      "<class 'int'>\n",
      "<class 'int'>\n",
      "<class 'int'>\n",
      "<class 'int'>\n",
      "<class 'int'>\n",
      "<class 'int'>\n",
      "<class 'int'>\n",
      "<class 'int'>\n",
      "<class 'int'>\n",
      "<class 'int'>\n",
      "<class 'int'>\n",
      "<class 'int'>\n",
      "<class 'int'>\n",
      "<class 'int'>\n",
      "<class 'int'>\n",
      "<class 'int'>\n",
      "<class 'int'>\n",
      "<class 'int'>\n",
      "<class 'int'>\n",
      "<class 'int'>\n",
      "<class 'int'>\n",
      "<class 'int'>\n",
      "<class 'int'>\n",
      "<class 'int'>\n",
      "<class 'int'>\n",
      "<class 'int'>\n",
      "<class 'int'>\n",
      "<class 'int'>\n",
      "<class 'int'>\n",
      "<class 'int'>\n",
      "<class 'int'>\n",
      "<class 'int'>\n",
      "<class 'int'>\n",
      "<class 'int'>\n",
      "<class 'int'>\n",
      "<class 'int'>\n",
      "<class 'int'>\n",
      "<class 'int'>\n",
      "<class 'int'>\n",
      "<class 'int'>\n",
      "<class 'int'>\n",
      "<class 'int'>\n",
      "<class 'int'>\n",
      "<class 'int'>\n",
      "<class 'int'>\n",
      "<class 'int'>\n",
      "<class 'int'>\n",
      "<class 'int'>\n",
      "<class 'int'>\n",
      "<class 'int'>\n",
      "<class 'int'>\n",
      "<class 'int'>\n",
      "<class 'int'>\n",
      "<class 'int'>\n",
      "<class 'int'>\n",
      "<class 'int'>\n",
      "<class 'int'>\n",
      "<class 'int'>\n",
      "<class 'int'>\n",
      "<class 'int'>\n",
      "<class 'int'>\n",
      "<class 'int'>\n",
      "<class 'int'>\n",
      "<class 'int'>\n",
      "<class 'int'>\n",
      "<class 'int'>\n",
      "<class 'int'>\n",
      "<class 'int'>\n",
      "<class 'int'>\n",
      "<class 'int'>\n",
      "<class 'int'>\n",
      "<class 'int'>\n",
      "<class 'int'>\n",
      "<class 'int'>\n",
      "<class 'int'>\n",
      "<class 'int'>\n",
      "<class 'int'>\n",
      "<class 'int'>\n",
      "<class 'int'>\n",
      "<class 'int'>\n",
      "<class 'int'>\n",
      "<class 'int'>\n",
      "<class 'int'>\n",
      "<class 'int'>\n",
      "<class 'int'>\n",
      "<class 'int'>\n",
      "<class 'int'>\n",
      "<class 'int'>\n",
      "<class 'int'>\n",
      "<class 'int'>\n",
      "<class 'int'>\n",
      "<class 'int'>\n",
      "<class 'int'>\n",
      "<class 'int'>\n",
      "<class 'int'>\n",
      "<class 'int'>\n",
      "<class 'int'>\n",
      "<class 'int'>\n",
      "<class 'int'>\n",
      "<class 'int'>\n",
      "<class 'int'>\n",
      "<class 'int'>\n",
      "<class 'int'>\n",
      "<class 'int'>\n",
      "<class 'int'>\n",
      "<class 'int'>\n",
      "<class 'int'>\n",
      "<class 'int'>\n",
      "<class 'int'>\n",
      "<class 'int'>\n",
      "<class 'int'>\n",
      "<class 'int'>\n",
      "<class 'int'>\n",
      "<class 'int'>\n",
      "<class 'int'>\n",
      "<class 'int'>\n",
      "<class 'int'>\n",
      "<class 'int'>\n",
      "<class 'int'>\n",
      "<class 'int'>\n",
      "<class 'int'>\n",
      "<class 'int'>\n",
      "<class 'int'>\n",
      "<class 'int'>\n",
      "<class 'int'>\n",
      "<class 'int'>\n",
      "<class 'int'>\n",
      "<class 'int'>\n",
      "<class 'int'>\n",
      "<class 'int'>\n",
      "<class 'int'>\n",
      "<class 'int'>\n",
      "<class 'int'>\n",
      "<class 'int'>\n",
      "<class 'int'>\n",
      "<class 'int'>\n",
      "<class 'int'>\n",
      "<class 'int'>\n",
      "<class 'int'>\n",
      "<class 'int'>\n",
      "<class 'int'>\n",
      "<class 'int'>\n",
      "<class 'int'>\n",
      "<class 'int'>\n",
      "<class 'int'>\n",
      "<class 'int'>\n",
      "<class 'int'>\n",
      "<class 'int'>\n",
      "<class 'int'>\n",
      "<class 'int'>\n",
      "<class 'int'>\n",
      "<class 'int'>\n",
      "<class 'int'>\n",
      "<class 'int'>\n",
      "<class 'int'>\n",
      "<class 'int'>\n",
      "<class 'int'>\n",
      "<class 'int'>\n",
      "<class 'int'>\n",
      "<class 'int'>\n",
      "<class 'int'>\n",
      "<class 'int'>\n",
      "<class 'int'>\n",
      "<class 'int'>\n",
      "<class 'int'>\n",
      "<class 'int'>\n",
      "<class 'int'>\n",
      "<class 'int'>\n",
      "<class 'int'>\n",
      "<class 'int'>\n",
      "<class 'int'>\n",
      "<class 'int'>\n",
      "<class 'int'>\n",
      "<class 'int'>\n",
      "<class 'int'>\n",
      "<class 'int'>\n",
      "<class 'int'>\n",
      "<class 'int'>\n",
      "<class 'int'>\n",
      "<class 'int'>\n",
      "<class 'int'>\n",
      "<class 'int'>\n",
      "<class 'int'>\n",
      "<class 'int'>\n",
      "<class 'int'>\n",
      "<class 'int'>\n",
      "<class 'int'>\n",
      "<class 'int'>\n",
      "<class 'int'>\n",
      "<class 'int'>\n",
      "<class 'int'>\n",
      "<class 'int'>\n",
      "<class 'int'>\n",
      "<class 'int'>\n",
      "<class 'int'>\n",
      "<class 'int'>\n",
      "<class 'int'>\n",
      "<class 'int'>\n",
      "<class 'int'>\n",
      "<class 'int'>\n",
      "<class 'int'>\n",
      "<class 'int'>\n",
      "<class 'int'>\n",
      "<class 'int'>\n",
      "<class 'int'>\n",
      "<class 'int'>\n",
      "<class 'int'>\n",
      "<class 'int'>\n",
      "<class 'int'>\n",
      "<class 'int'>\n",
      "<class 'int'>\n",
      "<class 'int'>\n",
      "<class 'int'>\n",
      "<class 'int'>\n",
      "<class 'int'>\n",
      "<class 'int'>\n",
      "<class 'int'>\n",
      "<class 'int'>\n",
      "<class 'int'>\n",
      "<class 'int'>\n",
      "<class 'int'>\n",
      "<class 'int'>\n",
      "<class 'int'>\n",
      "<class 'int'>\n",
      "<class 'int'>\n",
      "<class 'int'>\n",
      "<class 'int'>\n",
      "<class 'int'>\n",
      "<class 'int'>\n",
      "<class 'int'>\n",
      "<class 'int'>\n",
      "<class 'int'>\n",
      "<class 'int'>\n",
      "<class 'int'>\n",
      "<class 'int'>\n",
      "<class 'int'>\n",
      "<class 'int'>\n",
      "<class 'int'>\n",
      "<class 'int'>\n",
      "<class 'int'>\n",
      "<class 'int'>\n",
      "<class 'int'>\n",
      "<class 'int'>\n",
      "<class 'int'>\n",
      "<class 'int'>\n",
      "<class 'int'>\n",
      "<class 'int'>\n",
      "<class 'int'>\n",
      "<class 'int'>\n",
      "<class 'int'>\n",
      "<class 'int'>\n",
      "<class 'int'>\n",
      "<class 'int'>\n",
      "<class 'int'>\n",
      "<class 'int'>\n",
      "<class 'int'>\n",
      "<class 'int'>\n",
      "<class 'int'>\n",
      "<class 'int'>\n",
      "<class 'int'>\n",
      "<class 'int'>\n",
      "<class 'int'>\n",
      "<class 'int'>\n",
      "<class 'int'>\n",
      "<class 'int'>\n",
      "<class 'int'>\n",
      "<class 'int'>\n",
      "<class 'int'>\n",
      "<class 'int'>\n",
      "<class 'int'>\n",
      "<class 'int'>\n",
      "<class 'int'>\n",
      "<class 'int'>\n",
      "<class 'int'>\n",
      "<class 'int'>\n",
      "<class 'int'>\n",
      "<class 'int'>\n",
      "<class 'int'>\n",
      "<class 'int'>\n",
      "<class 'int'>\n",
      "<class 'int'>\n",
      "<class 'int'>\n",
      "<class 'int'>\n",
      "<class 'int'>\n",
      "<class 'int'>\n",
      "<class 'int'>\n",
      "<class 'int'>\n",
      "<class 'int'>\n",
      "<class 'int'>\n",
      "<class 'int'>\n",
      "<class 'int'>\n",
      "<class 'int'>\n",
      "<class 'int'>\n",
      "<class 'int'>\n",
      "<class 'int'>\n",
      "<class 'int'>\n",
      "<class 'int'>\n",
      "<class 'int'>\n",
      "<class 'int'>\n",
      "<class 'int'>\n",
      "<class 'int'>\n",
      "<class 'int'>\n",
      "<class 'int'>\n",
      "<class 'int'>\n",
      "<class 'int'>\n",
      "<class 'int'>\n",
      "<class 'int'>\n",
      "<class 'int'>\n",
      "<class 'int'>\n",
      "<class 'int'>\n",
      "<class 'int'>\n",
      "<class 'int'>\n",
      "<class 'int'>\n",
      "<class 'int'>\n",
      "<class 'int'>\n",
      "<class 'int'>\n",
      "<class 'int'>\n",
      "<class 'int'>\n",
      "<class 'int'>\n",
      "<class 'int'>\n",
      "<class 'int'>\n",
      "<class 'int'>\n",
      "<class 'int'>\n",
      "<class 'int'>\n",
      "<class 'int'>\n",
      "<class 'int'>\n",
      "<class 'int'>\n",
      "<class 'int'>\n",
      "<class 'int'>\n",
      "<class 'int'>\n",
      "<class 'int'>\n",
      "<class 'int'>\n",
      "<class 'int'>\n",
      "<class 'int'>\n",
      "<class 'int'>\n",
      "<class 'int'>\n",
      "<class 'int'>\n",
      "<class 'int'>\n",
      "<class 'int'>\n",
      "<class 'int'>\n",
      "<class 'int'>\n",
      "<class 'int'>\n",
      "<class 'int'>\n",
      "<class 'int'>\n",
      "<class 'int'>\n",
      "<class 'int'>\n",
      "<class 'int'>\n",
      "<class 'int'>\n",
      "<class 'int'>\n",
      "<class 'int'>\n",
      "<class 'int'>\n",
      "<class 'int'>\n",
      "<class 'int'>\n",
      "<class 'int'>\n",
      "<class 'int'>\n",
      "<class 'int'>\n",
      "<class 'int'>\n",
      "<class 'int'>\n",
      "<class 'int'>\n",
      "<class 'int'>\n",
      "<class 'int'>\n",
      "<class 'int'>\n",
      "<class 'int'>\n",
      "<class 'int'>\n",
      "<class 'int'>\n",
      "<class 'int'>\n",
      "<class 'int'>\n",
      "<class 'int'>\n",
      "<class 'int'>\n",
      "<class 'int'>\n",
      "<class 'int'>\n",
      "<class 'int'>\n",
      "<class 'int'>\n",
      "<class 'int'>\n",
      "<class 'int'>\n",
      "<class 'int'>\n",
      "<class 'int'>\n",
      "<class 'int'>\n",
      "<class 'int'>\n",
      "<class 'int'>\n",
      "<class 'int'>\n",
      "<class 'int'>\n",
      "<class 'int'>\n",
      "<class 'int'>\n",
      "<class 'int'>\n",
      "<class 'int'>\n",
      "<class 'int'>\n",
      "<class 'int'>\n",
      "<class 'int'>\n",
      "<class 'int'>\n",
      "<class 'int'>\n",
      "<class 'int'>\n",
      "<class 'int'>\n",
      "<class 'int'>\n",
      "<class 'int'>\n",
      "<class 'int'>\n",
      "<class 'int'>\n",
      "<class 'int'>\n",
      "<class 'int'>\n",
      "<class 'int'>\n",
      "<class 'int'>\n",
      "<class 'int'>\n",
      "<class 'int'>\n",
      "<class 'int'>\n",
      "<class 'int'>\n",
      "<class 'int'>\n",
      "<class 'int'>\n",
      "<class 'int'>\n",
      "<class 'int'>\n",
      "<class 'int'>\n",
      "<class 'int'>\n",
      "<class 'int'>\n",
      "<class 'int'>\n",
      "<class 'int'>\n",
      "<class 'int'>\n",
      "<class 'int'>\n",
      "<class 'int'>\n",
      "<class 'int'>\n",
      "<class 'int'>\n",
      "<class 'int'>\n",
      "<class 'int'>\n",
      "<class 'int'>\n",
      "<class 'int'>\n",
      "<class 'int'>\n",
      "<class 'int'>\n",
      "<class 'int'>\n",
      "<class 'int'>\n",
      "<class 'int'>\n",
      "<class 'int'>\n",
      "<class 'int'>\n",
      "<class 'int'>\n",
      "<class 'int'>\n",
      "<class 'int'>\n",
      "<class 'int'>\n",
      "<class 'int'>\n",
      "<class 'int'>\n",
      "<class 'int'>\n",
      "<class 'int'>\n",
      "<class 'int'>\n",
      "<class 'int'>\n",
      "<class 'int'>\n",
      "<class 'int'>\n",
      "<class 'int'>\n",
      "<class 'int'>\n",
      "<class 'int'>\n",
      "<class 'int'>\n",
      "<class 'int'>\n",
      "<class 'int'>\n",
      "<class 'int'>\n",
      "<class 'int'>\n",
      "<class 'int'>\n",
      "<class 'int'>\n",
      "<class 'int'>\n",
      "<class 'int'>\n",
      "<class 'int'>\n",
      "<class 'int'>\n",
      "<class 'int'>\n",
      "<class 'int'>\n",
      "<class 'int'>\n",
      "<class 'int'>\n",
      "<class 'int'>\n",
      "<class 'int'>\n",
      "<class 'int'>\n",
      "<class 'int'>\n",
      "<class 'int'>\n",
      "<class 'int'>\n",
      "<class 'int'>\n",
      "<class 'int'>\n",
      "<class 'int'>\n",
      "<class 'int'>\n",
      "<class 'int'>\n",
      "<class 'int'>\n",
      "<class 'int'>\n",
      "<class 'int'>\n",
      "<class 'int'>\n",
      "<class 'int'>\n",
      "<class 'int'>\n",
      "<class 'int'>\n",
      "<class 'int'>\n",
      "<class 'int'>\n",
      "<class 'int'>\n",
      "<class 'int'>\n",
      "<class 'int'>\n",
      "<class 'int'>\n",
      "<class 'int'>\n",
      "<class 'int'>\n",
      "<class 'int'>\n",
      "<class 'int'>\n",
      "<class 'int'>\n",
      "<class 'int'>\n",
      "<class 'int'>\n",
      "<class 'int'>\n",
      "<class 'int'>\n",
      "<class 'int'>\n",
      "<class 'int'>\n",
      "<class 'int'>\n",
      "<class 'int'>\n",
      "<class 'int'>\n",
      "<class 'int'>\n",
      "<class 'int'>\n",
      "<class 'int'>\n",
      "<class 'int'>\n",
      "<class 'int'>\n",
      "<class 'int'>\n",
      "<class 'int'>\n",
      "<class 'int'>\n",
      "<class 'int'>\n",
      "<class 'int'>\n",
      "<class 'int'>\n",
      "<class 'int'>\n",
      "<class 'int'>\n",
      "<class 'int'>\n",
      "<class 'int'>\n",
      "<class 'int'>\n",
      "<class 'int'>\n",
      "<class 'int'>\n",
      "<class 'int'>\n",
      "<class 'int'>\n",
      "<class 'int'>\n",
      "<class 'int'>\n",
      "<class 'int'>\n",
      "<class 'int'>\n",
      "<class 'int'>\n",
      "<class 'int'>\n",
      "<class 'int'>\n",
      "<class 'int'>\n",
      "<class 'int'>\n",
      "<class 'int'>\n",
      "<class 'int'>\n",
      "<class 'int'>\n",
      "<class 'int'>\n",
      "<class 'int'>\n",
      "<class 'int'>\n",
      "<class 'int'>\n",
      "<class 'int'>\n",
      "<class 'int'>\n",
      "<class 'int'>\n",
      "<class 'int'>\n",
      "<class 'int'>\n",
      "<class 'int'>\n",
      "<class 'int'>\n",
      "<class 'int'>\n",
      "<class 'int'>\n",
      "<class 'int'>\n",
      "<class 'int'>\n",
      "<class 'int'>\n",
      "<class 'int'>\n",
      "<class 'int'>\n",
      "<class 'int'>\n",
      "<class 'int'>\n",
      "<class 'int'>\n",
      "<class 'int'>\n",
      "<class 'int'>\n",
      "<class 'int'>\n",
      "<class 'int'>\n",
      "<class 'int'>\n",
      "<class 'int'>\n",
      "<class 'int'>\n",
      "<class 'int'>\n",
      "<class 'int'>\n",
      "<class 'int'>\n",
      "<class 'int'>\n",
      "<class 'int'>\n",
      "<class 'int'>\n",
      "<class 'int'>\n",
      "<class 'int'>\n",
      "<class 'int'>\n",
      "<class 'int'>\n",
      "<class 'int'>\n",
      "<class 'int'>\n",
      "<class 'int'>\n",
      "<class 'int'>\n",
      "<class 'int'>\n",
      "<class 'int'>\n",
      "<class 'int'>\n",
      "<class 'int'>\n",
      "<class 'int'>\n",
      "<class 'int'>\n",
      "<class 'int'>\n",
      "<class 'int'>\n",
      "<class 'int'>\n",
      "<class 'int'>\n",
      "<class 'int'>\n",
      "<class 'int'>\n",
      "<class 'int'>\n",
      "<class 'int'>\n",
      "<class 'int'>\n",
      "<class 'int'>\n",
      "<class 'int'>\n",
      "<class 'int'>\n",
      "<class 'int'>\n",
      "<class 'int'>\n",
      "<class 'int'>\n",
      "<class 'int'>\n",
      "<class 'int'>\n",
      "<class 'int'>\n",
      "<class 'int'>\n",
      "<class 'int'>\n",
      "<class 'int'>\n",
      "<class 'int'>\n",
      "<class 'int'>\n",
      "<class 'int'>\n",
      "<class 'int'>\n",
      "<class 'int'>\n",
      "<class 'int'>\n",
      "<class 'int'>\n",
      "<class 'int'>\n",
      "<class 'int'>\n",
      "<class 'int'>\n",
      "<class 'int'>\n",
      "<class 'int'>\n",
      "<class 'int'>\n",
      "<class 'int'>\n",
      "<class 'int'>\n",
      "<class 'int'>\n",
      "<class 'int'>\n",
      "<class 'int'>\n",
      "<class 'int'>\n",
      "<class 'int'>\n",
      "<class 'int'>\n",
      "<class 'int'>\n",
      "<class 'int'>\n",
      "<class 'int'>\n",
      "<class 'int'>\n",
      "<class 'int'>\n",
      "<class 'int'>\n",
      "<class 'int'>\n",
      "<class 'int'>\n",
      "<class 'int'>\n",
      "<class 'int'>\n",
      "<class 'int'>\n",
      "<class 'int'>\n",
      "<class 'int'>\n",
      "<class 'int'>\n",
      "<class 'int'>\n",
      "<class 'int'>\n",
      "<class 'int'>\n",
      "<class 'int'>\n",
      "<class 'int'>\n",
      "<class 'int'>\n",
      "<class 'int'>\n",
      "<class 'int'>\n",
      "<class 'int'>\n",
      "<class 'int'>\n",
      "<class 'int'>\n",
      "<class 'int'>\n",
      "<class 'int'>\n",
      "<class 'int'>\n",
      "<class 'int'>\n",
      "<class 'int'>\n",
      "<class 'int'>\n",
      "<class 'int'>\n",
      "<class 'int'>\n",
      "<class 'int'>\n",
      "<class 'int'>\n",
      "<class 'int'>\n",
      "<class 'int'>\n",
      "<class 'int'>\n",
      "<class 'int'>\n",
      "<class 'int'>\n",
      "<class 'int'>\n",
      "<class 'int'>\n",
      "<class 'int'>\n",
      "<class 'int'>\n",
      "<class 'int'>\n",
      "<class 'int'>\n",
      "<class 'int'>\n",
      "<class 'int'>\n",
      "<class 'int'>\n",
      "<class 'int'>\n",
      "<class 'int'>\n",
      "<class 'int'>\n",
      "<class 'int'>\n",
      "<class 'int'>\n",
      "<class 'int'>\n",
      "<class 'int'>\n",
      "<class 'int'>\n",
      "<class 'int'>\n",
      "<class 'int'>\n",
      "<class 'int'>\n",
      "<class 'int'>\n",
      "<class 'int'>\n",
      "<class 'int'>\n",
      "<class 'int'>\n",
      "<class 'int'>\n",
      "<class 'int'>\n",
      "<class 'int'>\n",
      "<class 'int'>\n",
      "<class 'int'>\n",
      "<class 'int'>\n",
      "<class 'int'>\n",
      "<class 'int'>\n",
      "<class 'int'>\n",
      "<class 'int'>\n",
      "<class 'int'>\n",
      "<class 'int'>\n",
      "<class 'int'>\n",
      "<class 'int'>\n",
      "<class 'int'>\n",
      "<class 'int'>\n",
      "<class 'int'>\n",
      "<class 'int'>\n",
      "<class 'int'>\n",
      "<class 'int'>\n",
      "<class 'int'>\n",
      "<class 'int'>\n",
      "<class 'int'>\n",
      "<class 'int'>\n",
      "<class 'int'>\n",
      "<class 'int'>\n",
      "<class 'int'>\n",
      "<class 'int'>\n",
      "<class 'int'>\n",
      "<class 'int'>\n",
      "<class 'int'>\n",
      "<class 'int'>\n",
      "<class 'int'>\n",
      "<class 'int'>\n",
      "<class 'int'>\n",
      "<class 'int'>\n",
      "<class 'int'>\n",
      "<class 'int'>\n",
      "<class 'int'>\n",
      "<class 'int'>\n",
      "<class 'int'>\n",
      "<class 'int'>\n",
      "<class 'int'>\n",
      "<class 'int'>\n",
      "<class 'int'>\n",
      "<class 'int'>\n",
      "<class 'int'>\n",
      "<class 'int'>\n",
      "<class 'int'>\n",
      "<class 'int'>\n",
      "<class 'int'>\n",
      "<class 'int'>\n",
      "<class 'int'>\n",
      "<class 'int'>\n",
      "<class 'int'>\n",
      "<class 'int'>\n",
      "<class 'int'>\n",
      "<class 'int'>\n",
      "<class 'int'>\n",
      "<class 'int'>\n",
      "<class 'int'>\n",
      "<class 'int'>\n",
      "<class 'int'>\n",
      "<class 'int'>\n",
      "<class 'int'>\n",
      "<class 'int'>\n",
      "<class 'int'>\n",
      "<class 'int'>\n",
      "<class 'int'>\n",
      "<class 'int'>\n",
      "<class 'int'>\n",
      "<class 'int'>\n",
      "<class 'int'>\n",
      "<class 'int'>\n",
      "<class 'int'>\n",
      "<class 'int'>\n",
      "<class 'int'>\n",
      "<class 'int'>\n",
      "<class 'int'>\n",
      "<class 'int'>\n",
      "<class 'int'>\n",
      "<class 'int'>\n",
      "<class 'int'>\n",
      "<class 'int'>\n",
      "<class 'int'>\n",
      "<class 'int'>\n",
      "<class 'int'>\n",
      "<class 'int'>\n",
      "<class 'int'>\n",
      "<class 'int'>\n",
      "<class 'int'>\n",
      "<class 'int'>\n",
      "<class 'int'>\n",
      "<class 'int'>\n",
      "<class 'int'>\n",
      "<class 'int'>\n",
      "<class 'int'>\n",
      "<class 'int'>\n",
      "<class 'int'>\n",
      "<class 'int'>\n",
      "<class 'int'>\n",
      "<class 'int'>\n",
      "<class 'int'>\n",
      "<class 'int'>\n",
      "<class 'int'>\n",
      "<class 'int'>\n",
      "<class 'int'>\n",
      "<class 'int'>\n",
      "<class 'int'>\n",
      "<class 'int'>\n",
      "<class 'int'>\n",
      "<class 'int'>\n",
      "<class 'int'>\n",
      "<class 'int'>\n",
      "<class 'int'>\n",
      "<class 'int'>\n",
      "<class 'int'>\n",
      "<class 'int'>\n",
      "<class 'int'>\n",
      "<class 'int'>\n",
      "<class 'int'>\n",
      "<class 'int'>\n",
      "<class 'int'>\n",
      "<class 'int'>\n",
      "<class 'int'>\n",
      "<class 'int'>\n",
      "<class 'int'>\n",
      "<class 'int'>\n",
      "<class 'int'>\n",
      "<class 'int'>\n",
      "<class 'int'>\n",
      "<class 'int'>\n",
      "<class 'int'>\n",
      "<class 'int'>\n",
      "<class 'int'>\n",
      "<class 'int'>\n",
      "<class 'int'>\n",
      "<class 'int'>\n",
      "<class 'int'>\n",
      "<class 'int'>\n",
      "<class 'int'>\n",
      "<class 'int'>\n",
      "<class 'int'>\n",
      "<class 'int'>\n",
      "<class 'int'>\n",
      "<class 'int'>\n",
      "<class 'int'>\n",
      "<class 'int'>\n",
      "<class 'int'>\n",
      "<class 'int'>\n",
      "<class 'int'>\n",
      "<class 'int'>\n",
      "<class 'int'>\n",
      "<class 'int'>\n",
      "<class 'int'>\n",
      "<class 'int'>\n",
      "<class 'int'>\n",
      "<class 'int'>\n",
      "<class 'int'>\n",
      "<class 'int'>\n",
      "<class 'int'>\n",
      "<class 'int'>\n",
      "<class 'int'>\n",
      "<class 'int'>\n",
      "<class 'int'>\n",
      "<class 'int'>\n",
      "<class 'int'>\n",
      "<class 'int'>\n",
      "<class 'int'>\n",
      "<class 'int'>\n",
      "<class 'int'>\n",
      "<class 'int'>\n",
      "<class 'int'>\n",
      "<class 'int'>\n",
      "<class 'int'>\n",
      "<class 'int'>\n",
      "<class 'int'>\n",
      "<class 'int'>\n",
      "<class 'int'>\n",
      "<class 'int'>\n",
      "<class 'int'>\n",
      "<class 'int'>\n",
      "<class 'int'>\n",
      "<class 'int'>\n",
      "<class 'int'>\n",
      "<class 'int'>\n",
      "<class 'int'>\n",
      "<class 'int'>\n",
      "<class 'int'>\n",
      "<class 'int'>\n",
      "<class 'int'>\n",
      "<class 'int'>\n",
      "<class 'int'>\n",
      "<class 'int'>\n",
      "<class 'int'>\n",
      "<class 'int'>\n",
      "<class 'int'>\n",
      "<class 'int'>\n",
      "<class 'int'>\n",
      "<class 'int'>\n",
      "<class 'int'>\n",
      "<class 'int'>\n",
      "<class 'int'>\n",
      "<class 'int'>\n",
      "<class 'int'>\n",
      "<class 'int'>\n",
      "<class 'int'>\n",
      "<class 'int'>\n",
      "<class 'int'>\n",
      "<class 'int'>\n",
      "<class 'int'>\n",
      "<class 'int'>\n",
      "<class 'int'>\n",
      "<class 'int'>\n",
      "<class 'int'>\n",
      "<class 'int'>\n",
      "<class 'int'>\n",
      "<class 'int'>\n",
      "<class 'int'>\n",
      "<class 'int'>\n",
      "<class 'int'>\n",
      "<class 'int'>\n",
      "<class 'int'>\n",
      "<class 'int'>\n",
      "<class 'int'>\n",
      "<class 'int'>\n",
      "<class 'int'>\n",
      "<class 'int'>\n",
      "<class 'int'>\n",
      "<class 'int'>\n",
      "<class 'int'>\n",
      "<class 'int'>\n",
      "<class 'int'>\n",
      "<class 'int'>\n",
      "<class 'int'>\n",
      "<class 'int'>\n",
      "<class 'int'>\n",
      "<class 'int'>\n",
      "<class 'int'>\n",
      "<class 'int'>\n",
      "<class 'int'>\n",
      "<class 'int'>\n",
      "<class 'int'>\n",
      "<class 'int'>\n",
      "<class 'int'>\n",
      "<class 'int'>\n",
      "<class 'int'>\n",
      "<class 'int'>\n",
      "<class 'int'>\n",
      "<class 'int'>\n",
      "<class 'int'>\n",
      "<class 'int'>\n",
      "<class 'int'>\n",
      "<class 'int'>\n",
      "<class 'int'>\n",
      "<class 'int'>\n",
      "<class 'int'>\n",
      "<class 'int'>\n",
      "<class 'int'>\n",
      "<class 'int'>\n",
      "<class 'int'>\n",
      "<class 'int'>\n",
      "<class 'int'>\n",
      "<class 'int'>\n",
      "<class 'int'>\n",
      "<class 'int'>\n",
      "<class 'int'>\n",
      "<class 'int'>\n",
      "<class 'int'>\n",
      "<class 'int'>\n",
      "<class 'int'>\n",
      "<class 'int'>\n",
      "<class 'int'>\n",
      "<class 'int'>\n",
      "<class 'int'>\n",
      "<class 'int'>\n",
      "<class 'int'>\n",
      "<class 'int'>\n",
      "<class 'int'>\n",
      "<class 'int'>\n",
      "<class 'int'>\n",
      "<class 'int'>\n",
      "<class 'int'>\n",
      "<class 'int'>\n",
      "<class 'int'>\n",
      "<class 'int'>\n",
      "<class 'int'>\n",
      "<class 'int'>\n",
      "<class 'int'>\n",
      "<class 'int'>\n",
      "<class 'int'>\n",
      "<class 'int'>\n",
      "<class 'int'>\n",
      "<class 'int'>\n",
      "<class 'int'>\n",
      "<class 'int'>\n",
      "<class 'int'>\n",
      "<class 'int'>\n",
      "<class 'int'>\n",
      "<class 'int'>\n",
      "<class 'int'>\n",
      "<class 'int'>\n",
      "<class 'int'>\n",
      "<class 'int'>\n",
      "<class 'int'>\n",
      "<class 'int'>\n",
      "<class 'int'>\n",
      "<class 'int'>\n",
      "<class 'int'>\n",
      "<class 'int'>\n",
      "<class 'int'>\n",
      "<class 'int'>\n",
      "<class 'int'>\n",
      "<class 'int'>\n",
      "<class 'int'>\n",
      "<class 'int'>\n",
      "<class 'int'>\n",
      "<class 'int'>\n",
      "<class 'int'>\n",
      "<class 'int'>\n",
      "<class 'int'>\n",
      "<class 'int'>\n",
      "<class 'int'>\n",
      "<class 'int'>\n",
      "<class 'int'>\n",
      "<class 'int'>\n",
      "<class 'int'>\n",
      "<class 'int'>\n",
      "<class 'int'>\n",
      "<class 'int'>\n",
      "<class 'int'>\n",
      "<class 'int'>\n",
      "<class 'int'>\n",
      "<class 'int'>\n",
      "<class 'int'>\n",
      "<class 'int'>\n",
      "<class 'int'>\n",
      "<class 'int'>\n",
      "<class 'int'>\n",
      "<class 'int'>\n",
      "<class 'int'>\n",
      "<class 'int'>\n",
      "<class 'int'>\n",
      "<class 'int'>\n",
      "<class 'int'>\n",
      "<class 'int'>\n",
      "<class 'int'>\n",
      "<class 'int'>\n",
      "<class 'int'>\n",
      "<class 'int'>\n",
      "<class 'int'>\n",
      "<class 'int'>\n",
      "<class 'int'>\n",
      "<class 'int'>\n",
      "<class 'int'>\n",
      "<class 'int'>\n",
      "<class 'int'>\n",
      "<class 'int'>\n",
      "<class 'int'>\n",
      "<class 'int'>\n",
      "<class 'int'>\n"
     ]
    }
   ],
   "source": [
    "for item in df_male['Heightin']:\n",
    "    print(type(item))"
   ],
   "metadata": {
    "collapsed": false,
    "pycharm": {
     "name": "#%%\n"
    }
   }
  },
  {
   "cell_type": "code",
   "execution_count": 87,
   "outputs": [],
   "source": [
    "df_male_height = df_male"
   ],
   "metadata": {
    "collapsed": false,
    "pycharm": {
     "name": "#%%\n"
    }
   }
  },
  {
   "cell_type": "code",
   "execution_count": 88,
   "outputs": [
    {
     "data": {
      "text/plain": "   Heightin\n0        71\n1        68\n2        68\n3        66\n4        77",
      "text/html": "<div>\n<style scoped>\n    .dataframe tbody tr th:only-of-type {\n        vertical-align: middle;\n    }\n\n    .dataframe tbody tr th {\n        vertical-align: top;\n    }\n\n    .dataframe thead th {\n        text-align: right;\n    }\n</style>\n<table border=\"1\" class=\"dataframe\">\n  <thead>\n    <tr style=\"text-align: right;\">\n      <th></th>\n      <th>Heightin</th>\n    </tr>\n  </thead>\n  <tbody>\n    <tr>\n      <th>0</th>\n      <td>71</td>\n    </tr>\n    <tr>\n      <th>1</th>\n      <td>68</td>\n    </tr>\n    <tr>\n      <th>2</th>\n      <td>68</td>\n    </tr>\n    <tr>\n      <th>3</th>\n      <td>66</td>\n    </tr>\n    <tr>\n      <th>4</th>\n      <td>77</td>\n    </tr>\n  </tbody>\n</table>\n</div>"
     },
     "execution_count": 88,
     "metadata": {},
     "output_type": "execute_result"
    }
   ],
   "source": [
    "df_male_height.head()"
   ],
   "metadata": {
    "collapsed": false,
    "pycharm": {
     "name": "#%%\n"
    }
   }
  },
  {
   "cell_type": "code",
   "execution_count": 89,
   "outputs": [],
   "source": [
    "df_male = pd.read_csv('male.csv')"
   ],
   "metadata": {
    "collapsed": false,
    "pycharm": {
     "name": "#%%\n"
    }
   }
  },
  {
   "cell_type": "code",
   "execution_count": 90,
   "outputs": [],
   "source": [
    "df_male['Heightin'] = df_male['Heightin'].multiply(2.54)"
   ],
   "metadata": {
    "collapsed": false,
    "pycharm": {
     "name": "#%%\n"
    }
   }
  },
  {
   "cell_type": "code",
   "execution_count": 91,
   "outputs": [],
   "source": [
    "df_male_height = pd.read_csv('male.csv', usecols=['Heightin'])"
   ],
   "metadata": {
    "collapsed": false,
    "pycharm": {
     "name": "#%%\n"
    }
   }
  },
  {
   "cell_type": "code",
   "execution_count": 92,
   "outputs": [],
   "source": [
    "df_male_height = df_male_height.rename(columns={'Heightin':'height_cm'})"
   ],
   "metadata": {
    "collapsed": false,
    "pycharm": {
     "name": "#%%\n"
    }
   }
  },
  {
   "cell_type": "code",
   "execution_count": 93,
   "outputs": [
    {
     "data": {
      "text/plain": "   height_cm\n0         71\n1         68\n2         68\n3         66\n4         77",
      "text/html": "<div>\n<style scoped>\n    .dataframe tbody tr th:only-of-type {\n        vertical-align: middle;\n    }\n\n    .dataframe tbody tr th {\n        vertical-align: top;\n    }\n\n    .dataframe thead th {\n        text-align: right;\n    }\n</style>\n<table border=\"1\" class=\"dataframe\">\n  <thead>\n    <tr style=\"text-align: right;\">\n      <th></th>\n      <th>height_cm</th>\n    </tr>\n  </thead>\n  <tbody>\n    <tr>\n      <th>0</th>\n      <td>71</td>\n    </tr>\n    <tr>\n      <th>1</th>\n      <td>68</td>\n    </tr>\n    <tr>\n      <th>2</th>\n      <td>68</td>\n    </tr>\n    <tr>\n      <th>3</th>\n      <td>66</td>\n    </tr>\n    <tr>\n      <th>4</th>\n      <td>77</td>\n    </tr>\n  </tbody>\n</table>\n</div>"
     },
     "execution_count": 93,
     "metadata": {},
     "output_type": "execute_result"
    }
   ],
   "source": [
    "df_male_height.head()"
   ],
   "metadata": {
    "collapsed": false,
    "pycharm": {
     "name": "#%%\n"
    }
   }
  },
  {
   "cell_type": "code",
   "execution_count": 94,
   "outputs": [],
   "source": [
    "df_male_height ['height_cm'] = df_male_height['height_cm'].multiply(2.54)"
   ],
   "metadata": {
    "collapsed": false,
    "pycharm": {
     "name": "#%%\n"
    }
   }
  },
  {
   "cell_type": "code",
   "execution_count": 95,
   "outputs": [
    {
     "data": {
      "text/plain": "   height_cm\n0     180.34\n1     172.72\n2     172.72\n3     167.64\n4     195.58",
      "text/html": "<div>\n<style scoped>\n    .dataframe tbody tr th:only-of-type {\n        vertical-align: middle;\n    }\n\n    .dataframe tbody tr th {\n        vertical-align: top;\n    }\n\n    .dataframe thead th {\n        text-align: right;\n    }\n</style>\n<table border=\"1\" class=\"dataframe\">\n  <thead>\n    <tr style=\"text-align: right;\">\n      <th></th>\n      <th>height_cm</th>\n    </tr>\n  </thead>\n  <tbody>\n    <tr>\n      <th>0</th>\n      <td>180.34</td>\n    </tr>\n    <tr>\n      <th>1</th>\n      <td>172.72</td>\n    </tr>\n    <tr>\n      <th>2</th>\n      <td>172.72</td>\n    </tr>\n    <tr>\n      <th>3</th>\n      <td>167.64</td>\n    </tr>\n    <tr>\n      <th>4</th>\n      <td>195.58</td>\n    </tr>\n  </tbody>\n</table>\n</div>"
     },
     "execution_count": 95,
     "metadata": {},
     "output_type": "execute_result"
    }
   ],
   "source": [
    "df_male_height.head()"
   ],
   "metadata": {
    "collapsed": false,
    "pycharm": {
     "name": "#%%\n"
    }
   }
  },
  {
   "cell_type": "code",
   "execution_count": 96,
   "outputs": [],
   "source": [
    "df_male_height.to_csv('df_male_height.csv')"
   ],
   "metadata": {
    "collapsed": false,
    "pycharm": {
     "name": "#%%\n"
    }
   }
  },
  {
   "cell_type": "code",
   "execution_count": 97,
   "outputs": [
    {
     "data": {
      "text/plain": "      height_cm\n0         180.0\n1         173.0\n2         173.0\n3         168.0\n4         196.0\n...         ...\n4077      170.0\n4078      180.0\n4079      170.0\n4080      175.0\n4081      185.0\n\n[4082 rows x 1 columns]",
      "text/html": "<div>\n<style scoped>\n    .dataframe tbody tr th:only-of-type {\n        vertical-align: middle;\n    }\n\n    .dataframe tbody tr th {\n        vertical-align: top;\n    }\n\n    .dataframe thead th {\n        text-align: right;\n    }\n</style>\n<table border=\"1\" class=\"dataframe\">\n  <thead>\n    <tr style=\"text-align: right;\">\n      <th></th>\n      <th>height_cm</th>\n    </tr>\n  </thead>\n  <tbody>\n    <tr>\n      <th>0</th>\n      <td>180.0</td>\n    </tr>\n    <tr>\n      <th>1</th>\n      <td>173.0</td>\n    </tr>\n    <tr>\n      <th>2</th>\n      <td>173.0</td>\n    </tr>\n    <tr>\n      <th>3</th>\n      <td>168.0</td>\n    </tr>\n    <tr>\n      <th>4</th>\n      <td>196.0</td>\n    </tr>\n    <tr>\n      <th>...</th>\n      <td>...</td>\n    </tr>\n    <tr>\n      <th>4077</th>\n      <td>170.0</td>\n    </tr>\n    <tr>\n      <th>4078</th>\n      <td>180.0</td>\n    </tr>\n    <tr>\n      <th>4079</th>\n      <td>170.0</td>\n    </tr>\n    <tr>\n      <th>4080</th>\n      <td>175.0</td>\n    </tr>\n    <tr>\n      <th>4081</th>\n      <td>185.0</td>\n    </tr>\n  </tbody>\n</table>\n<p>4082 rows × 1 columns</p>\n</div>"
     },
     "execution_count": 97,
     "metadata": {},
     "output_type": "execute_result"
    }
   ],
   "source": [
    "df_male_height.round()"
   ],
   "metadata": {
    "collapsed": false,
    "pycharm": {
     "name": "#%%\n"
    }
   }
  },
  {
   "cell_type": "code",
   "execution_count": 99,
   "outputs": [],
   "source": [
    "df_male_height.to_csv('df_male_height.csv')"
   ],
   "metadata": {
    "collapsed": false,
    "pycharm": {
     "name": "#%%\n"
    }
   }
  },
  {
   "cell_type": "code",
   "execution_count": 100,
   "outputs": [],
   "source": [
    "df_male_height = df_male_height.round()"
   ],
   "metadata": {
    "collapsed": false,
    "pycharm": {
     "name": "#%%\n"
    }
   }
  },
  {
   "cell_type": "code",
   "execution_count": 101,
   "outputs": [
    {
     "data": {
      "text/plain": "   height_cm\n0      180.0\n1      173.0\n2      173.0\n3      168.0\n4      196.0",
      "text/html": "<div>\n<style scoped>\n    .dataframe tbody tr th:only-of-type {\n        vertical-align: middle;\n    }\n\n    .dataframe tbody tr th {\n        vertical-align: top;\n    }\n\n    .dataframe thead th {\n        text-align: right;\n    }\n</style>\n<table border=\"1\" class=\"dataframe\">\n  <thead>\n    <tr style=\"text-align: right;\">\n      <th></th>\n      <th>height_cm</th>\n    </tr>\n  </thead>\n  <tbody>\n    <tr>\n      <th>0</th>\n      <td>180.0</td>\n    </tr>\n    <tr>\n      <th>1</th>\n      <td>173.0</td>\n    </tr>\n    <tr>\n      <th>2</th>\n      <td>173.0</td>\n    </tr>\n    <tr>\n      <th>3</th>\n      <td>168.0</td>\n    </tr>\n    <tr>\n      <th>4</th>\n      <td>196.0</td>\n    </tr>\n  </tbody>\n</table>\n</div>"
     },
     "execution_count": 101,
     "metadata": {},
     "output_type": "execute_result"
    }
   ],
   "source": [
    "df_male_height.head()"
   ],
   "metadata": {
    "collapsed": false,
    "pycharm": {
     "name": "#%%\n"
    }
   }
  },
  {
   "cell_type": "code",
   "execution_count": 102,
   "outputs": [],
   "source": [
    "df_male_height.to_csv('df_male_height.csv')"
   ],
   "metadata": {
    "collapsed": false,
    "pycharm": {
     "name": "#%%\n"
    }
   }
  },
  {
   "cell_type": "code",
   "execution_count": 103,
   "outputs": [],
   "source": [
    "df_male = pd.read_csv('male.csv')"
   ],
   "metadata": {
    "collapsed": false,
    "pycharm": {
     "name": "#%%\n"
    }
   }
  },
  {
   "cell_type": "code",
   "execution_count": 104,
   "outputs": [
    {
     "data": {
      "text/plain": "   subjectid  abdominalextensiondepthsitting  acromialheight  \\\n0      10027                             266            1467   \n1      10032                             233            1395   \n2      10033                             287            1430   \n3      10092                             234            1347   \n4      10093                             250            1585   \n\n   acromionradialelength  anklecircumference  axillaheight  \\\n0                    337                 222          1347   \n1                    326                 220          1293   \n2                    341                 230          1327   \n3                    310                 230          1239   \n4                    372                 247          1478   \n\n   balloffootcircumference  balloffootlength  biacromialbreadth  \\\n0                      253               202                401   \n1                      245               193                394   \n2                      256               196                427   \n3                      262               199                401   \n4                      267               224                435   \n\n   bicepscircumferenceflexed  bicristalbreadth  bideltoidbreadth  \\\n0                        369               274               493   \n1                        338               257               479   \n2                        408               261               544   \n3                        359               262               518   \n4                        356               263               524   \n\n   bimalleolarbreadth  bitragionchinarc  bitragionsubmandibulararc  \\\n0                  71               319                        291   \n1                  67               344                        320   \n2                  75               345                        330   \n3                  73               328                        309   \n4                  80               340                        310   \n\n   bizygomaticbreadth  buttockcircumference  buttockdepth  buttockheight  \\\n0                 142                   979           240            882   \n1                 135                   944           232            870   \n2                 135                  1054           258            901   \n3                 143                   991           242            821   \n4                 138                  1029           275           1080   \n\n   buttockkneelength  buttockpopliteallength  calfcircumference  \\\n0                619                     509                373   \n1                584                     468                357   \n2                623                     506                412   \n3                560                     437                395   \n4                706                     567                425   \n\n   cervicaleheight  chestbreadth  chestcircumference  chestdepth  chestheight  \\\n0             1535           291                1074         259         1292   \n1             1471           269                1021         253         1244   \n2             1501           288                1120         267         1288   \n3             1423           296                1114         262         1205   \n4             1684           304                1048         232         1452   \n\n   crotchheight  crotchlengthomphalion  crotchlengthposterioromphalion  \\\n0           877                    607                             351   \n1           851                    615                             376   \n2           854                    636                             359   \n3           769                    590                             341   \n4          1014                    682                             382   \n\n   earbreadth  earlength  earprotrusion  elbowrestheight  eyeheightsitting  \\\n0          36         71             19              247               802   \n1          33         62             18              232               781   \n2          40         61             23              237               810   \n3          39         66             25              272               794   \n4          32         56             19              188               814   \n\n   footbreadthhorizontal  footlength  forearmcenterofgriplength  \\\n0                    101         273                        349   \n1                     98         263                        348   \n2                    103         270                        355   \n3                    106         267                        352   \n4                    111         305                        399   \n\n   forearmcircumferenceflexed  forearmforearmbreadth  forearmhandlength  \\\n0                         299                    575                477   \n1                         289                    523                476   \n2                         357                    575                491   \n3                         318                    593                467   \n4                         324                    605                550   \n\n   functionalleglength  handbreadth  handcircumference  handlength  \\\n0                 1136           90                214         193   \n1                 1096           86                203         195   \n2                 1115           93                220         203   \n3                 1034           91                217         194   \n4                 1279           94                222         218   \n\n   headbreadth  headcircumference  headlength  heelanklecircumference  \\\n0          150                583         206                     326   \n1          146                568         201                     334   \n2          148                573         202                     356   \n3          158                576         199                     341   \n4          153                566         197                     374   \n\n   heelbreadth  hipbreadth  hipbreadthsitting  iliocristaleheight  \\\n0           70         332                366                1071   \n1           72         312                356                1046   \n2           70         349                393                1053   \n3           68         338                367                 986   \n4           69         332                372                1251   \n\n   interpupillarybreadth  interscyei  interscyeii  kneeheightmidpatella  \\\n0                    685         422          441                   502   \n1                    620         441          447                   490   \n2                    665         462          475                   496   \n3                    640         458          461                   460   \n4                    675         481          505                   612   \n\n   kneeheightsitting  lateralfemoralepicondyleheight  lateralmalleolusheight  \\\n0                560                             500                      77   \n1                540                             488                      73   \n2                556                             482                      72   \n3                511                             452                      76   \n4                666                             585                      85   \n\n   lowerthighcircumference  mentonsellionlength  neckcircumference  \\\n0                      391                  118                400   \n1                      371                  131                380   \n2                      409                  123                403   \n3                      393                  106                407   \n4                      458                  135                398   \n\n   neckcircumferencebase  overheadfingertipreachsitting  palmlength  \\\n0                    436                           1447         113   \n1                    420                           1380         118   \n2                    434                           1447         121   \n3                    446                           1357         118   \n4                    430                           1572         132   \n\n   poplitealheight  radialestylionlength  shouldercircumference  \\\n0              437                   273                   1151   \n1              417                   254                   1119   \n2              431                   268                   1276   \n3              393                   249                   1155   \n4              523                   302                   1231   \n\n   shoulderelbowlength  shoulderlength  sittingheight  sleevelengthspinewrist  \\\n0                  368             145            928                     883   \n1                  353             141            884                     868   \n2                  367             167            917                     910   \n3                  330             148            903                     848   \n4                  400             180            919                     995   \n\n   sleeveoutseam  span  stature  suprasternaleheight  tenthribheight  \\\n0            600  1782     1776                 1449            1092   \n1            564  1745     1702                 1387            1076   \n2            604  1867     1735                 1438            1105   \n3            550  1708     1655                 1346            1021   \n4            641  2035     1914                 1596            1292   \n\n   thighcircumference  thighclearance  thumbtipreach  tibialheight  \\\n0                 610             164            786           491   \n1                 572             169            822           476   \n2                 685             198            807           477   \n3                 604             180            803           445   \n4                 672             194            962           584   \n\n   tragiontopofhead  trochanterionheight  verticaltrunkcircumferenceusa  \\\n0               140                  919                           1700   \n1               120                  918                           1627   \n2               125                  918                           1678   \n3               127                  847                           1625   \n4               122                 1090                           1679   \n\n   waistbacklength  waistbreadth  waistcircumference  waistdepth  \\\n0              501           329                 933         240   \n1              432           316                 870         225   \n2              472           329                 964         255   \n3              461           315                 857         205   \n4              467           303                 868         214   \n\n   waistfrontlengthsitting  waistheightomphalion  weightkg  \\\n0                      440                  1054       815   \n1                      371                  1054       726   \n2                      411                  1041       929   \n3                      399                   968       794   \n4                      379                  1245       946   \n\n   wristcircumference  wristheight Gender       Date Installation  \\\n0                 175          853   Male   4-Oct-10    Fort Hood   \n1                 167          815   Male   4-Oct-10    Fort Hood   \n2                 180          831   Male   4-Oct-10    Fort Hood   \n3                 176          793   Male  12-Oct-10    Fort Hood   \n4                 188          954   Male  12-Oct-10    Fort Hood   \n\n      Component                  Branch PrimaryMOS SubjectsBirthLocation  \\\n0  Regular Army             Combat Arms        19D          North Dakota   \n1  Regular Army          Combat Support        68W              New York   \n2  Regular Army          Combat Support        68W              New York   \n3  Regular Army  Combat Service Support        88M             Wisconsin   \n4  Regular Army  Combat Service Support        92G        North Carolina   \n\n   SubjectNumericRace Ethnicity  DODRace  Age  Heightin  Weightlbs  \\\n0                   1       NaN        1   41        71        180   \n1                   1       NaN        1   35        68        160   \n2                   2       NaN        2   42        68        205   \n3                   1       NaN        1   31        66        175   \n4                   2       NaN        2   21        77        213   \n\n  WritingPreference  \n0        Right hand  \n1         Left hand  \n2         Left hand  \n3        Right hand  \n4        Right hand  ",
      "text/html": "<div>\n<style scoped>\n    .dataframe tbody tr th:only-of-type {\n        vertical-align: middle;\n    }\n\n    .dataframe tbody tr th {\n        vertical-align: top;\n    }\n\n    .dataframe thead th {\n        text-align: right;\n    }\n</style>\n<table border=\"1\" class=\"dataframe\">\n  <thead>\n    <tr style=\"text-align: right;\">\n      <th></th>\n      <th>subjectid</th>\n      <th>abdominalextensiondepthsitting</th>\n      <th>acromialheight</th>\n      <th>acromionradialelength</th>\n      <th>anklecircumference</th>\n      <th>axillaheight</th>\n      <th>balloffootcircumference</th>\n      <th>balloffootlength</th>\n      <th>biacromialbreadth</th>\n      <th>bicepscircumferenceflexed</th>\n      <th>bicristalbreadth</th>\n      <th>bideltoidbreadth</th>\n      <th>bimalleolarbreadth</th>\n      <th>bitragionchinarc</th>\n      <th>bitragionsubmandibulararc</th>\n      <th>bizygomaticbreadth</th>\n      <th>buttockcircumference</th>\n      <th>buttockdepth</th>\n      <th>buttockheight</th>\n      <th>buttockkneelength</th>\n      <th>buttockpopliteallength</th>\n      <th>calfcircumference</th>\n      <th>cervicaleheight</th>\n      <th>chestbreadth</th>\n      <th>chestcircumference</th>\n      <th>chestdepth</th>\n      <th>chestheight</th>\n      <th>crotchheight</th>\n      <th>crotchlengthomphalion</th>\n      <th>crotchlengthposterioromphalion</th>\n      <th>earbreadth</th>\n      <th>earlength</th>\n      <th>earprotrusion</th>\n      <th>elbowrestheight</th>\n      <th>eyeheightsitting</th>\n      <th>footbreadthhorizontal</th>\n      <th>footlength</th>\n      <th>forearmcenterofgriplength</th>\n      <th>forearmcircumferenceflexed</th>\n      <th>forearmforearmbreadth</th>\n      <th>forearmhandlength</th>\n      <th>functionalleglength</th>\n      <th>handbreadth</th>\n      <th>handcircumference</th>\n      <th>handlength</th>\n      <th>headbreadth</th>\n      <th>headcircumference</th>\n      <th>headlength</th>\n      <th>heelanklecircumference</th>\n      <th>heelbreadth</th>\n      <th>hipbreadth</th>\n      <th>hipbreadthsitting</th>\n      <th>iliocristaleheight</th>\n      <th>interpupillarybreadth</th>\n      <th>interscyei</th>\n      <th>interscyeii</th>\n      <th>kneeheightmidpatella</th>\n      <th>kneeheightsitting</th>\n      <th>lateralfemoralepicondyleheight</th>\n      <th>lateralmalleolusheight</th>\n      <th>lowerthighcircumference</th>\n      <th>mentonsellionlength</th>\n      <th>neckcircumference</th>\n      <th>neckcircumferencebase</th>\n      <th>overheadfingertipreachsitting</th>\n      <th>palmlength</th>\n      <th>poplitealheight</th>\n      <th>radialestylionlength</th>\n      <th>shouldercircumference</th>\n      <th>shoulderelbowlength</th>\n      <th>shoulderlength</th>\n      <th>sittingheight</th>\n      <th>sleevelengthspinewrist</th>\n      <th>sleeveoutseam</th>\n      <th>span</th>\n      <th>stature</th>\n      <th>suprasternaleheight</th>\n      <th>tenthribheight</th>\n      <th>thighcircumference</th>\n      <th>thighclearance</th>\n      <th>thumbtipreach</th>\n      <th>tibialheight</th>\n      <th>tragiontopofhead</th>\n      <th>trochanterionheight</th>\n      <th>verticaltrunkcircumferenceusa</th>\n      <th>waistbacklength</th>\n      <th>waistbreadth</th>\n      <th>waistcircumference</th>\n      <th>waistdepth</th>\n      <th>waistfrontlengthsitting</th>\n      <th>waistheightomphalion</th>\n      <th>weightkg</th>\n      <th>wristcircumference</th>\n      <th>wristheight</th>\n      <th>Gender</th>\n      <th>Date</th>\n      <th>Installation</th>\n      <th>Component</th>\n      <th>Branch</th>\n      <th>PrimaryMOS</th>\n      <th>SubjectsBirthLocation</th>\n      <th>SubjectNumericRace</th>\n      <th>Ethnicity</th>\n      <th>DODRace</th>\n      <th>Age</th>\n      <th>Heightin</th>\n      <th>Weightlbs</th>\n      <th>WritingPreference</th>\n    </tr>\n  </thead>\n  <tbody>\n    <tr>\n      <th>0</th>\n      <td>10027</td>\n      <td>266</td>\n      <td>1467</td>\n      <td>337</td>\n      <td>222</td>\n      <td>1347</td>\n      <td>253</td>\n      <td>202</td>\n      <td>401</td>\n      <td>369</td>\n      <td>274</td>\n      <td>493</td>\n      <td>71</td>\n      <td>319</td>\n      <td>291</td>\n      <td>142</td>\n      <td>979</td>\n      <td>240</td>\n      <td>882</td>\n      <td>619</td>\n      <td>509</td>\n      <td>373</td>\n      <td>1535</td>\n      <td>291</td>\n      <td>1074</td>\n      <td>259</td>\n      <td>1292</td>\n      <td>877</td>\n      <td>607</td>\n      <td>351</td>\n      <td>36</td>\n      <td>71</td>\n      <td>19</td>\n      <td>247</td>\n      <td>802</td>\n      <td>101</td>\n      <td>273</td>\n      <td>349</td>\n      <td>299</td>\n      <td>575</td>\n      <td>477</td>\n      <td>1136</td>\n      <td>90</td>\n      <td>214</td>\n      <td>193</td>\n      <td>150</td>\n      <td>583</td>\n      <td>206</td>\n      <td>326</td>\n      <td>70</td>\n      <td>332</td>\n      <td>366</td>\n      <td>1071</td>\n      <td>685</td>\n      <td>422</td>\n      <td>441</td>\n      <td>502</td>\n      <td>560</td>\n      <td>500</td>\n      <td>77</td>\n      <td>391</td>\n      <td>118</td>\n      <td>400</td>\n      <td>436</td>\n      <td>1447</td>\n      <td>113</td>\n      <td>437</td>\n      <td>273</td>\n      <td>1151</td>\n      <td>368</td>\n      <td>145</td>\n      <td>928</td>\n      <td>883</td>\n      <td>600</td>\n      <td>1782</td>\n      <td>1776</td>\n      <td>1449</td>\n      <td>1092</td>\n      <td>610</td>\n      <td>164</td>\n      <td>786</td>\n      <td>491</td>\n      <td>140</td>\n      <td>919</td>\n      <td>1700</td>\n      <td>501</td>\n      <td>329</td>\n      <td>933</td>\n      <td>240</td>\n      <td>440</td>\n      <td>1054</td>\n      <td>815</td>\n      <td>175</td>\n      <td>853</td>\n      <td>Male</td>\n      <td>4-Oct-10</td>\n      <td>Fort Hood</td>\n      <td>Regular Army</td>\n      <td>Combat Arms</td>\n      <td>19D</td>\n      <td>North Dakota</td>\n      <td>1</td>\n      <td>NaN</td>\n      <td>1</td>\n      <td>41</td>\n      <td>71</td>\n      <td>180</td>\n      <td>Right hand</td>\n    </tr>\n    <tr>\n      <th>1</th>\n      <td>10032</td>\n      <td>233</td>\n      <td>1395</td>\n      <td>326</td>\n      <td>220</td>\n      <td>1293</td>\n      <td>245</td>\n      <td>193</td>\n      <td>394</td>\n      <td>338</td>\n      <td>257</td>\n      <td>479</td>\n      <td>67</td>\n      <td>344</td>\n      <td>320</td>\n      <td>135</td>\n      <td>944</td>\n      <td>232</td>\n      <td>870</td>\n      <td>584</td>\n      <td>468</td>\n      <td>357</td>\n      <td>1471</td>\n      <td>269</td>\n      <td>1021</td>\n      <td>253</td>\n      <td>1244</td>\n      <td>851</td>\n      <td>615</td>\n      <td>376</td>\n      <td>33</td>\n      <td>62</td>\n      <td>18</td>\n      <td>232</td>\n      <td>781</td>\n      <td>98</td>\n      <td>263</td>\n      <td>348</td>\n      <td>289</td>\n      <td>523</td>\n      <td>476</td>\n      <td>1096</td>\n      <td>86</td>\n      <td>203</td>\n      <td>195</td>\n      <td>146</td>\n      <td>568</td>\n      <td>201</td>\n      <td>334</td>\n      <td>72</td>\n      <td>312</td>\n      <td>356</td>\n      <td>1046</td>\n      <td>620</td>\n      <td>441</td>\n      <td>447</td>\n      <td>490</td>\n      <td>540</td>\n      <td>488</td>\n      <td>73</td>\n      <td>371</td>\n      <td>131</td>\n      <td>380</td>\n      <td>420</td>\n      <td>1380</td>\n      <td>118</td>\n      <td>417</td>\n      <td>254</td>\n      <td>1119</td>\n      <td>353</td>\n      <td>141</td>\n      <td>884</td>\n      <td>868</td>\n      <td>564</td>\n      <td>1745</td>\n      <td>1702</td>\n      <td>1387</td>\n      <td>1076</td>\n      <td>572</td>\n      <td>169</td>\n      <td>822</td>\n      <td>476</td>\n      <td>120</td>\n      <td>918</td>\n      <td>1627</td>\n      <td>432</td>\n      <td>316</td>\n      <td>870</td>\n      <td>225</td>\n      <td>371</td>\n      <td>1054</td>\n      <td>726</td>\n      <td>167</td>\n      <td>815</td>\n      <td>Male</td>\n      <td>4-Oct-10</td>\n      <td>Fort Hood</td>\n      <td>Regular Army</td>\n      <td>Combat Support</td>\n      <td>68W</td>\n      <td>New York</td>\n      <td>1</td>\n      <td>NaN</td>\n      <td>1</td>\n      <td>35</td>\n      <td>68</td>\n      <td>160</td>\n      <td>Left hand</td>\n    </tr>\n    <tr>\n      <th>2</th>\n      <td>10033</td>\n      <td>287</td>\n      <td>1430</td>\n      <td>341</td>\n      <td>230</td>\n      <td>1327</td>\n      <td>256</td>\n      <td>196</td>\n      <td>427</td>\n      <td>408</td>\n      <td>261</td>\n      <td>544</td>\n      <td>75</td>\n      <td>345</td>\n      <td>330</td>\n      <td>135</td>\n      <td>1054</td>\n      <td>258</td>\n      <td>901</td>\n      <td>623</td>\n      <td>506</td>\n      <td>412</td>\n      <td>1501</td>\n      <td>288</td>\n      <td>1120</td>\n      <td>267</td>\n      <td>1288</td>\n      <td>854</td>\n      <td>636</td>\n      <td>359</td>\n      <td>40</td>\n      <td>61</td>\n      <td>23</td>\n      <td>237</td>\n      <td>810</td>\n      <td>103</td>\n      <td>270</td>\n      <td>355</td>\n      <td>357</td>\n      <td>575</td>\n      <td>491</td>\n      <td>1115</td>\n      <td>93</td>\n      <td>220</td>\n      <td>203</td>\n      <td>148</td>\n      <td>573</td>\n      <td>202</td>\n      <td>356</td>\n      <td>70</td>\n      <td>349</td>\n      <td>393</td>\n      <td>1053</td>\n      <td>665</td>\n      <td>462</td>\n      <td>475</td>\n      <td>496</td>\n      <td>556</td>\n      <td>482</td>\n      <td>72</td>\n      <td>409</td>\n      <td>123</td>\n      <td>403</td>\n      <td>434</td>\n      <td>1447</td>\n      <td>121</td>\n      <td>431</td>\n      <td>268</td>\n      <td>1276</td>\n      <td>367</td>\n      <td>167</td>\n      <td>917</td>\n      <td>910</td>\n      <td>604</td>\n      <td>1867</td>\n      <td>1735</td>\n      <td>1438</td>\n      <td>1105</td>\n      <td>685</td>\n      <td>198</td>\n      <td>807</td>\n      <td>477</td>\n      <td>125</td>\n      <td>918</td>\n      <td>1678</td>\n      <td>472</td>\n      <td>329</td>\n      <td>964</td>\n      <td>255</td>\n      <td>411</td>\n      <td>1041</td>\n      <td>929</td>\n      <td>180</td>\n      <td>831</td>\n      <td>Male</td>\n      <td>4-Oct-10</td>\n      <td>Fort Hood</td>\n      <td>Regular Army</td>\n      <td>Combat Support</td>\n      <td>68W</td>\n      <td>New York</td>\n      <td>2</td>\n      <td>NaN</td>\n      <td>2</td>\n      <td>42</td>\n      <td>68</td>\n      <td>205</td>\n      <td>Left hand</td>\n    </tr>\n    <tr>\n      <th>3</th>\n      <td>10092</td>\n      <td>234</td>\n      <td>1347</td>\n      <td>310</td>\n      <td>230</td>\n      <td>1239</td>\n      <td>262</td>\n      <td>199</td>\n      <td>401</td>\n      <td>359</td>\n      <td>262</td>\n      <td>518</td>\n      <td>73</td>\n      <td>328</td>\n      <td>309</td>\n      <td>143</td>\n      <td>991</td>\n      <td>242</td>\n      <td>821</td>\n      <td>560</td>\n      <td>437</td>\n      <td>395</td>\n      <td>1423</td>\n      <td>296</td>\n      <td>1114</td>\n      <td>262</td>\n      <td>1205</td>\n      <td>769</td>\n      <td>590</td>\n      <td>341</td>\n      <td>39</td>\n      <td>66</td>\n      <td>25</td>\n      <td>272</td>\n      <td>794</td>\n      <td>106</td>\n      <td>267</td>\n      <td>352</td>\n      <td>318</td>\n      <td>593</td>\n      <td>467</td>\n      <td>1034</td>\n      <td>91</td>\n      <td>217</td>\n      <td>194</td>\n      <td>158</td>\n      <td>576</td>\n      <td>199</td>\n      <td>341</td>\n      <td>68</td>\n      <td>338</td>\n      <td>367</td>\n      <td>986</td>\n      <td>640</td>\n      <td>458</td>\n      <td>461</td>\n      <td>460</td>\n      <td>511</td>\n      <td>452</td>\n      <td>76</td>\n      <td>393</td>\n      <td>106</td>\n      <td>407</td>\n      <td>446</td>\n      <td>1357</td>\n      <td>118</td>\n      <td>393</td>\n      <td>249</td>\n      <td>1155</td>\n      <td>330</td>\n      <td>148</td>\n      <td>903</td>\n      <td>848</td>\n      <td>550</td>\n      <td>1708</td>\n      <td>1655</td>\n      <td>1346</td>\n      <td>1021</td>\n      <td>604</td>\n      <td>180</td>\n      <td>803</td>\n      <td>445</td>\n      <td>127</td>\n      <td>847</td>\n      <td>1625</td>\n      <td>461</td>\n      <td>315</td>\n      <td>857</td>\n      <td>205</td>\n      <td>399</td>\n      <td>968</td>\n      <td>794</td>\n      <td>176</td>\n      <td>793</td>\n      <td>Male</td>\n      <td>12-Oct-10</td>\n      <td>Fort Hood</td>\n      <td>Regular Army</td>\n      <td>Combat Service Support</td>\n      <td>88M</td>\n      <td>Wisconsin</td>\n      <td>1</td>\n      <td>NaN</td>\n      <td>1</td>\n      <td>31</td>\n      <td>66</td>\n      <td>175</td>\n      <td>Right hand</td>\n    </tr>\n    <tr>\n      <th>4</th>\n      <td>10093</td>\n      <td>250</td>\n      <td>1585</td>\n      <td>372</td>\n      <td>247</td>\n      <td>1478</td>\n      <td>267</td>\n      <td>224</td>\n      <td>435</td>\n      <td>356</td>\n      <td>263</td>\n      <td>524</td>\n      <td>80</td>\n      <td>340</td>\n      <td>310</td>\n      <td>138</td>\n      <td>1029</td>\n      <td>275</td>\n      <td>1080</td>\n      <td>706</td>\n      <td>567</td>\n      <td>425</td>\n      <td>1684</td>\n      <td>304</td>\n      <td>1048</td>\n      <td>232</td>\n      <td>1452</td>\n      <td>1014</td>\n      <td>682</td>\n      <td>382</td>\n      <td>32</td>\n      <td>56</td>\n      <td>19</td>\n      <td>188</td>\n      <td>814</td>\n      <td>111</td>\n      <td>305</td>\n      <td>399</td>\n      <td>324</td>\n      <td>605</td>\n      <td>550</td>\n      <td>1279</td>\n      <td>94</td>\n      <td>222</td>\n      <td>218</td>\n      <td>153</td>\n      <td>566</td>\n      <td>197</td>\n      <td>374</td>\n      <td>69</td>\n      <td>332</td>\n      <td>372</td>\n      <td>1251</td>\n      <td>675</td>\n      <td>481</td>\n      <td>505</td>\n      <td>612</td>\n      <td>666</td>\n      <td>585</td>\n      <td>85</td>\n      <td>458</td>\n      <td>135</td>\n      <td>398</td>\n      <td>430</td>\n      <td>1572</td>\n      <td>132</td>\n      <td>523</td>\n      <td>302</td>\n      <td>1231</td>\n      <td>400</td>\n      <td>180</td>\n      <td>919</td>\n      <td>995</td>\n      <td>641</td>\n      <td>2035</td>\n      <td>1914</td>\n      <td>1596</td>\n      <td>1292</td>\n      <td>672</td>\n      <td>194</td>\n      <td>962</td>\n      <td>584</td>\n      <td>122</td>\n      <td>1090</td>\n      <td>1679</td>\n      <td>467</td>\n      <td>303</td>\n      <td>868</td>\n      <td>214</td>\n      <td>379</td>\n      <td>1245</td>\n      <td>946</td>\n      <td>188</td>\n      <td>954</td>\n      <td>Male</td>\n      <td>12-Oct-10</td>\n      <td>Fort Hood</td>\n      <td>Regular Army</td>\n      <td>Combat Service Support</td>\n      <td>92G</td>\n      <td>North Carolina</td>\n      <td>2</td>\n      <td>NaN</td>\n      <td>2</td>\n      <td>21</td>\n      <td>77</td>\n      <td>213</td>\n      <td>Right hand</td>\n    </tr>\n  </tbody>\n</table>\n</div>"
     },
     "execution_count": 104,
     "metadata": {},
     "output_type": "execute_result"
    }
   ],
   "source": [
    "df_male.head()"
   ],
   "metadata": {
    "collapsed": false,
    "pycharm": {
     "name": "#%%\n"
    }
   }
  },
  {
   "cell_type": "code",
   "execution_count": 105,
   "outputs": [],
   "source": [
    "df_male = pd.read_csv('male.csv', usecols=['chestcircumference', 'waistcircumference'])"
   ],
   "metadata": {
    "collapsed": false,
    "pycharm": {
     "name": "#%%\n"
    }
   }
  },
  {
   "cell_type": "code",
   "execution_count": 106,
   "outputs": [
    {
     "data": {
      "text/plain": "   chestcircumference  waistcircumference\n0                1074                 933\n1                1021                 870\n2                1120                 964\n3                1114                 857\n4                1048                 868",
      "text/html": "<div>\n<style scoped>\n    .dataframe tbody tr th:only-of-type {\n        vertical-align: middle;\n    }\n\n    .dataframe tbody tr th {\n        vertical-align: top;\n    }\n\n    .dataframe thead th {\n        text-align: right;\n    }\n</style>\n<table border=\"1\" class=\"dataframe\">\n  <thead>\n    <tr style=\"text-align: right;\">\n      <th></th>\n      <th>chestcircumference</th>\n      <th>waistcircumference</th>\n    </tr>\n  </thead>\n  <tbody>\n    <tr>\n      <th>0</th>\n      <td>1074</td>\n      <td>933</td>\n    </tr>\n    <tr>\n      <th>1</th>\n      <td>1021</td>\n      <td>870</td>\n    </tr>\n    <tr>\n      <th>2</th>\n      <td>1120</td>\n      <td>964</td>\n    </tr>\n    <tr>\n      <th>3</th>\n      <td>1114</td>\n      <td>857</td>\n    </tr>\n    <tr>\n      <th>4</th>\n      <td>1048</td>\n      <td>868</td>\n    </tr>\n  </tbody>\n</table>\n</div>"
     },
     "execution_count": 106,
     "metadata": {},
     "output_type": "execute_result"
    }
   ],
   "source": [
    "df_male.head()"
   ],
   "metadata": {
    "collapsed": false,
    "pycharm": {
     "name": "#%%\n"
    }
   }
  },
  {
   "cell_type": "code",
   "execution_count": 107,
   "outputs": [],
   "source": [
    "df_male = df_male.rename(columns={'chestcircumference':'chest_circumference', 'waistcircumference':'waist_circumference'})"
   ],
   "metadata": {
    "collapsed": false,
    "pycharm": {
     "name": "#%%\n"
    }
   }
  },
  {
   "cell_type": "code",
   "execution_count": 108,
   "outputs": [
    {
     "data": {
      "text/plain": "   chest_circumference  waist_circumference\n0                 1074                  933\n1                 1021                  870\n2                 1120                  964\n3                 1114                  857\n4                 1048                  868",
      "text/html": "<div>\n<style scoped>\n    .dataframe tbody tr th:only-of-type {\n        vertical-align: middle;\n    }\n\n    .dataframe tbody tr th {\n        vertical-align: top;\n    }\n\n    .dataframe thead th {\n        text-align: right;\n    }\n</style>\n<table border=\"1\" class=\"dataframe\">\n  <thead>\n    <tr style=\"text-align: right;\">\n      <th></th>\n      <th>chest_circumference</th>\n      <th>waist_circumference</th>\n    </tr>\n  </thead>\n  <tbody>\n    <tr>\n      <th>0</th>\n      <td>1074</td>\n      <td>933</td>\n    </tr>\n    <tr>\n      <th>1</th>\n      <td>1021</td>\n      <td>870</td>\n    </tr>\n    <tr>\n      <th>2</th>\n      <td>1120</td>\n      <td>964</td>\n    </tr>\n    <tr>\n      <th>3</th>\n      <td>1114</td>\n      <td>857</td>\n    </tr>\n    <tr>\n      <th>4</th>\n      <td>1048</td>\n      <td>868</td>\n    </tr>\n  </tbody>\n</table>\n</div>"
     },
     "execution_count": 108,
     "metadata": {},
     "output_type": "execute_result"
    }
   ],
   "source": [
    "df_male.head()"
   ],
   "metadata": {
    "collapsed": false,
    "pycharm": {
     "name": "#%%\n"
    }
   }
  },
  {
   "cell_type": "code",
   "execution_count": 112,
   "outputs": [],
   "source": [
    "df_male_chest_circumference = pd.read_csv('male.csv', usecols=['chestcircumference'])"
   ],
   "metadata": {
    "collapsed": false,
    "pycharm": {
     "name": "#%%\n"
    }
   }
  },
  {
   "cell_type": "code",
   "execution_count": 113,
   "outputs": [
    {
     "data": {
      "text/plain": "   chestcircumference\n0                1074\n1                1021\n2                1120\n3                1114\n4                1048",
      "text/html": "<div>\n<style scoped>\n    .dataframe tbody tr th:only-of-type {\n        vertical-align: middle;\n    }\n\n    .dataframe tbody tr th {\n        vertical-align: top;\n    }\n\n    .dataframe thead th {\n        text-align: right;\n    }\n</style>\n<table border=\"1\" class=\"dataframe\">\n  <thead>\n    <tr style=\"text-align: right;\">\n      <th></th>\n      <th>chestcircumference</th>\n    </tr>\n  </thead>\n  <tbody>\n    <tr>\n      <th>0</th>\n      <td>1074</td>\n    </tr>\n    <tr>\n      <th>1</th>\n      <td>1021</td>\n    </tr>\n    <tr>\n      <th>2</th>\n      <td>1120</td>\n    </tr>\n    <tr>\n      <th>3</th>\n      <td>1114</td>\n    </tr>\n    <tr>\n      <th>4</th>\n      <td>1048</td>\n    </tr>\n  </tbody>\n</table>\n</div>"
     },
     "execution_count": 113,
     "metadata": {},
     "output_type": "execute_result"
    }
   ],
   "source": [
    "df_male_chest_circumference.head()"
   ],
   "metadata": {
    "collapsed": false,
    "pycharm": {
     "name": "#%%\n"
    }
   }
  },
  {
   "cell_type": "code",
   "execution_count": 114,
   "outputs": [],
   "source": [
    "df_male_chest_circumference = df_male_chest_circumference.rename(columns={'chestcircumference':'chest_circumference'})"
   ],
   "metadata": {
    "collapsed": false,
    "pycharm": {
     "name": "#%%\n"
    }
   }
  },
  {
   "cell_type": "code",
   "execution_count": 115,
   "outputs": [
    {
     "data": {
      "text/plain": "   chest_circumference\n0                 1074\n1                 1021\n2                 1120\n3                 1114\n4                 1048",
      "text/html": "<div>\n<style scoped>\n    .dataframe tbody tr th:only-of-type {\n        vertical-align: middle;\n    }\n\n    .dataframe tbody tr th {\n        vertical-align: top;\n    }\n\n    .dataframe thead th {\n        text-align: right;\n    }\n</style>\n<table border=\"1\" class=\"dataframe\">\n  <thead>\n    <tr style=\"text-align: right;\">\n      <th></th>\n      <th>chest_circumference</th>\n    </tr>\n  </thead>\n  <tbody>\n    <tr>\n      <th>0</th>\n      <td>1074</td>\n    </tr>\n    <tr>\n      <th>1</th>\n      <td>1021</td>\n    </tr>\n    <tr>\n      <th>2</th>\n      <td>1120</td>\n    </tr>\n    <tr>\n      <th>3</th>\n      <td>1114</td>\n    </tr>\n    <tr>\n      <th>4</th>\n      <td>1048</td>\n    </tr>\n  </tbody>\n</table>\n</div>"
     },
     "execution_count": 115,
     "metadata": {},
     "output_type": "execute_result"
    }
   ],
   "source": [
    "df_male_chest_circumference.head()"
   ],
   "metadata": {
    "collapsed": false,
    "pycharm": {
     "name": "#%%\n"
    }
   }
  },
  {
   "cell_type": "code",
   "execution_count": 116,
   "outputs": [],
   "source": [
    "df_male_chest_circumference.to_csv('df_male_chest_circumference.csv')"
   ],
   "metadata": {
    "collapsed": false,
    "pycharm": {
     "name": "#%%\n"
    }
   }
  },
  {
   "cell_type": "code",
   "execution_count": 117,
   "outputs": [],
   "source": [
    "df_male_waist_circumference = pd.read_csv('male.csv', usecols=['waistcircumference'])"
   ],
   "metadata": {
    "collapsed": false,
    "pycharm": {
     "name": "#%%\n"
    }
   }
  },
  {
   "cell_type": "code",
   "execution_count": 118,
   "outputs": [],
   "source": [
    "df_male_waist_circumference = df_male_waist_circumference.rename(columns={'waistcircumference':'waist_circumference'})"
   ],
   "metadata": {
    "collapsed": false,
    "pycharm": {
     "name": "#%%\n"
    }
   }
  },
  {
   "cell_type": "code",
   "execution_count": 119,
   "outputs": [
    {
     "data": {
      "text/plain": "   waist_circumference\n0                  933\n1                  870\n2                  964\n3                  857\n4                  868",
      "text/html": "<div>\n<style scoped>\n    .dataframe tbody tr th:only-of-type {\n        vertical-align: middle;\n    }\n\n    .dataframe tbody tr th {\n        vertical-align: top;\n    }\n\n    .dataframe thead th {\n        text-align: right;\n    }\n</style>\n<table border=\"1\" class=\"dataframe\">\n  <thead>\n    <tr style=\"text-align: right;\">\n      <th></th>\n      <th>waist_circumference</th>\n    </tr>\n  </thead>\n  <tbody>\n    <tr>\n      <th>0</th>\n      <td>933</td>\n    </tr>\n    <tr>\n      <th>1</th>\n      <td>870</td>\n    </tr>\n    <tr>\n      <th>2</th>\n      <td>964</td>\n    </tr>\n    <tr>\n      <th>3</th>\n      <td>857</td>\n    </tr>\n    <tr>\n      <th>4</th>\n      <td>868</td>\n    </tr>\n  </tbody>\n</table>\n</div>"
     },
     "execution_count": 119,
     "metadata": {},
     "output_type": "execute_result"
    }
   ],
   "source": [
    "df_male_waist_circumference.head()"
   ],
   "metadata": {
    "collapsed": false,
    "pycharm": {
     "name": "#%%\n"
    }
   }
  },
  {
   "cell_type": "code",
   "execution_count": 120,
   "outputs": [],
   "source": [
    "df_male_waist_circumference.to_csv('df_male_waist_circumference.csv')"
   ],
   "metadata": {
    "collapsed": false,
    "pycharm": {
     "name": "#%%\n"
    }
   }
  },
  {
   "cell_type": "code",
   "execution_count": 121,
   "outputs": [],
   "source": [
    "df_male_chest_height = pd.read_csv('male.csv', usecols=['chestheight'])"
   ],
   "metadata": {
    "collapsed": false,
    "pycharm": {
     "name": "#%%\n"
    }
   }
  },
  {
   "cell_type": "code",
   "execution_count": 122,
   "outputs": [],
   "source": [
    "df_male_chest_height = df_male_chest_height.rename(columns={'chestheight':'chest_height'})"
   ],
   "metadata": {
    "collapsed": false,
    "pycharm": {
     "name": "#%%\n"
    }
   }
  },
  {
   "cell_type": "code",
   "execution_count": 123,
   "outputs": [
    {
     "data": {
      "text/plain": "   chest_height\n0          1292\n1          1244\n2          1288\n3          1205\n4          1452",
      "text/html": "<div>\n<style scoped>\n    .dataframe tbody tr th:only-of-type {\n        vertical-align: middle;\n    }\n\n    .dataframe tbody tr th {\n        vertical-align: top;\n    }\n\n    .dataframe thead th {\n        text-align: right;\n    }\n</style>\n<table border=\"1\" class=\"dataframe\">\n  <thead>\n    <tr style=\"text-align: right;\">\n      <th></th>\n      <th>chest_height</th>\n    </tr>\n  </thead>\n  <tbody>\n    <tr>\n      <th>0</th>\n      <td>1292</td>\n    </tr>\n    <tr>\n      <th>1</th>\n      <td>1244</td>\n    </tr>\n    <tr>\n      <th>2</th>\n      <td>1288</td>\n    </tr>\n    <tr>\n      <th>3</th>\n      <td>1205</td>\n    </tr>\n    <tr>\n      <th>4</th>\n      <td>1452</td>\n    </tr>\n  </tbody>\n</table>\n</div>"
     },
     "execution_count": 123,
     "metadata": {},
     "output_type": "execute_result"
    }
   ],
   "source": [
    "df_male_chest_height.head()"
   ],
   "metadata": {
    "collapsed": false,
    "pycharm": {
     "name": "#%%\n"
    }
   }
  },
  {
   "cell_type": "code",
   "execution_count": 124,
   "outputs": [],
   "source": [
    "df_male_chest_height.to_csv('df_male_chest_height.csv')"
   ],
   "metadata": {
    "collapsed": false,
    "pycharm": {
     "name": "#%%\n"
    }
   }
  },
  {
   "cell_type": "code",
   "execution_count": 125,
   "outputs": [],
   "source": [
    "df_male = pd.read_csv('male.csv', usecols=['waistbreadth'])"
   ],
   "metadata": {
    "collapsed": false,
    "pycharm": {
     "name": "#%%\n"
    }
   }
  },
  {
   "cell_type": "code",
   "execution_count": 126,
   "outputs": [],
   "source": [
    "df_male_waist_breadth = pd.read_csv('male.csv', usecols=['waistbreadth'])"
   ],
   "metadata": {
    "collapsed": false,
    "pycharm": {
     "name": "#%%\n"
    }
   }
  },
  {
   "cell_type": "code",
   "execution_count": 127,
   "outputs": [
    {
     "data": {
      "text/plain": "   waistbreadth\n0           329\n1           316\n2           329\n3           315\n4           303",
      "text/html": "<div>\n<style scoped>\n    .dataframe tbody tr th:only-of-type {\n        vertical-align: middle;\n    }\n\n    .dataframe tbody tr th {\n        vertical-align: top;\n    }\n\n    .dataframe thead th {\n        text-align: right;\n    }\n</style>\n<table border=\"1\" class=\"dataframe\">\n  <thead>\n    <tr style=\"text-align: right;\">\n      <th></th>\n      <th>waistbreadth</th>\n    </tr>\n  </thead>\n  <tbody>\n    <tr>\n      <th>0</th>\n      <td>329</td>\n    </tr>\n    <tr>\n      <th>1</th>\n      <td>316</td>\n    </tr>\n    <tr>\n      <th>2</th>\n      <td>329</td>\n    </tr>\n    <tr>\n      <th>3</th>\n      <td>315</td>\n    </tr>\n    <tr>\n      <th>4</th>\n      <td>303</td>\n    </tr>\n  </tbody>\n</table>\n</div>"
     },
     "execution_count": 127,
     "metadata": {},
     "output_type": "execute_result"
    }
   ],
   "source": [
    "df_male_waist_breadth.head()"
   ],
   "metadata": {
    "collapsed": false,
    "pycharm": {
     "name": "#%%\n"
    }
   }
  },
  {
   "cell_type": "code",
   "execution_count": 128,
   "outputs": [],
   "source": [
    "df_male_waist_breadth = df_male_waist_breadth.rename(columns={'chestbreadth':'chest_breadth'})"
   ],
   "metadata": {
    "collapsed": false,
    "pycharm": {
     "name": "#%%\n"
    }
   }
  },
  {
   "cell_type": "code",
   "execution_count": 129,
   "outputs": [],
   "source": [
    "df_male_waist_breadth.to_csv('df_male_waist_breadth.csv')"
   ],
   "metadata": {
    "collapsed": false,
    "pycharm": {
     "name": "#%%\n"
    }
   }
  },
  {
   "cell_type": "code",
   "execution_count": null,
   "outputs": [],
   "source": [],
   "metadata": {
    "collapsed": false,
    "pycharm": {
     "name": "#%%\n"
    }
   }
  },
  {
   "cell_type": "code",
   "execution_count": 130,
   "outputs": [],
   "source": [
    "df_male = pd.read_csv('male.csv')"
   ],
   "metadata": {
    "collapsed": false,
    "pycharm": {
     "name": "#%%\n"
    }
   }
  },
  {
   "cell_type": "code",
   "execution_count": 131,
   "outputs": [
    {
     "data": {
      "text/plain": "   subjectid  abdominalextensiondepthsitting  acromialheight  \\\n0      10027                             266            1467   \n1      10032                             233            1395   \n2      10033                             287            1430   \n3      10092                             234            1347   \n4      10093                             250            1585   \n\n   acromionradialelength  anklecircumference  axillaheight  \\\n0                    337                 222          1347   \n1                    326                 220          1293   \n2                    341                 230          1327   \n3                    310                 230          1239   \n4                    372                 247          1478   \n\n   balloffootcircumference  balloffootlength  biacromialbreadth  \\\n0                      253               202                401   \n1                      245               193                394   \n2                      256               196                427   \n3                      262               199                401   \n4                      267               224                435   \n\n   bicepscircumferenceflexed  bicristalbreadth  bideltoidbreadth  \\\n0                        369               274               493   \n1                        338               257               479   \n2                        408               261               544   \n3                        359               262               518   \n4                        356               263               524   \n\n   bimalleolarbreadth  bitragionchinarc  bitragionsubmandibulararc  \\\n0                  71               319                        291   \n1                  67               344                        320   \n2                  75               345                        330   \n3                  73               328                        309   \n4                  80               340                        310   \n\n   bizygomaticbreadth  buttockcircumference  buttockdepth  buttockheight  \\\n0                 142                   979           240            882   \n1                 135                   944           232            870   \n2                 135                  1054           258            901   \n3                 143                   991           242            821   \n4                 138                  1029           275           1080   \n\n   buttockkneelength  buttockpopliteallength  calfcircumference  \\\n0                619                     509                373   \n1                584                     468                357   \n2                623                     506                412   \n3                560                     437                395   \n4                706                     567                425   \n\n   cervicaleheight  chestbreadth  chestcircumference  chestdepth  chestheight  \\\n0             1535           291                1074         259         1292   \n1             1471           269                1021         253         1244   \n2             1501           288                1120         267         1288   \n3             1423           296                1114         262         1205   \n4             1684           304                1048         232         1452   \n\n   crotchheight  crotchlengthomphalion  crotchlengthposterioromphalion  \\\n0           877                    607                             351   \n1           851                    615                             376   \n2           854                    636                             359   \n3           769                    590                             341   \n4          1014                    682                             382   \n\n   earbreadth  earlength  earprotrusion  elbowrestheight  eyeheightsitting  \\\n0          36         71             19              247               802   \n1          33         62             18              232               781   \n2          40         61             23              237               810   \n3          39         66             25              272               794   \n4          32         56             19              188               814   \n\n   footbreadthhorizontal  footlength  forearmcenterofgriplength  \\\n0                    101         273                        349   \n1                     98         263                        348   \n2                    103         270                        355   \n3                    106         267                        352   \n4                    111         305                        399   \n\n   forearmcircumferenceflexed  forearmforearmbreadth  forearmhandlength  \\\n0                         299                    575                477   \n1                         289                    523                476   \n2                         357                    575                491   \n3                         318                    593                467   \n4                         324                    605                550   \n\n   functionalleglength  handbreadth  handcircumference  handlength  \\\n0                 1136           90                214         193   \n1                 1096           86                203         195   \n2                 1115           93                220         203   \n3                 1034           91                217         194   \n4                 1279           94                222         218   \n\n   headbreadth  headcircumference  headlength  heelanklecircumference  \\\n0          150                583         206                     326   \n1          146                568         201                     334   \n2          148                573         202                     356   \n3          158                576         199                     341   \n4          153                566         197                     374   \n\n   heelbreadth  hipbreadth  hipbreadthsitting  iliocristaleheight  \\\n0           70         332                366                1071   \n1           72         312                356                1046   \n2           70         349                393                1053   \n3           68         338                367                 986   \n4           69         332                372                1251   \n\n   interpupillarybreadth  interscyei  interscyeii  kneeheightmidpatella  \\\n0                    685         422          441                   502   \n1                    620         441          447                   490   \n2                    665         462          475                   496   \n3                    640         458          461                   460   \n4                    675         481          505                   612   \n\n   kneeheightsitting  lateralfemoralepicondyleheight  lateralmalleolusheight  \\\n0                560                             500                      77   \n1                540                             488                      73   \n2                556                             482                      72   \n3                511                             452                      76   \n4                666                             585                      85   \n\n   lowerthighcircumference  mentonsellionlength  neckcircumference  \\\n0                      391                  118                400   \n1                      371                  131                380   \n2                      409                  123                403   \n3                      393                  106                407   \n4                      458                  135                398   \n\n   neckcircumferencebase  overheadfingertipreachsitting  palmlength  \\\n0                    436                           1447         113   \n1                    420                           1380         118   \n2                    434                           1447         121   \n3                    446                           1357         118   \n4                    430                           1572         132   \n\n   poplitealheight  radialestylionlength  shouldercircumference  \\\n0              437                   273                   1151   \n1              417                   254                   1119   \n2              431                   268                   1276   \n3              393                   249                   1155   \n4              523                   302                   1231   \n\n   shoulderelbowlength  shoulderlength  sittingheight  sleevelengthspinewrist  \\\n0                  368             145            928                     883   \n1                  353             141            884                     868   \n2                  367             167            917                     910   \n3                  330             148            903                     848   \n4                  400             180            919                     995   \n\n   sleeveoutseam  span  stature  suprasternaleheight  tenthribheight  \\\n0            600  1782     1776                 1449            1092   \n1            564  1745     1702                 1387            1076   \n2            604  1867     1735                 1438            1105   \n3            550  1708     1655                 1346            1021   \n4            641  2035     1914                 1596            1292   \n\n   thighcircumference  thighclearance  thumbtipreach  tibialheight  \\\n0                 610             164            786           491   \n1                 572             169            822           476   \n2                 685             198            807           477   \n3                 604             180            803           445   \n4                 672             194            962           584   \n\n   tragiontopofhead  trochanterionheight  verticaltrunkcircumferenceusa  \\\n0               140                  919                           1700   \n1               120                  918                           1627   \n2               125                  918                           1678   \n3               127                  847                           1625   \n4               122                 1090                           1679   \n\n   waistbacklength  waistbreadth  waistcircumference  waistdepth  \\\n0              501           329                 933         240   \n1              432           316                 870         225   \n2              472           329                 964         255   \n3              461           315                 857         205   \n4              467           303                 868         214   \n\n   waistfrontlengthsitting  waistheightomphalion  weightkg  \\\n0                      440                  1054       815   \n1                      371                  1054       726   \n2                      411                  1041       929   \n3                      399                   968       794   \n4                      379                  1245       946   \n\n   wristcircumference  wristheight Gender       Date Installation  \\\n0                 175          853   Male   4-Oct-10    Fort Hood   \n1                 167          815   Male   4-Oct-10    Fort Hood   \n2                 180          831   Male   4-Oct-10    Fort Hood   \n3                 176          793   Male  12-Oct-10    Fort Hood   \n4                 188          954   Male  12-Oct-10    Fort Hood   \n\n      Component                  Branch PrimaryMOS SubjectsBirthLocation  \\\n0  Regular Army             Combat Arms        19D          North Dakota   \n1  Regular Army          Combat Support        68W              New York   \n2  Regular Army          Combat Support        68W              New York   \n3  Regular Army  Combat Service Support        88M             Wisconsin   \n4  Regular Army  Combat Service Support        92G        North Carolina   \n\n   SubjectNumericRace Ethnicity  DODRace  Age  Heightin  Weightlbs  \\\n0                   1       NaN        1   41        71        180   \n1                   1       NaN        1   35        68        160   \n2                   2       NaN        2   42        68        205   \n3                   1       NaN        1   31        66        175   \n4                   2       NaN        2   21        77        213   \n\n  WritingPreference  \n0        Right hand  \n1         Left hand  \n2         Left hand  \n3        Right hand  \n4        Right hand  ",
      "text/html": "<div>\n<style scoped>\n    .dataframe tbody tr th:only-of-type {\n        vertical-align: middle;\n    }\n\n    .dataframe tbody tr th {\n        vertical-align: top;\n    }\n\n    .dataframe thead th {\n        text-align: right;\n    }\n</style>\n<table border=\"1\" class=\"dataframe\">\n  <thead>\n    <tr style=\"text-align: right;\">\n      <th></th>\n      <th>subjectid</th>\n      <th>abdominalextensiondepthsitting</th>\n      <th>acromialheight</th>\n      <th>acromionradialelength</th>\n      <th>anklecircumference</th>\n      <th>axillaheight</th>\n      <th>balloffootcircumference</th>\n      <th>balloffootlength</th>\n      <th>biacromialbreadth</th>\n      <th>bicepscircumferenceflexed</th>\n      <th>bicristalbreadth</th>\n      <th>bideltoidbreadth</th>\n      <th>bimalleolarbreadth</th>\n      <th>bitragionchinarc</th>\n      <th>bitragionsubmandibulararc</th>\n      <th>bizygomaticbreadth</th>\n      <th>buttockcircumference</th>\n      <th>buttockdepth</th>\n      <th>buttockheight</th>\n      <th>buttockkneelength</th>\n      <th>buttockpopliteallength</th>\n      <th>calfcircumference</th>\n      <th>cervicaleheight</th>\n      <th>chestbreadth</th>\n      <th>chestcircumference</th>\n      <th>chestdepth</th>\n      <th>chestheight</th>\n      <th>crotchheight</th>\n      <th>crotchlengthomphalion</th>\n      <th>crotchlengthposterioromphalion</th>\n      <th>earbreadth</th>\n      <th>earlength</th>\n      <th>earprotrusion</th>\n      <th>elbowrestheight</th>\n      <th>eyeheightsitting</th>\n      <th>footbreadthhorizontal</th>\n      <th>footlength</th>\n      <th>forearmcenterofgriplength</th>\n      <th>forearmcircumferenceflexed</th>\n      <th>forearmforearmbreadth</th>\n      <th>forearmhandlength</th>\n      <th>functionalleglength</th>\n      <th>handbreadth</th>\n      <th>handcircumference</th>\n      <th>handlength</th>\n      <th>headbreadth</th>\n      <th>headcircumference</th>\n      <th>headlength</th>\n      <th>heelanklecircumference</th>\n      <th>heelbreadth</th>\n      <th>hipbreadth</th>\n      <th>hipbreadthsitting</th>\n      <th>iliocristaleheight</th>\n      <th>interpupillarybreadth</th>\n      <th>interscyei</th>\n      <th>interscyeii</th>\n      <th>kneeheightmidpatella</th>\n      <th>kneeheightsitting</th>\n      <th>lateralfemoralepicondyleheight</th>\n      <th>lateralmalleolusheight</th>\n      <th>lowerthighcircumference</th>\n      <th>mentonsellionlength</th>\n      <th>neckcircumference</th>\n      <th>neckcircumferencebase</th>\n      <th>overheadfingertipreachsitting</th>\n      <th>palmlength</th>\n      <th>poplitealheight</th>\n      <th>radialestylionlength</th>\n      <th>shouldercircumference</th>\n      <th>shoulderelbowlength</th>\n      <th>shoulderlength</th>\n      <th>sittingheight</th>\n      <th>sleevelengthspinewrist</th>\n      <th>sleeveoutseam</th>\n      <th>span</th>\n      <th>stature</th>\n      <th>suprasternaleheight</th>\n      <th>tenthribheight</th>\n      <th>thighcircumference</th>\n      <th>thighclearance</th>\n      <th>thumbtipreach</th>\n      <th>tibialheight</th>\n      <th>tragiontopofhead</th>\n      <th>trochanterionheight</th>\n      <th>verticaltrunkcircumferenceusa</th>\n      <th>waistbacklength</th>\n      <th>waistbreadth</th>\n      <th>waistcircumference</th>\n      <th>waistdepth</th>\n      <th>waistfrontlengthsitting</th>\n      <th>waistheightomphalion</th>\n      <th>weightkg</th>\n      <th>wristcircumference</th>\n      <th>wristheight</th>\n      <th>Gender</th>\n      <th>Date</th>\n      <th>Installation</th>\n      <th>Component</th>\n      <th>Branch</th>\n      <th>PrimaryMOS</th>\n      <th>SubjectsBirthLocation</th>\n      <th>SubjectNumericRace</th>\n      <th>Ethnicity</th>\n      <th>DODRace</th>\n      <th>Age</th>\n      <th>Heightin</th>\n      <th>Weightlbs</th>\n      <th>WritingPreference</th>\n    </tr>\n  </thead>\n  <tbody>\n    <tr>\n      <th>0</th>\n      <td>10027</td>\n      <td>266</td>\n      <td>1467</td>\n      <td>337</td>\n      <td>222</td>\n      <td>1347</td>\n      <td>253</td>\n      <td>202</td>\n      <td>401</td>\n      <td>369</td>\n      <td>274</td>\n      <td>493</td>\n      <td>71</td>\n      <td>319</td>\n      <td>291</td>\n      <td>142</td>\n      <td>979</td>\n      <td>240</td>\n      <td>882</td>\n      <td>619</td>\n      <td>509</td>\n      <td>373</td>\n      <td>1535</td>\n      <td>291</td>\n      <td>1074</td>\n      <td>259</td>\n      <td>1292</td>\n      <td>877</td>\n      <td>607</td>\n      <td>351</td>\n      <td>36</td>\n      <td>71</td>\n      <td>19</td>\n      <td>247</td>\n      <td>802</td>\n      <td>101</td>\n      <td>273</td>\n      <td>349</td>\n      <td>299</td>\n      <td>575</td>\n      <td>477</td>\n      <td>1136</td>\n      <td>90</td>\n      <td>214</td>\n      <td>193</td>\n      <td>150</td>\n      <td>583</td>\n      <td>206</td>\n      <td>326</td>\n      <td>70</td>\n      <td>332</td>\n      <td>366</td>\n      <td>1071</td>\n      <td>685</td>\n      <td>422</td>\n      <td>441</td>\n      <td>502</td>\n      <td>560</td>\n      <td>500</td>\n      <td>77</td>\n      <td>391</td>\n      <td>118</td>\n      <td>400</td>\n      <td>436</td>\n      <td>1447</td>\n      <td>113</td>\n      <td>437</td>\n      <td>273</td>\n      <td>1151</td>\n      <td>368</td>\n      <td>145</td>\n      <td>928</td>\n      <td>883</td>\n      <td>600</td>\n      <td>1782</td>\n      <td>1776</td>\n      <td>1449</td>\n      <td>1092</td>\n      <td>610</td>\n      <td>164</td>\n      <td>786</td>\n      <td>491</td>\n      <td>140</td>\n      <td>919</td>\n      <td>1700</td>\n      <td>501</td>\n      <td>329</td>\n      <td>933</td>\n      <td>240</td>\n      <td>440</td>\n      <td>1054</td>\n      <td>815</td>\n      <td>175</td>\n      <td>853</td>\n      <td>Male</td>\n      <td>4-Oct-10</td>\n      <td>Fort Hood</td>\n      <td>Regular Army</td>\n      <td>Combat Arms</td>\n      <td>19D</td>\n      <td>North Dakota</td>\n      <td>1</td>\n      <td>NaN</td>\n      <td>1</td>\n      <td>41</td>\n      <td>71</td>\n      <td>180</td>\n      <td>Right hand</td>\n    </tr>\n    <tr>\n      <th>1</th>\n      <td>10032</td>\n      <td>233</td>\n      <td>1395</td>\n      <td>326</td>\n      <td>220</td>\n      <td>1293</td>\n      <td>245</td>\n      <td>193</td>\n      <td>394</td>\n      <td>338</td>\n      <td>257</td>\n      <td>479</td>\n      <td>67</td>\n      <td>344</td>\n      <td>320</td>\n      <td>135</td>\n      <td>944</td>\n      <td>232</td>\n      <td>870</td>\n      <td>584</td>\n      <td>468</td>\n      <td>357</td>\n      <td>1471</td>\n      <td>269</td>\n      <td>1021</td>\n      <td>253</td>\n      <td>1244</td>\n      <td>851</td>\n      <td>615</td>\n      <td>376</td>\n      <td>33</td>\n      <td>62</td>\n      <td>18</td>\n      <td>232</td>\n      <td>781</td>\n      <td>98</td>\n      <td>263</td>\n      <td>348</td>\n      <td>289</td>\n      <td>523</td>\n      <td>476</td>\n      <td>1096</td>\n      <td>86</td>\n      <td>203</td>\n      <td>195</td>\n      <td>146</td>\n      <td>568</td>\n      <td>201</td>\n      <td>334</td>\n      <td>72</td>\n      <td>312</td>\n      <td>356</td>\n      <td>1046</td>\n      <td>620</td>\n      <td>441</td>\n      <td>447</td>\n      <td>490</td>\n      <td>540</td>\n      <td>488</td>\n      <td>73</td>\n      <td>371</td>\n      <td>131</td>\n      <td>380</td>\n      <td>420</td>\n      <td>1380</td>\n      <td>118</td>\n      <td>417</td>\n      <td>254</td>\n      <td>1119</td>\n      <td>353</td>\n      <td>141</td>\n      <td>884</td>\n      <td>868</td>\n      <td>564</td>\n      <td>1745</td>\n      <td>1702</td>\n      <td>1387</td>\n      <td>1076</td>\n      <td>572</td>\n      <td>169</td>\n      <td>822</td>\n      <td>476</td>\n      <td>120</td>\n      <td>918</td>\n      <td>1627</td>\n      <td>432</td>\n      <td>316</td>\n      <td>870</td>\n      <td>225</td>\n      <td>371</td>\n      <td>1054</td>\n      <td>726</td>\n      <td>167</td>\n      <td>815</td>\n      <td>Male</td>\n      <td>4-Oct-10</td>\n      <td>Fort Hood</td>\n      <td>Regular Army</td>\n      <td>Combat Support</td>\n      <td>68W</td>\n      <td>New York</td>\n      <td>1</td>\n      <td>NaN</td>\n      <td>1</td>\n      <td>35</td>\n      <td>68</td>\n      <td>160</td>\n      <td>Left hand</td>\n    </tr>\n    <tr>\n      <th>2</th>\n      <td>10033</td>\n      <td>287</td>\n      <td>1430</td>\n      <td>341</td>\n      <td>230</td>\n      <td>1327</td>\n      <td>256</td>\n      <td>196</td>\n      <td>427</td>\n      <td>408</td>\n      <td>261</td>\n      <td>544</td>\n      <td>75</td>\n      <td>345</td>\n      <td>330</td>\n      <td>135</td>\n      <td>1054</td>\n      <td>258</td>\n      <td>901</td>\n      <td>623</td>\n      <td>506</td>\n      <td>412</td>\n      <td>1501</td>\n      <td>288</td>\n      <td>1120</td>\n      <td>267</td>\n      <td>1288</td>\n      <td>854</td>\n      <td>636</td>\n      <td>359</td>\n      <td>40</td>\n      <td>61</td>\n      <td>23</td>\n      <td>237</td>\n      <td>810</td>\n      <td>103</td>\n      <td>270</td>\n      <td>355</td>\n      <td>357</td>\n      <td>575</td>\n      <td>491</td>\n      <td>1115</td>\n      <td>93</td>\n      <td>220</td>\n      <td>203</td>\n      <td>148</td>\n      <td>573</td>\n      <td>202</td>\n      <td>356</td>\n      <td>70</td>\n      <td>349</td>\n      <td>393</td>\n      <td>1053</td>\n      <td>665</td>\n      <td>462</td>\n      <td>475</td>\n      <td>496</td>\n      <td>556</td>\n      <td>482</td>\n      <td>72</td>\n      <td>409</td>\n      <td>123</td>\n      <td>403</td>\n      <td>434</td>\n      <td>1447</td>\n      <td>121</td>\n      <td>431</td>\n      <td>268</td>\n      <td>1276</td>\n      <td>367</td>\n      <td>167</td>\n      <td>917</td>\n      <td>910</td>\n      <td>604</td>\n      <td>1867</td>\n      <td>1735</td>\n      <td>1438</td>\n      <td>1105</td>\n      <td>685</td>\n      <td>198</td>\n      <td>807</td>\n      <td>477</td>\n      <td>125</td>\n      <td>918</td>\n      <td>1678</td>\n      <td>472</td>\n      <td>329</td>\n      <td>964</td>\n      <td>255</td>\n      <td>411</td>\n      <td>1041</td>\n      <td>929</td>\n      <td>180</td>\n      <td>831</td>\n      <td>Male</td>\n      <td>4-Oct-10</td>\n      <td>Fort Hood</td>\n      <td>Regular Army</td>\n      <td>Combat Support</td>\n      <td>68W</td>\n      <td>New York</td>\n      <td>2</td>\n      <td>NaN</td>\n      <td>2</td>\n      <td>42</td>\n      <td>68</td>\n      <td>205</td>\n      <td>Left hand</td>\n    </tr>\n    <tr>\n      <th>3</th>\n      <td>10092</td>\n      <td>234</td>\n      <td>1347</td>\n      <td>310</td>\n      <td>230</td>\n      <td>1239</td>\n      <td>262</td>\n      <td>199</td>\n      <td>401</td>\n      <td>359</td>\n      <td>262</td>\n      <td>518</td>\n      <td>73</td>\n      <td>328</td>\n      <td>309</td>\n      <td>143</td>\n      <td>991</td>\n      <td>242</td>\n      <td>821</td>\n      <td>560</td>\n      <td>437</td>\n      <td>395</td>\n      <td>1423</td>\n      <td>296</td>\n      <td>1114</td>\n      <td>262</td>\n      <td>1205</td>\n      <td>769</td>\n      <td>590</td>\n      <td>341</td>\n      <td>39</td>\n      <td>66</td>\n      <td>25</td>\n      <td>272</td>\n      <td>794</td>\n      <td>106</td>\n      <td>267</td>\n      <td>352</td>\n      <td>318</td>\n      <td>593</td>\n      <td>467</td>\n      <td>1034</td>\n      <td>91</td>\n      <td>217</td>\n      <td>194</td>\n      <td>158</td>\n      <td>576</td>\n      <td>199</td>\n      <td>341</td>\n      <td>68</td>\n      <td>338</td>\n      <td>367</td>\n      <td>986</td>\n      <td>640</td>\n      <td>458</td>\n      <td>461</td>\n      <td>460</td>\n      <td>511</td>\n      <td>452</td>\n      <td>76</td>\n      <td>393</td>\n      <td>106</td>\n      <td>407</td>\n      <td>446</td>\n      <td>1357</td>\n      <td>118</td>\n      <td>393</td>\n      <td>249</td>\n      <td>1155</td>\n      <td>330</td>\n      <td>148</td>\n      <td>903</td>\n      <td>848</td>\n      <td>550</td>\n      <td>1708</td>\n      <td>1655</td>\n      <td>1346</td>\n      <td>1021</td>\n      <td>604</td>\n      <td>180</td>\n      <td>803</td>\n      <td>445</td>\n      <td>127</td>\n      <td>847</td>\n      <td>1625</td>\n      <td>461</td>\n      <td>315</td>\n      <td>857</td>\n      <td>205</td>\n      <td>399</td>\n      <td>968</td>\n      <td>794</td>\n      <td>176</td>\n      <td>793</td>\n      <td>Male</td>\n      <td>12-Oct-10</td>\n      <td>Fort Hood</td>\n      <td>Regular Army</td>\n      <td>Combat Service Support</td>\n      <td>88M</td>\n      <td>Wisconsin</td>\n      <td>1</td>\n      <td>NaN</td>\n      <td>1</td>\n      <td>31</td>\n      <td>66</td>\n      <td>175</td>\n      <td>Right hand</td>\n    </tr>\n    <tr>\n      <th>4</th>\n      <td>10093</td>\n      <td>250</td>\n      <td>1585</td>\n      <td>372</td>\n      <td>247</td>\n      <td>1478</td>\n      <td>267</td>\n      <td>224</td>\n      <td>435</td>\n      <td>356</td>\n      <td>263</td>\n      <td>524</td>\n      <td>80</td>\n      <td>340</td>\n      <td>310</td>\n      <td>138</td>\n      <td>1029</td>\n      <td>275</td>\n      <td>1080</td>\n      <td>706</td>\n      <td>567</td>\n      <td>425</td>\n      <td>1684</td>\n      <td>304</td>\n      <td>1048</td>\n      <td>232</td>\n      <td>1452</td>\n      <td>1014</td>\n      <td>682</td>\n      <td>382</td>\n      <td>32</td>\n      <td>56</td>\n      <td>19</td>\n      <td>188</td>\n      <td>814</td>\n      <td>111</td>\n      <td>305</td>\n      <td>399</td>\n      <td>324</td>\n      <td>605</td>\n      <td>550</td>\n      <td>1279</td>\n      <td>94</td>\n      <td>222</td>\n      <td>218</td>\n      <td>153</td>\n      <td>566</td>\n      <td>197</td>\n      <td>374</td>\n      <td>69</td>\n      <td>332</td>\n      <td>372</td>\n      <td>1251</td>\n      <td>675</td>\n      <td>481</td>\n      <td>505</td>\n      <td>612</td>\n      <td>666</td>\n      <td>585</td>\n      <td>85</td>\n      <td>458</td>\n      <td>135</td>\n      <td>398</td>\n      <td>430</td>\n      <td>1572</td>\n      <td>132</td>\n      <td>523</td>\n      <td>302</td>\n      <td>1231</td>\n      <td>400</td>\n      <td>180</td>\n      <td>919</td>\n      <td>995</td>\n      <td>641</td>\n      <td>2035</td>\n      <td>1914</td>\n      <td>1596</td>\n      <td>1292</td>\n      <td>672</td>\n      <td>194</td>\n      <td>962</td>\n      <td>584</td>\n      <td>122</td>\n      <td>1090</td>\n      <td>1679</td>\n      <td>467</td>\n      <td>303</td>\n      <td>868</td>\n      <td>214</td>\n      <td>379</td>\n      <td>1245</td>\n      <td>946</td>\n      <td>188</td>\n      <td>954</td>\n      <td>Male</td>\n      <td>12-Oct-10</td>\n      <td>Fort Hood</td>\n      <td>Regular Army</td>\n      <td>Combat Service Support</td>\n      <td>92G</td>\n      <td>North Carolina</td>\n      <td>2</td>\n      <td>NaN</td>\n      <td>2</td>\n      <td>21</td>\n      <td>77</td>\n      <td>213</td>\n      <td>Right hand</td>\n    </tr>\n  </tbody>\n</table>\n</div>"
     },
     "execution_count": 131,
     "metadata": {},
     "output_type": "execute_result"
    }
   ],
   "source": [
    "df_male.head()"
   ],
   "metadata": {
    "collapsed": false,
    "pycharm": {
     "name": "#%%\n"
    }
   }
  },
  {
   "cell_type": "code",
   "execution_count": 133,
   "outputs": [],
   "source": [
    "df_male = pd.read_csv('male.csv', usecols=['chestcircumference', 'waistbreadth', 'Heightin', 'chestheight', 'weightkg'])"
   ],
   "metadata": {
    "collapsed": false,
    "pycharm": {
     "name": "#%%\n"
    }
   }
  },
  {
   "cell_type": "code",
   "execution_count": 134,
   "outputs": [
    {
     "data": {
      "text/plain": "   chestcircumference  chestheight  waistbreadth  weightkg  Heightin\n0                1074         1292           329       815        71\n1                1021         1244           316       726        68\n2                1120         1288           329       929        68\n3                1114         1205           315       794        66\n4                1048         1452           303       946        77",
      "text/html": "<div>\n<style scoped>\n    .dataframe tbody tr th:only-of-type {\n        vertical-align: middle;\n    }\n\n    .dataframe tbody tr th {\n        vertical-align: top;\n    }\n\n    .dataframe thead th {\n        text-align: right;\n    }\n</style>\n<table border=\"1\" class=\"dataframe\">\n  <thead>\n    <tr style=\"text-align: right;\">\n      <th></th>\n      <th>chestcircumference</th>\n      <th>chestheight</th>\n      <th>waistbreadth</th>\n      <th>weightkg</th>\n      <th>Heightin</th>\n    </tr>\n  </thead>\n  <tbody>\n    <tr>\n      <th>0</th>\n      <td>1074</td>\n      <td>1292</td>\n      <td>329</td>\n      <td>815</td>\n      <td>71</td>\n    </tr>\n    <tr>\n      <th>1</th>\n      <td>1021</td>\n      <td>1244</td>\n      <td>316</td>\n      <td>726</td>\n      <td>68</td>\n    </tr>\n    <tr>\n      <th>2</th>\n      <td>1120</td>\n      <td>1288</td>\n      <td>329</td>\n      <td>929</td>\n      <td>68</td>\n    </tr>\n    <tr>\n      <th>3</th>\n      <td>1114</td>\n      <td>1205</td>\n      <td>315</td>\n      <td>794</td>\n      <td>66</td>\n    </tr>\n    <tr>\n      <th>4</th>\n      <td>1048</td>\n      <td>1452</td>\n      <td>303</td>\n      <td>946</td>\n      <td>77</td>\n    </tr>\n  </tbody>\n</table>\n</div>"
     },
     "execution_count": 134,
     "metadata": {},
     "output_type": "execute_result"
    }
   ],
   "source": [
    "df_male.head()"
   ],
   "metadata": {
    "collapsed": false,
    "pycharm": {
     "name": "#%%\n"
    }
   }
  },
  {
   "cell_type": "code",
   "execution_count": 152,
   "outputs": [],
   "source": [
    "df_male_refined = df_male.rename(columns={'waistbreadth':'waist_breadth', 'chestcircumference':'chest_circumference','chestheight':'chest_height_mm','weightkg':'weight_hg', 'height_ind':'height_cm'})"
   ],
   "metadata": {
    "collapsed": false,
    "pycharm": {
     "name": "#%%\n"
    }
   }
  },
  {
   "cell_type": "code",
   "execution_count": 143,
   "outputs": [
    {
     "data": {
      "text/plain": "   chest_circumference  chest_height_mm  waist_breadth  weight_hg  height_ind\n0                 1074             1292            329        815          71\n1                 1021             1244            316        726          68\n2                 1120             1288            329        929          68\n3                 1114             1205            315        794          66\n4                 1048             1452            303        946          77",
      "text/html": "<div>\n<style scoped>\n    .dataframe tbody tr th:only-of-type {\n        vertical-align: middle;\n    }\n\n    .dataframe tbody tr th {\n        vertical-align: top;\n    }\n\n    .dataframe thead th {\n        text-align: right;\n    }\n</style>\n<table border=\"1\" class=\"dataframe\">\n  <thead>\n    <tr style=\"text-align: right;\">\n      <th></th>\n      <th>chest_circumference</th>\n      <th>chest_height_mm</th>\n      <th>waist_breadth</th>\n      <th>weight_hg</th>\n      <th>height_ind</th>\n    </tr>\n  </thead>\n  <tbody>\n    <tr>\n      <th>0</th>\n      <td>1074</td>\n      <td>1292</td>\n      <td>329</td>\n      <td>815</td>\n      <td>71</td>\n    </tr>\n    <tr>\n      <th>1</th>\n      <td>1021</td>\n      <td>1244</td>\n      <td>316</td>\n      <td>726</td>\n      <td>68</td>\n    </tr>\n    <tr>\n      <th>2</th>\n      <td>1120</td>\n      <td>1288</td>\n      <td>329</td>\n      <td>929</td>\n      <td>68</td>\n    </tr>\n    <tr>\n      <th>3</th>\n      <td>1114</td>\n      <td>1205</td>\n      <td>315</td>\n      <td>794</td>\n      <td>66</td>\n    </tr>\n    <tr>\n      <th>4</th>\n      <td>1048</td>\n      <td>1452</td>\n      <td>303</td>\n      <td>946</td>\n      <td>77</td>\n    </tr>\n  </tbody>\n</table>\n</div>"
     },
     "execution_count": 143,
     "metadata": {},
     "output_type": "execute_result"
    }
   ],
   "source": [
    "df_male.head()"
   ],
   "metadata": {
    "collapsed": false,
    "pycharm": {
     "name": "#%%\n"
    }
   }
  },
  {
   "cell_type": "code",
   "execution_count": 146,
   "outputs": [
    {
     "data": {
      "text/plain": "   chest_circumference  chest_height_mm  waist_breadth  weight_hg  height_ind\n0                 1074             1292            329        815          71\n1                 1021             1244            316        726          68\n2                 1120             1288            329        929          68\n3                 1114             1205            315        794          66\n4                 1048             1452            303        946          77",
      "text/html": "<div>\n<style scoped>\n    .dataframe tbody tr th:only-of-type {\n        vertical-align: middle;\n    }\n\n    .dataframe tbody tr th {\n        vertical-align: top;\n    }\n\n    .dataframe thead th {\n        text-align: right;\n    }\n</style>\n<table border=\"1\" class=\"dataframe\">\n  <thead>\n    <tr style=\"text-align: right;\">\n      <th></th>\n      <th>chest_circumference</th>\n      <th>chest_height_mm</th>\n      <th>waist_breadth</th>\n      <th>weight_hg</th>\n      <th>height_ind</th>\n    </tr>\n  </thead>\n  <tbody>\n    <tr>\n      <th>0</th>\n      <td>1074</td>\n      <td>1292</td>\n      <td>329</td>\n      <td>815</td>\n      <td>71</td>\n    </tr>\n    <tr>\n      <th>1</th>\n      <td>1021</td>\n      <td>1244</td>\n      <td>316</td>\n      <td>726</td>\n      <td>68</td>\n    </tr>\n    <tr>\n      <th>2</th>\n      <td>1120</td>\n      <td>1288</td>\n      <td>329</td>\n      <td>929</td>\n      <td>68</td>\n    </tr>\n    <tr>\n      <th>3</th>\n      <td>1114</td>\n      <td>1205</td>\n      <td>315</td>\n      <td>794</td>\n      <td>66</td>\n    </tr>\n    <tr>\n      <th>4</th>\n      <td>1048</td>\n      <td>1452</td>\n      <td>303</td>\n      <td>946</td>\n      <td>77</td>\n    </tr>\n  </tbody>\n</table>\n</div>"
     },
     "execution_count": 146,
     "metadata": {},
     "output_type": "execute_result"
    }
   ],
   "source": [
    "df_male.head()"
   ],
   "metadata": {
    "collapsed": false,
    "pycharm": {
     "name": "#%%\n"
    }
   }
  },
  {
   "cell_type": "code",
   "execution_count": 150,
   "outputs": [
    {
     "ename": "AttributeError",
     "evalue": "'NoneType' object has no attribute 'head'",
     "output_type": "error",
     "traceback": [
      "\u001B[1;31m---------------------------------------------------------------------------\u001B[0m",
      "\u001B[1;31mAttributeError\u001B[0m                            Traceback (most recent call last)",
      "Input \u001B[1;32mIn [150]\u001B[0m, in \u001B[0;36m<cell line: 1>\u001B[1;34m()\u001B[0m\n\u001B[1;32m----> 1\u001B[0m \u001B[43mdf_male_refined\u001B[49m\u001B[38;5;241;43m.\u001B[39;49m\u001B[43mhead\u001B[49m()\n",
      "\u001B[1;31mAttributeError\u001B[0m: 'NoneType' object has no attribute 'head'"
     ]
    }
   ],
   "source": [
    "df_male_refined.head()"
   ],
   "metadata": {
    "collapsed": false,
    "pycharm": {
     "name": "#%%\n"
    }
   }
  },
  {
   "cell_type": "code",
   "execution_count": 153,
   "outputs": [
    {
     "data": {
      "text/plain": "   chest_circumference  chest_height_mm  waist_breadth  weight_hg  height_cm\n0                 1074             1292            329        815         71\n1                 1021             1244            316        726         68\n2                 1120             1288            329        929         68\n3                 1114             1205            315        794         66\n4                 1048             1452            303        946         77",
      "text/html": "<div>\n<style scoped>\n    .dataframe tbody tr th:only-of-type {\n        vertical-align: middle;\n    }\n\n    .dataframe tbody tr th {\n        vertical-align: top;\n    }\n\n    .dataframe thead th {\n        text-align: right;\n    }\n</style>\n<table border=\"1\" class=\"dataframe\">\n  <thead>\n    <tr style=\"text-align: right;\">\n      <th></th>\n      <th>chest_circumference</th>\n      <th>chest_height_mm</th>\n      <th>waist_breadth</th>\n      <th>weight_hg</th>\n      <th>height_cm</th>\n    </tr>\n  </thead>\n  <tbody>\n    <tr>\n      <th>0</th>\n      <td>1074</td>\n      <td>1292</td>\n      <td>329</td>\n      <td>815</td>\n      <td>71</td>\n    </tr>\n    <tr>\n      <th>1</th>\n      <td>1021</td>\n      <td>1244</td>\n      <td>316</td>\n      <td>726</td>\n      <td>68</td>\n    </tr>\n    <tr>\n      <th>2</th>\n      <td>1120</td>\n      <td>1288</td>\n      <td>329</td>\n      <td>929</td>\n      <td>68</td>\n    </tr>\n    <tr>\n      <th>3</th>\n      <td>1114</td>\n      <td>1205</td>\n      <td>315</td>\n      <td>794</td>\n      <td>66</td>\n    </tr>\n    <tr>\n      <th>4</th>\n      <td>1048</td>\n      <td>1452</td>\n      <td>303</td>\n      <td>946</td>\n      <td>77</td>\n    </tr>\n  </tbody>\n</table>\n</div>"
     },
     "execution_count": 153,
     "metadata": {},
     "output_type": "execute_result"
    }
   ],
   "source": [
    "df_male_refined.head()"
   ],
   "metadata": {
    "collapsed": false,
    "pycharm": {
     "name": "#%%\n"
    }
   }
  },
  {
   "cell_type": "code",
   "execution_count": 154,
   "outputs": [],
   "source": [
    "df_male_refined ['height_cm'] = df_male_refined['height_cm'].multiply(2.54)"
   ],
   "metadata": {
    "collapsed": false,
    "pycharm": {
     "name": "#%%\n"
    }
   }
  },
  {
   "cell_type": "code",
   "execution_count": 155,
   "outputs": [
    {
     "data": {
      "text/plain": "   chest_circumference  chest_height_mm  waist_breadth  weight_hg  height_cm\n0                 1074             1292            329        815     180.34\n1                 1021             1244            316        726     172.72\n2                 1120             1288            329        929     172.72\n3                 1114             1205            315        794     167.64\n4                 1048             1452            303        946     195.58",
      "text/html": "<div>\n<style scoped>\n    .dataframe tbody tr th:only-of-type {\n        vertical-align: middle;\n    }\n\n    .dataframe tbody tr th {\n        vertical-align: top;\n    }\n\n    .dataframe thead th {\n        text-align: right;\n    }\n</style>\n<table border=\"1\" class=\"dataframe\">\n  <thead>\n    <tr style=\"text-align: right;\">\n      <th></th>\n      <th>chest_circumference</th>\n      <th>chest_height_mm</th>\n      <th>waist_breadth</th>\n      <th>weight_hg</th>\n      <th>height_cm</th>\n    </tr>\n  </thead>\n  <tbody>\n    <tr>\n      <th>0</th>\n      <td>1074</td>\n      <td>1292</td>\n      <td>329</td>\n      <td>815</td>\n      <td>180.34</td>\n    </tr>\n    <tr>\n      <th>1</th>\n      <td>1021</td>\n      <td>1244</td>\n      <td>316</td>\n      <td>726</td>\n      <td>172.72</td>\n    </tr>\n    <tr>\n      <th>2</th>\n      <td>1120</td>\n      <td>1288</td>\n      <td>329</td>\n      <td>929</td>\n      <td>172.72</td>\n    </tr>\n    <tr>\n      <th>3</th>\n      <td>1114</td>\n      <td>1205</td>\n      <td>315</td>\n      <td>794</td>\n      <td>167.64</td>\n    </tr>\n    <tr>\n      <th>4</th>\n      <td>1048</td>\n      <td>1452</td>\n      <td>303</td>\n      <td>946</td>\n      <td>195.58</td>\n    </tr>\n  </tbody>\n</table>\n</div>"
     },
     "execution_count": 155,
     "metadata": {},
     "output_type": "execute_result"
    }
   ],
   "source": [
    "df_male_refined.head()"
   ],
   "metadata": {
    "collapsed": false,
    "pycharm": {
     "name": "#%%\n"
    }
   }
  },
  {
   "cell_type": "code",
   "execution_count": 156,
   "outputs": [],
   "source": [
    "df_male_refined.to_csv('df_male_sizing.csv')"
   ],
   "metadata": {
    "collapsed": false,
    "pycharm": {
     "name": "#%%\n"
    }
   }
  },
  {
   "cell_type": "code",
   "execution_count": 157,
   "outputs": [
    {
     "data": {
      "text/plain": "      chest_circumference  chest_height_mm  waist_breadth  weight_hg  \\\n0                    1074             1292            329        815   \n1                    1021             1244            316        726   \n2                    1120             1288            329        929   \n3                    1114             1205            315        794   \n4                    1048             1452            303        946   \n...                   ...              ...            ...        ...   \n4077                  954             1231            279        675   \n4078                 1072             1301            351        896   \n4079                 1045             1263            333        832   \n4080                  984             1271            293        731   \n4081                 1144             1349            354        985   \n\n      height_cm  \n0         180.0  \n1         173.0  \n2         173.0  \n3         168.0  \n4         196.0  \n...         ...  \n4077      170.0  \n4078      180.0  \n4079      170.0  \n4080      175.0  \n4081      185.0  \n\n[4082 rows x 5 columns]",
      "text/html": "<div>\n<style scoped>\n    .dataframe tbody tr th:only-of-type {\n        vertical-align: middle;\n    }\n\n    .dataframe tbody tr th {\n        vertical-align: top;\n    }\n\n    .dataframe thead th {\n        text-align: right;\n    }\n</style>\n<table border=\"1\" class=\"dataframe\">\n  <thead>\n    <tr style=\"text-align: right;\">\n      <th></th>\n      <th>chest_circumference</th>\n      <th>chest_height_mm</th>\n      <th>waist_breadth</th>\n      <th>weight_hg</th>\n      <th>height_cm</th>\n    </tr>\n  </thead>\n  <tbody>\n    <tr>\n      <th>0</th>\n      <td>1074</td>\n      <td>1292</td>\n      <td>329</td>\n      <td>815</td>\n      <td>180.0</td>\n    </tr>\n    <tr>\n      <th>1</th>\n      <td>1021</td>\n      <td>1244</td>\n      <td>316</td>\n      <td>726</td>\n      <td>173.0</td>\n    </tr>\n    <tr>\n      <th>2</th>\n      <td>1120</td>\n      <td>1288</td>\n      <td>329</td>\n      <td>929</td>\n      <td>173.0</td>\n    </tr>\n    <tr>\n      <th>3</th>\n      <td>1114</td>\n      <td>1205</td>\n      <td>315</td>\n      <td>794</td>\n      <td>168.0</td>\n    </tr>\n    <tr>\n      <th>4</th>\n      <td>1048</td>\n      <td>1452</td>\n      <td>303</td>\n      <td>946</td>\n      <td>196.0</td>\n    </tr>\n    <tr>\n      <th>...</th>\n      <td>...</td>\n      <td>...</td>\n      <td>...</td>\n      <td>...</td>\n      <td>...</td>\n    </tr>\n    <tr>\n      <th>4077</th>\n      <td>954</td>\n      <td>1231</td>\n      <td>279</td>\n      <td>675</td>\n      <td>170.0</td>\n    </tr>\n    <tr>\n      <th>4078</th>\n      <td>1072</td>\n      <td>1301</td>\n      <td>351</td>\n      <td>896</td>\n      <td>180.0</td>\n    </tr>\n    <tr>\n      <th>4079</th>\n      <td>1045</td>\n      <td>1263</td>\n      <td>333</td>\n      <td>832</td>\n      <td>170.0</td>\n    </tr>\n    <tr>\n      <th>4080</th>\n      <td>984</td>\n      <td>1271</td>\n      <td>293</td>\n      <td>731</td>\n      <td>175.0</td>\n    </tr>\n    <tr>\n      <th>4081</th>\n      <td>1144</td>\n      <td>1349</td>\n      <td>354</td>\n      <td>985</td>\n      <td>185.0</td>\n    </tr>\n  </tbody>\n</table>\n<p>4082 rows × 5 columns</p>\n</div>"
     },
     "execution_count": 157,
     "metadata": {},
     "output_type": "execute_result"
    }
   ],
   "source": [
    "df_male_refined.round()"
   ],
   "metadata": {
    "collapsed": false,
    "pycharm": {
     "name": "#%%\n"
    }
   }
  },
  {
   "cell_type": "code",
   "execution_count": 158,
   "outputs": [],
   "source": [
    "df_male_round = df_male_refined.round()"
   ],
   "metadata": {
    "collapsed": false,
    "pycharm": {
     "name": "#%%\n"
    }
   }
  },
  {
   "cell_type": "code",
   "execution_count": 159,
   "outputs": [
    {
     "data": {
      "text/plain": "   chest_circumference  chest_height_mm  waist_breadth  weight_hg  height_cm\n0                 1074             1292            329        815      180.0\n1                 1021             1244            316        726      173.0\n2                 1120             1288            329        929      173.0\n3                 1114             1205            315        794      168.0\n4                 1048             1452            303        946      196.0",
      "text/html": "<div>\n<style scoped>\n    .dataframe tbody tr th:only-of-type {\n        vertical-align: middle;\n    }\n\n    .dataframe tbody tr th {\n        vertical-align: top;\n    }\n\n    .dataframe thead th {\n        text-align: right;\n    }\n</style>\n<table border=\"1\" class=\"dataframe\">\n  <thead>\n    <tr style=\"text-align: right;\">\n      <th></th>\n      <th>chest_circumference</th>\n      <th>chest_height_mm</th>\n      <th>waist_breadth</th>\n      <th>weight_hg</th>\n      <th>height_cm</th>\n    </tr>\n  </thead>\n  <tbody>\n    <tr>\n      <th>0</th>\n      <td>1074</td>\n      <td>1292</td>\n      <td>329</td>\n      <td>815</td>\n      <td>180.0</td>\n    </tr>\n    <tr>\n      <th>1</th>\n      <td>1021</td>\n      <td>1244</td>\n      <td>316</td>\n      <td>726</td>\n      <td>173.0</td>\n    </tr>\n    <tr>\n      <th>2</th>\n      <td>1120</td>\n      <td>1288</td>\n      <td>329</td>\n      <td>929</td>\n      <td>173.0</td>\n    </tr>\n    <tr>\n      <th>3</th>\n      <td>1114</td>\n      <td>1205</td>\n      <td>315</td>\n      <td>794</td>\n      <td>168.0</td>\n    </tr>\n    <tr>\n      <th>4</th>\n      <td>1048</td>\n      <td>1452</td>\n      <td>303</td>\n      <td>946</td>\n      <td>196.0</td>\n    </tr>\n  </tbody>\n</table>\n</div>"
     },
     "execution_count": 159,
     "metadata": {},
     "output_type": "execute_result"
    }
   ],
   "source": [
    "df_male_round.head()"
   ],
   "metadata": {
    "collapsed": false,
    "pycharm": {
     "name": "#%%\n"
    }
   }
  },
  {
   "cell_type": "code",
   "execution_count": 160,
   "outputs": [],
   "source": [
    "df_male_round.to_csv('df_male_round.csv')"
   ],
   "metadata": {
    "collapsed": false,
    "pycharm": {
     "name": "#%%\n"
    }
   }
  },
  {
   "cell_type": "code",
   "execution_count": 161,
   "outputs": [
    {
     "data": {
      "text/plain": "chest_circumference      int64\nchest_height_mm          int64\nwaist_breadth            int64\nweight_hg                int64\nheight_cm              float64\ndtype: object"
     },
     "execution_count": 161,
     "metadata": {},
     "output_type": "execute_result"
    }
   ],
   "source": [
    "df_male_round.dtypes"
   ],
   "metadata": {
    "collapsed": false,
    "pycharm": {
     "name": "#%%\n"
    }
   }
  },
  {
   "cell_type": "code",
   "execution_count": 162,
   "outputs": [
    {
     "data": {
      "text/plain": "chest_circumference      int64\nchest_height_mm          int64\nwaist_breadth            int64\nweight_hg                int64\nheight_cm              float64\ndtype: object"
     },
     "execution_count": 162,
     "metadata": {},
     "output_type": "execute_result"
    }
   ],
   "source": [
    "df_male_refined.dtypes"
   ],
   "metadata": {
    "collapsed": false,
    "pycharm": {
     "name": "#%%\n"
    }
   }
  },
  {
   "cell_type": "code",
   "execution_count": 163,
   "outputs": [
    {
     "data": {
      "text/plain": "   chest_circumference  chest_height_mm  waist_breadth  weight_hg  height_cm\n0                 1074             1292            329        815      180.0\n1                 1021             1244            316        726      173.0\n2                 1120             1288            329        929      173.0\n3                 1114             1205            315        794      168.0\n4                 1048             1452            303        946      196.0",
      "text/html": "<div>\n<style scoped>\n    .dataframe tbody tr th:only-of-type {\n        vertical-align: middle;\n    }\n\n    .dataframe tbody tr th {\n        vertical-align: top;\n    }\n\n    .dataframe thead th {\n        text-align: right;\n    }\n</style>\n<table border=\"1\" class=\"dataframe\">\n  <thead>\n    <tr style=\"text-align: right;\">\n      <th></th>\n      <th>chest_circumference</th>\n      <th>chest_height_mm</th>\n      <th>waist_breadth</th>\n      <th>weight_hg</th>\n      <th>height_cm</th>\n    </tr>\n  </thead>\n  <tbody>\n    <tr>\n      <th>0</th>\n      <td>1074</td>\n      <td>1292</td>\n      <td>329</td>\n      <td>815</td>\n      <td>180.0</td>\n    </tr>\n    <tr>\n      <th>1</th>\n      <td>1021</td>\n      <td>1244</td>\n      <td>316</td>\n      <td>726</td>\n      <td>173.0</td>\n    </tr>\n    <tr>\n      <th>2</th>\n      <td>1120</td>\n      <td>1288</td>\n      <td>329</td>\n      <td>929</td>\n      <td>173.0</td>\n    </tr>\n    <tr>\n      <th>3</th>\n      <td>1114</td>\n      <td>1205</td>\n      <td>315</td>\n      <td>794</td>\n      <td>168.0</td>\n    </tr>\n    <tr>\n      <th>4</th>\n      <td>1048</td>\n      <td>1452</td>\n      <td>303</td>\n      <td>946</td>\n      <td>196.0</td>\n    </tr>\n  </tbody>\n</table>\n</div>"
     },
     "execution_count": 163,
     "metadata": {},
     "output_type": "execute_result"
    }
   ],
   "source": [
    "df_male_round.head()"
   ],
   "metadata": {
    "collapsed": false,
    "pycharm": {
     "name": "#%%\n"
    }
   }
  },
  {
   "cell_type": "code",
   "execution_count": 164,
   "outputs": [
    {
     "data": {
      "text/plain": "chest_circumference      int64\nchest_height_mm          int64\nwaist_breadth            int64\nweight_hg                int64\nheight_cm              float64\ndtype: object"
     },
     "execution_count": 164,
     "metadata": {},
     "output_type": "execute_result"
    }
   ],
   "source": [
    "df_male_round.dtypes"
   ],
   "metadata": {
    "collapsed": false,
    "pycharm": {
     "name": "#%%\n"
    }
   }
  },
  {
   "cell_type": "code",
   "execution_count": 165,
   "outputs": [
    {
     "ename": "TypeError",
     "evalue": "'Series' object is not callable",
     "output_type": "error",
     "traceback": [
      "\u001B[1;31m---------------------------------------------------------------------------\u001B[0m",
      "\u001B[1;31mTypeError\u001B[0m                                 Traceback (most recent call last)",
      "Input \u001B[1;32mIn [165]\u001B[0m, in \u001B[0;36m<cell line: 1>\u001B[1;34m()\u001B[0m\n\u001B[1;32m----> 1\u001B[0m \u001B[43mdf_male_round\u001B[49m\u001B[38;5;241;43m.\u001B[39;49m\u001B[43mdtypes\u001B[49m\u001B[43m(\u001B[49m\u001B[43m)\u001B[49m\n",
      "\u001B[1;31mTypeError\u001B[0m: 'Series' object is not callable"
     ]
    }
   ],
   "source": [
    "df_male_round.dtypes()"
   ],
   "metadata": {
    "collapsed": false,
    "pycharm": {
     "name": "#%%\n"
    }
   }
  },
  {
   "cell_type": "code",
   "execution_count": 166,
   "outputs": [],
   "source": [
    "df_male = pd.read_csv('male.csv')"
   ],
   "metadata": {
    "collapsed": false,
    "pycharm": {
     "name": "#%%\n"
    }
   }
  },
  {
   "cell_type": "code",
   "execution_count": 167,
   "outputs": [
    {
     "data": {
      "text/plain": "subjectid                          int64\nabdominalextensiondepthsitting     int64\nacromialheight                     int64\nacromionradialelength              int64\nanklecircumference                 int64\n                                   ...  \nDODRace                            int64\nAge                                int64\nHeightin                           int64\nWeightlbs                          int64\nWritingPreference                 object\nLength: 108, dtype: object"
     },
     "execution_count": 167,
     "metadata": {},
     "output_type": "execute_result"
    }
   ],
   "source": [
    "df_male.dtypes"
   ],
   "metadata": {
    "collapsed": false,
    "pycharm": {
     "name": "#%%\n"
    }
   }
  },
  {
   "cell_type": "code",
   "execution_count": 168,
   "outputs": [
    {
     "data": {
      "text/plain": "chest_circumference      int64\nchest_height_mm          int64\nwaist_breadth            int64\nweight_hg                int64\nheight_cm              float64\ndtype: object"
     },
     "execution_count": 168,
     "metadata": {},
     "output_type": "execute_result"
    }
   ],
   "source": [
    "df_male_round.dtypes"
   ],
   "metadata": {
    "collapsed": false,
    "pycharm": {
     "name": "#%%\n"
    }
   }
  },
  {
   "cell_type": "code",
   "execution_count": 2,
   "outputs": [
    {
     "ename": "NameError",
     "evalue": "name 'df_male_round' is not defined",
     "output_type": "error",
     "traceback": [
      "\u001B[1;31m---------------------------------------------------------------------------\u001B[0m",
      "\u001B[1;31mNameError\u001B[0m                                 Traceback (most recent call last)",
      "Input \u001B[1;32mIn [2]\u001B[0m, in \u001B[0;36m<cell line: 1>\u001B[1;34m()\u001B[0m\n\u001B[1;32m----> 1\u001B[0m \u001B[43mdf_male_round\u001B[49m\u001B[38;5;241m.\u001B[39mdtypes\n",
      "\u001B[1;31mNameError\u001B[0m: name 'df_male_round' is not defined"
     ]
    }
   ],
   "source": [
    "df_male_round.dtypes"
   ],
   "metadata": {
    "collapsed": false,
    "pycharm": {
     "name": "#%%\n"
    }
   }
  },
  {
   "cell_type": "code",
   "execution_count": 170,
   "outputs": [],
   "source": [
    "df_male = pd.read_csv(\"male.csv\")\n",
    "df_male[['waistcircumference']]=df_male[['waistcircumference']].astype(float)"
   ],
   "metadata": {
    "collapsed": false,
    "pycharm": {
     "name": "#%%\n"
    }
   }
  },
  {
   "cell_type": "code",
   "execution_count": 171,
   "outputs": [
    {
     "data": {
      "text/plain": "subjectid                          int64\nabdominalextensiondepthsitting     int64\nacromialheight                     int64\nacromionradialelength              int64\nanklecircumference                 int64\n                                   ...  \nDODRace                            int64\nAge                                int64\nHeightin                           int64\nWeightlbs                          int64\nWritingPreference                 object\nLength: 108, dtype: object"
     },
     "execution_count": 171,
     "metadata": {},
     "output_type": "execute_result"
    }
   ],
   "source": [
    "df_male.dtypes"
   ],
   "metadata": {
    "collapsed": false,
    "pycharm": {
     "name": "#%%\n"
    }
   }
  },
  {
   "cell_type": "code",
   "execution_count": 1,
   "outputs": [
    {
     "ename": "NameError",
     "evalue": "name 'df_male_round' is not defined",
     "output_type": "error",
     "traceback": [
      "\u001B[1;31m---------------------------------------------------------------------------\u001B[0m",
      "\u001B[1;31mNameError\u001B[0m                                 Traceback (most recent call last)",
      "Input \u001B[1;32mIn [1]\u001B[0m, in \u001B[0;36m<cell line: 1>\u001B[1;34m()\u001B[0m\n\u001B[1;32m----> 1\u001B[0m \u001B[43mdf_male_round\u001B[49m\u001B[38;5;241m.\u001B[39mdtypes\n",
      "\u001B[1;31mNameError\u001B[0m: name 'df_male_round' is not defined"
     ]
    }
   ],
   "source": [
    "df_male_round.dtypes"
   ],
   "metadata": {
    "collapsed": false,
    "pycharm": {
     "name": "#%%\n"
    }
   }
  },
  {
   "cell_type": "code",
   "execution_count": 5,
   "outputs": [],
   "source": [
    "df_male_new = pd.read_csv('df_male_round.csv')"
   ],
   "metadata": {
    "collapsed": false,
    "pycharm": {
     "name": "#%%\n"
    }
   }
  },
  {
   "cell_type": "code",
   "execution_count": 6,
   "outputs": [
    {
     "data": {
      "text/plain": "Unnamed: 0               int64\nchest_circumference      int64\nchest_height_mm          int64\nwaist_breadth            int64\nweight_hg                int64\nheight_cm              float64\ndtype: object"
     },
     "execution_count": 6,
     "metadata": {},
     "output_type": "execute_result"
    }
   ],
   "source": [
    "df_male_new.dtypes"
   ],
   "metadata": {
    "collapsed": false,
    "pycharm": {
     "name": "#%%\n"
    }
   }
  },
  {
   "cell_type": "code",
   "execution_count": 7,
   "outputs": [],
   "source": [
    "df_male = pd.read_csv('male.csv')"
   ],
   "metadata": {
    "collapsed": false,
    "pycharm": {
     "name": "#%%\n"
    }
   }
  },
  {
   "cell_type": "code",
   "execution_count": 9,
   "outputs": [
    {
     "data": {
      "text/plain": "    subjectid  abdominalextensiondepthsitting  acromialheight  \\\n0       10027                             266            1467   \n1       10032                             233            1395   \n2       10033                             287            1430   \n3       10092                             234            1347   \n4       10093                             250            1585   \n..        ...                             ...             ...   \n95      10692                             209            1466   \n96      10694                             245            1349   \n97      10695                             295            1403   \n98      10696                             226            1429   \n99      10701                             300            1433   \n\n    acromionradialelength  anklecircumference  axillaheight  \\\n0                     337                 222          1347   \n1                     326                 220          1293   \n2                     341                 230          1327   \n3                     310                 230          1239   \n4                     372                 247          1478   \n..                    ...                 ...           ...   \n95                    339                 233          1367   \n96                    303                 223          1248   \n97                    327                 231          1291   \n98                    330                 220          1337   \n99                    327                 228          1318   \n\n    balloffootcircumference  balloffootlength  biacromialbreadth  \\\n0                       253               202                401   \n1                       245               193                394   \n2                       256               196                427   \n3                       262               199                401   \n4                       267               224                435   \n..                      ...               ...                ...   \n95                      257               193                428   \n96                      248               182                403   \n97                      242               196                367   \n98                      242               195                439   \n99                      245               197                421   \n\n    bicepscircumferenceflexed  ...                  Branch  PrimaryMOS  \\\n0                         369  ...             Combat Arms         19D   \n1                         338  ...          Combat Support         68W   \n2                         408  ...          Combat Support         68W   \n3                         359  ...  Combat Service Support         88M   \n4                         356  ...  Combat Service Support         92G   \n..                        ...  ...                     ...         ...   \n95                        362  ...             Combat Arms         19D   \n96                        331  ...             Combat Arms         19K   \n97                        348  ...             Combat Arms         19K   \n98                        320  ...             Combat Arms         19K   \n99                        386  ...             Combat Arms         19K   \n\n    SubjectsBirthLocation  SubjectNumericRace  Ethnicity  DODRace  Age  \\\n0            North Dakota                   1        NaN        1   41   \n1                New York                   1        NaN        1   35   \n2                New York                   2        NaN        2   42   \n3               Wisconsin                   1        NaN        1   31   \n4          North Carolina                   2        NaN        2   21   \n..                    ...                 ...        ...      ...  ...   \n95          Massachusetts                   1        NaN        1   21   \n96              Tennessee                   1        NaN        1   22   \n97               Arkansas                   1        NaN        1   26   \n98                 Alaska                   1        NaN        1   20   \n99                   Ohio                   1        NaN        1   27   \n\n    Heightin  Weightlbs  WritingPreference  \n0         71        180         Right hand  \n1         68        160          Left hand  \n2         68        205          Left hand  \n3         66        175         Right hand  \n4         77        213         Right hand  \n..       ...        ...                ...  \n95        72        170         Right hand  \n96        66        158         Right hand  \n97        67        174         Right hand  \n98        74        165         Right hand  \n99        71        215         Right hand  \n\n[100 rows x 108 columns]",
      "text/html": "<div>\n<style scoped>\n    .dataframe tbody tr th:only-of-type {\n        vertical-align: middle;\n    }\n\n    .dataframe tbody tr th {\n        vertical-align: top;\n    }\n\n    .dataframe thead th {\n        text-align: right;\n    }\n</style>\n<table border=\"1\" class=\"dataframe\">\n  <thead>\n    <tr style=\"text-align: right;\">\n      <th></th>\n      <th>subjectid</th>\n      <th>abdominalextensiondepthsitting</th>\n      <th>acromialheight</th>\n      <th>acromionradialelength</th>\n      <th>anklecircumference</th>\n      <th>axillaheight</th>\n      <th>balloffootcircumference</th>\n      <th>balloffootlength</th>\n      <th>biacromialbreadth</th>\n      <th>bicepscircumferenceflexed</th>\n      <th>...</th>\n      <th>Branch</th>\n      <th>PrimaryMOS</th>\n      <th>SubjectsBirthLocation</th>\n      <th>SubjectNumericRace</th>\n      <th>Ethnicity</th>\n      <th>DODRace</th>\n      <th>Age</th>\n      <th>Heightin</th>\n      <th>Weightlbs</th>\n      <th>WritingPreference</th>\n    </tr>\n  </thead>\n  <tbody>\n    <tr>\n      <th>0</th>\n      <td>10027</td>\n      <td>266</td>\n      <td>1467</td>\n      <td>337</td>\n      <td>222</td>\n      <td>1347</td>\n      <td>253</td>\n      <td>202</td>\n      <td>401</td>\n      <td>369</td>\n      <td>...</td>\n      <td>Combat Arms</td>\n      <td>19D</td>\n      <td>North Dakota</td>\n      <td>1</td>\n      <td>NaN</td>\n      <td>1</td>\n      <td>41</td>\n      <td>71</td>\n      <td>180</td>\n      <td>Right hand</td>\n    </tr>\n    <tr>\n      <th>1</th>\n      <td>10032</td>\n      <td>233</td>\n      <td>1395</td>\n      <td>326</td>\n      <td>220</td>\n      <td>1293</td>\n      <td>245</td>\n      <td>193</td>\n      <td>394</td>\n      <td>338</td>\n      <td>...</td>\n      <td>Combat Support</td>\n      <td>68W</td>\n      <td>New York</td>\n      <td>1</td>\n      <td>NaN</td>\n      <td>1</td>\n      <td>35</td>\n      <td>68</td>\n      <td>160</td>\n      <td>Left hand</td>\n    </tr>\n    <tr>\n      <th>2</th>\n      <td>10033</td>\n      <td>287</td>\n      <td>1430</td>\n      <td>341</td>\n      <td>230</td>\n      <td>1327</td>\n      <td>256</td>\n      <td>196</td>\n      <td>427</td>\n      <td>408</td>\n      <td>...</td>\n      <td>Combat Support</td>\n      <td>68W</td>\n      <td>New York</td>\n      <td>2</td>\n      <td>NaN</td>\n      <td>2</td>\n      <td>42</td>\n      <td>68</td>\n      <td>205</td>\n      <td>Left hand</td>\n    </tr>\n    <tr>\n      <th>3</th>\n      <td>10092</td>\n      <td>234</td>\n      <td>1347</td>\n      <td>310</td>\n      <td>230</td>\n      <td>1239</td>\n      <td>262</td>\n      <td>199</td>\n      <td>401</td>\n      <td>359</td>\n      <td>...</td>\n      <td>Combat Service Support</td>\n      <td>88M</td>\n      <td>Wisconsin</td>\n      <td>1</td>\n      <td>NaN</td>\n      <td>1</td>\n      <td>31</td>\n      <td>66</td>\n      <td>175</td>\n      <td>Right hand</td>\n    </tr>\n    <tr>\n      <th>4</th>\n      <td>10093</td>\n      <td>250</td>\n      <td>1585</td>\n      <td>372</td>\n      <td>247</td>\n      <td>1478</td>\n      <td>267</td>\n      <td>224</td>\n      <td>435</td>\n      <td>356</td>\n      <td>...</td>\n      <td>Combat Service Support</td>\n      <td>92G</td>\n      <td>North Carolina</td>\n      <td>2</td>\n      <td>NaN</td>\n      <td>2</td>\n      <td>21</td>\n      <td>77</td>\n      <td>213</td>\n      <td>Right hand</td>\n    </tr>\n    <tr>\n      <th>...</th>\n      <td>...</td>\n      <td>...</td>\n      <td>...</td>\n      <td>...</td>\n      <td>...</td>\n      <td>...</td>\n      <td>...</td>\n      <td>...</td>\n      <td>...</td>\n      <td>...</td>\n      <td>...</td>\n      <td>...</td>\n      <td>...</td>\n      <td>...</td>\n      <td>...</td>\n      <td>...</td>\n      <td>...</td>\n      <td>...</td>\n      <td>...</td>\n      <td>...</td>\n      <td>...</td>\n    </tr>\n    <tr>\n      <th>95</th>\n      <td>10692</td>\n      <td>209</td>\n      <td>1466</td>\n      <td>339</td>\n      <td>233</td>\n      <td>1367</td>\n      <td>257</td>\n      <td>193</td>\n      <td>428</td>\n      <td>362</td>\n      <td>...</td>\n      <td>Combat Arms</td>\n      <td>19D</td>\n      <td>Massachusetts</td>\n      <td>1</td>\n      <td>NaN</td>\n      <td>1</td>\n      <td>21</td>\n      <td>72</td>\n      <td>170</td>\n      <td>Right hand</td>\n    </tr>\n    <tr>\n      <th>96</th>\n      <td>10694</td>\n      <td>245</td>\n      <td>1349</td>\n      <td>303</td>\n      <td>223</td>\n      <td>1248</td>\n      <td>248</td>\n      <td>182</td>\n      <td>403</td>\n      <td>331</td>\n      <td>...</td>\n      <td>Combat Arms</td>\n      <td>19K</td>\n      <td>Tennessee</td>\n      <td>1</td>\n      <td>NaN</td>\n      <td>1</td>\n      <td>22</td>\n      <td>66</td>\n      <td>158</td>\n      <td>Right hand</td>\n    </tr>\n    <tr>\n      <th>97</th>\n      <td>10695</td>\n      <td>295</td>\n      <td>1403</td>\n      <td>327</td>\n      <td>231</td>\n      <td>1291</td>\n      <td>242</td>\n      <td>196</td>\n      <td>367</td>\n      <td>348</td>\n      <td>...</td>\n      <td>Combat Arms</td>\n      <td>19K</td>\n      <td>Arkansas</td>\n      <td>1</td>\n      <td>NaN</td>\n      <td>1</td>\n      <td>26</td>\n      <td>67</td>\n      <td>174</td>\n      <td>Right hand</td>\n    </tr>\n    <tr>\n      <th>98</th>\n      <td>10696</td>\n      <td>226</td>\n      <td>1429</td>\n      <td>330</td>\n      <td>220</td>\n      <td>1337</td>\n      <td>242</td>\n      <td>195</td>\n      <td>439</td>\n      <td>320</td>\n      <td>...</td>\n      <td>Combat Arms</td>\n      <td>19K</td>\n      <td>Alaska</td>\n      <td>1</td>\n      <td>NaN</td>\n      <td>1</td>\n      <td>20</td>\n      <td>74</td>\n      <td>165</td>\n      <td>Right hand</td>\n    </tr>\n    <tr>\n      <th>99</th>\n      <td>10701</td>\n      <td>300</td>\n      <td>1433</td>\n      <td>327</td>\n      <td>228</td>\n      <td>1318</td>\n      <td>245</td>\n      <td>197</td>\n      <td>421</td>\n      <td>386</td>\n      <td>...</td>\n      <td>Combat Arms</td>\n      <td>19K</td>\n      <td>Ohio</td>\n      <td>1</td>\n      <td>NaN</td>\n      <td>1</td>\n      <td>27</td>\n      <td>71</td>\n      <td>215</td>\n      <td>Right hand</td>\n    </tr>\n  </tbody>\n</table>\n<p>100 rows × 108 columns</p>\n</div>"
     },
     "execution_count": 9,
     "metadata": {},
     "output_type": "execute_result"
    }
   ],
   "source": [
    "df_male.head(100)"
   ],
   "metadata": {
    "collapsed": false,
    "pycharm": {
     "name": "#%%\n"
    }
   }
  },
  {
   "cell_type": "code",
   "execution_count": 10,
   "outputs": [],
   "source": [
    "df_male = pd.read_csv('male.csv', usecols=['chestcircumference', 'waistcircumference', 'Heightin', 'weightkg'])"
   ],
   "metadata": {
    "collapsed": false,
    "pycharm": {
     "name": "#%%\n"
    }
   }
  },
  {
   "cell_type": "code",
   "execution_count": 11,
   "outputs": [
    {
     "data": {
      "text/plain": "   chestcircumference  waistcircumference  weightkg  Heightin\n0                1074                 933       815        71\n1                1021                 870       726        68\n2                1120                 964       929        68\n3                1114                 857       794        66\n4                1048                 868       946        77",
      "text/html": "<div>\n<style scoped>\n    .dataframe tbody tr th:only-of-type {\n        vertical-align: middle;\n    }\n\n    .dataframe tbody tr th {\n        vertical-align: top;\n    }\n\n    .dataframe thead th {\n        text-align: right;\n    }\n</style>\n<table border=\"1\" class=\"dataframe\">\n  <thead>\n    <tr style=\"text-align: right;\">\n      <th></th>\n      <th>chestcircumference</th>\n      <th>waistcircumference</th>\n      <th>weightkg</th>\n      <th>Heightin</th>\n    </tr>\n  </thead>\n  <tbody>\n    <tr>\n      <th>0</th>\n      <td>1074</td>\n      <td>933</td>\n      <td>815</td>\n      <td>71</td>\n    </tr>\n    <tr>\n      <th>1</th>\n      <td>1021</td>\n      <td>870</td>\n      <td>726</td>\n      <td>68</td>\n    </tr>\n    <tr>\n      <th>2</th>\n      <td>1120</td>\n      <td>964</td>\n      <td>929</td>\n      <td>68</td>\n    </tr>\n    <tr>\n      <th>3</th>\n      <td>1114</td>\n      <td>857</td>\n      <td>794</td>\n      <td>66</td>\n    </tr>\n    <tr>\n      <th>4</th>\n      <td>1048</td>\n      <td>868</td>\n      <td>946</td>\n      <td>77</td>\n    </tr>\n  </tbody>\n</table>\n</div>"
     },
     "execution_count": 11,
     "metadata": {},
     "output_type": "execute_result"
    }
   ],
   "source": [
    "df_male.head()"
   ],
   "metadata": {
    "collapsed": false,
    "pycharm": {
     "name": "#%%\n"
    }
   }
  },
  {
   "cell_type": "code",
   "execution_count": 12,
   "outputs": [],
   "source": [
    "df_male = df_male.rename(columns={'Heightin':'height_cm','chestcircumference':'chest_cirfumference', 'waistcircumference':'waist_cirfumference', 'weightkg':'weight_hg'})"
   ],
   "metadata": {
    "collapsed": false,
    "pycharm": {
     "name": "#%%\n"
    }
   }
  },
  {
   "cell_type": "code",
   "execution_count": 13,
   "outputs": [
    {
     "data": {
      "text/plain": "   chest_cirfumference  waist_cirfumference  weight_hg  height_cm\n0                 1074                  933        815         71\n1                 1021                  870        726         68\n2                 1120                  964        929         68\n3                 1114                  857        794         66\n4                 1048                  868        946         77",
      "text/html": "<div>\n<style scoped>\n    .dataframe tbody tr th:only-of-type {\n        vertical-align: middle;\n    }\n\n    .dataframe tbody tr th {\n        vertical-align: top;\n    }\n\n    .dataframe thead th {\n        text-align: right;\n    }\n</style>\n<table border=\"1\" class=\"dataframe\">\n  <thead>\n    <tr style=\"text-align: right;\">\n      <th></th>\n      <th>chest_cirfumference</th>\n      <th>waist_cirfumference</th>\n      <th>weight_hg</th>\n      <th>height_cm</th>\n    </tr>\n  </thead>\n  <tbody>\n    <tr>\n      <th>0</th>\n      <td>1074</td>\n      <td>933</td>\n      <td>815</td>\n      <td>71</td>\n    </tr>\n    <tr>\n      <th>1</th>\n      <td>1021</td>\n      <td>870</td>\n      <td>726</td>\n      <td>68</td>\n    </tr>\n    <tr>\n      <th>2</th>\n      <td>1120</td>\n      <td>964</td>\n      <td>929</td>\n      <td>68</td>\n    </tr>\n    <tr>\n      <th>3</th>\n      <td>1114</td>\n      <td>857</td>\n      <td>794</td>\n      <td>66</td>\n    </tr>\n    <tr>\n      <th>4</th>\n      <td>1048</td>\n      <td>868</td>\n      <td>946</td>\n      <td>77</td>\n    </tr>\n  </tbody>\n</table>\n</div>"
     },
     "execution_count": 13,
     "metadata": {},
     "output_type": "execute_result"
    }
   ],
   "source": [
    "df_male.head()"
   ],
   "metadata": {
    "collapsed": false,
    "pycharm": {
     "name": "#%%\n"
    }
   }
  },
  {
   "cell_type": "code",
   "execution_count": 14,
   "outputs": [],
   "source": [
    "df_male['height_cm'] = df_male['height_cm'].multiply(2.54)"
   ],
   "metadata": {
    "collapsed": false,
    "pycharm": {
     "name": "#%%\n"
    }
   }
  },
  {
   "cell_type": "code",
   "execution_count": 15,
   "outputs": [
    {
     "data": {
      "text/plain": "   chest_cirfumference  waist_cirfumference  weight_hg  height_cm\n0                 1074                  933        815     180.34\n1                 1021                  870        726     172.72\n2                 1120                  964        929     172.72\n3                 1114                  857        794     167.64\n4                 1048                  868        946     195.58",
      "text/html": "<div>\n<style scoped>\n    .dataframe tbody tr th:only-of-type {\n        vertical-align: middle;\n    }\n\n    .dataframe tbody tr th {\n        vertical-align: top;\n    }\n\n    .dataframe thead th {\n        text-align: right;\n    }\n</style>\n<table border=\"1\" class=\"dataframe\">\n  <thead>\n    <tr style=\"text-align: right;\">\n      <th></th>\n      <th>chest_cirfumference</th>\n      <th>waist_cirfumference</th>\n      <th>weight_hg</th>\n      <th>height_cm</th>\n    </tr>\n  </thead>\n  <tbody>\n    <tr>\n      <th>0</th>\n      <td>1074</td>\n      <td>933</td>\n      <td>815</td>\n      <td>180.34</td>\n    </tr>\n    <tr>\n      <th>1</th>\n      <td>1021</td>\n      <td>870</td>\n      <td>726</td>\n      <td>172.72</td>\n    </tr>\n    <tr>\n      <th>2</th>\n      <td>1120</td>\n      <td>964</td>\n      <td>929</td>\n      <td>172.72</td>\n    </tr>\n    <tr>\n      <th>3</th>\n      <td>1114</td>\n      <td>857</td>\n      <td>794</td>\n      <td>167.64</td>\n    </tr>\n    <tr>\n      <th>4</th>\n      <td>1048</td>\n      <td>868</td>\n      <td>946</td>\n      <td>195.58</td>\n    </tr>\n  </tbody>\n</table>\n</div>"
     },
     "execution_count": 15,
     "metadata": {},
     "output_type": "execute_result"
    }
   ],
   "source": [
    "df_male.head()"
   ],
   "metadata": {
    "collapsed": false,
    "pycharm": {
     "name": "#%%\n"
    }
   }
  },
  {
   "cell_type": "code",
   "execution_count": 17,
   "outputs": [],
   "source": [
    "df_male.to_csv('df_male_final.csv')"
   ],
   "metadata": {
    "collapsed": false,
    "pycharm": {
     "name": "#%%\n"
    }
   }
  },
  {
   "cell_type": "code",
   "execution_count": null,
   "outputs": [],
   "source": [],
   "metadata": {
    "collapsed": false,
    "pycharm": {
     "name": "#%%\n"
    }
   }
  }
 ],
 "metadata": {
  "kernelspec": {
   "display_name": "Python 3",
   "language": "python",
   "name": "python3"
  },
  "language_info": {
   "codemirror_mode": {
    "name": "ipython",
    "version": 2
   },
   "file_extension": ".py",
   "mimetype": "text/x-python",
   "name": "python",
   "nbconvert_exporter": "python",
   "pygments_lexer": "ipython2",
   "version": "2.7.6"
  }
 },
 "nbformat": 4,
 "nbformat_minor": 0
}