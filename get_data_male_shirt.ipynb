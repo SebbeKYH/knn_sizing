{
 "cells": [
  {
   "cell_type": "code",
   "execution_count": 70,
   "outputs": [],
   "source": [
    "df_male = pd.read_csv('male.csv')"
   ],
   "metadata": {
    "collapsed": false,
    "pycharm": {
     "name": "#%%\n"
    }
   }
  },
  {
   "cell_type": "code",
   "execution_count": 71,
   "outputs": [
    {
     "data": {
      "text/plain": "   subjectid  abdominalextensiondepthsitting  acromialheight  \\\n0      10027                             266            1467   \n1      10032                             233            1395   \n2      10033                             287            1430   \n3      10092                             234            1347   \n4      10093                             250            1585   \n\n   acromionradialelength  anklecircumference  axillaheight  \\\n0                    337                 222          1347   \n1                    326                 220          1293   \n2                    341                 230          1327   \n3                    310                 230          1239   \n4                    372                 247          1478   \n\n   balloffootcircumference  balloffootlength  biacromialbreadth  \\\n0                      253               202                401   \n1                      245               193                394   \n2                      256               196                427   \n3                      262               199                401   \n4                      267               224                435   \n\n   bicepscircumferenceflexed  ...                  Branch  PrimaryMOS  \\\n0                        369  ...             Combat Arms         19D   \n1                        338  ...          Combat Support         68W   \n2                        408  ...          Combat Support         68W   \n3                        359  ...  Combat Service Support         88M   \n4                        356  ...  Combat Service Support         92G   \n\n   SubjectsBirthLocation  SubjectNumericRace  Ethnicity  DODRace  Age  \\\n0           North Dakota                   1        NaN        1   41   \n1               New York                   1        NaN        1   35   \n2               New York                   2        NaN        2   42   \n3              Wisconsin                   1        NaN        1   31   \n4         North Carolina                   2        NaN        2   21   \n\n   Heightin  Weightlbs  WritingPreference  \n0        71        180         Right hand  \n1        68        160          Left hand  \n2        68        205          Left hand  \n3        66        175         Right hand  \n4        77        213         Right hand  \n\n[5 rows x 108 columns]",
      "text/html": "<div>\n<style scoped>\n    .dataframe tbody tr th:only-of-type {\n        vertical-align: middle;\n    }\n\n    .dataframe tbody tr th {\n        vertical-align: top;\n    }\n\n    .dataframe thead th {\n        text-align: right;\n    }\n</style>\n<table border=\"1\" class=\"dataframe\">\n  <thead>\n    <tr style=\"text-align: right;\">\n      <th></th>\n      <th>subjectid</th>\n      <th>abdominalextensiondepthsitting</th>\n      <th>acromialheight</th>\n      <th>acromionradialelength</th>\n      <th>anklecircumference</th>\n      <th>axillaheight</th>\n      <th>balloffootcircumference</th>\n      <th>balloffootlength</th>\n      <th>biacromialbreadth</th>\n      <th>bicepscircumferenceflexed</th>\n      <th>...</th>\n      <th>Branch</th>\n      <th>PrimaryMOS</th>\n      <th>SubjectsBirthLocation</th>\n      <th>SubjectNumericRace</th>\n      <th>Ethnicity</th>\n      <th>DODRace</th>\n      <th>Age</th>\n      <th>Heightin</th>\n      <th>Weightlbs</th>\n      <th>WritingPreference</th>\n    </tr>\n  </thead>\n  <tbody>\n    <tr>\n      <th>0</th>\n      <td>10027</td>\n      <td>266</td>\n      <td>1467</td>\n      <td>337</td>\n      <td>222</td>\n      <td>1347</td>\n      <td>253</td>\n      <td>202</td>\n      <td>401</td>\n      <td>369</td>\n      <td>...</td>\n      <td>Combat Arms</td>\n      <td>19D</td>\n      <td>North Dakota</td>\n      <td>1</td>\n      <td>NaN</td>\n      <td>1</td>\n      <td>41</td>\n      <td>71</td>\n      <td>180</td>\n      <td>Right hand</td>\n    </tr>\n    <tr>\n      <th>1</th>\n      <td>10032</td>\n      <td>233</td>\n      <td>1395</td>\n      <td>326</td>\n      <td>220</td>\n      <td>1293</td>\n      <td>245</td>\n      <td>193</td>\n      <td>394</td>\n      <td>338</td>\n      <td>...</td>\n      <td>Combat Support</td>\n      <td>68W</td>\n      <td>New York</td>\n      <td>1</td>\n      <td>NaN</td>\n      <td>1</td>\n      <td>35</td>\n      <td>68</td>\n      <td>160</td>\n      <td>Left hand</td>\n    </tr>\n    <tr>\n      <th>2</th>\n      <td>10033</td>\n      <td>287</td>\n      <td>1430</td>\n      <td>341</td>\n      <td>230</td>\n      <td>1327</td>\n      <td>256</td>\n      <td>196</td>\n      <td>427</td>\n      <td>408</td>\n      <td>...</td>\n      <td>Combat Support</td>\n      <td>68W</td>\n      <td>New York</td>\n      <td>2</td>\n      <td>NaN</td>\n      <td>2</td>\n      <td>42</td>\n      <td>68</td>\n      <td>205</td>\n      <td>Left hand</td>\n    </tr>\n    <tr>\n      <th>3</th>\n      <td>10092</td>\n      <td>234</td>\n      <td>1347</td>\n      <td>310</td>\n      <td>230</td>\n      <td>1239</td>\n      <td>262</td>\n      <td>199</td>\n      <td>401</td>\n      <td>359</td>\n      <td>...</td>\n      <td>Combat Service Support</td>\n      <td>88M</td>\n      <td>Wisconsin</td>\n      <td>1</td>\n      <td>NaN</td>\n      <td>1</td>\n      <td>31</td>\n      <td>66</td>\n      <td>175</td>\n      <td>Right hand</td>\n    </tr>\n    <tr>\n      <th>4</th>\n      <td>10093</td>\n      <td>250</td>\n      <td>1585</td>\n      <td>372</td>\n      <td>247</td>\n      <td>1478</td>\n      <td>267</td>\n      <td>224</td>\n      <td>435</td>\n      <td>356</td>\n      <td>...</td>\n      <td>Combat Service Support</td>\n      <td>92G</td>\n      <td>North Carolina</td>\n      <td>2</td>\n      <td>NaN</td>\n      <td>2</td>\n      <td>21</td>\n      <td>77</td>\n      <td>213</td>\n      <td>Right hand</td>\n    </tr>\n  </tbody>\n</table>\n<p>5 rows × 108 columns</p>\n</div>"
     },
     "execution_count": 71,
     "metadata": {},
     "output_type": "execute_result"
    }
   ],
   "source": [
    "df_male.head()"
   ],
   "metadata": {
    "collapsed": false,
    "pycharm": {
     "name": "#%%\n"
    }
   }
  },
  {
   "cell_type": "code",
   "execution_count": 72,
   "outputs": [],
   "source": [
    "df_male = pd.read_csv('male.csv', usecols=['chestcircumference', 'waistcircumference', 'Heightin', 'weightkg'])"
   ],
   "metadata": {
    "collapsed": false,
    "pycharm": {
     "name": "#%%\n"
    }
   }
  },
  {
   "cell_type": "code",
   "execution_count": 80,
   "outputs": [
    {
     "data": {
      "text/plain": "   chest_circumference  waist_circumference  weight_hg  height_cm Size\n0                 1074                  933        815     180.34     \n1                 1021                  870        726     172.72     \n2                 1120                  964        929     172.72     \n3                 1114                  857        794     167.64     \n4                 1048                  868        946     195.58     ",
      "text/html": "<div>\n<style scoped>\n    .dataframe tbody tr th:only-of-type {\n        vertical-align: middle;\n    }\n\n    .dataframe tbody tr th {\n        vertical-align: top;\n    }\n\n    .dataframe thead th {\n        text-align: right;\n    }\n</style>\n<table border=\"1\" class=\"dataframe\">\n  <thead>\n    <tr style=\"text-align: right;\">\n      <th></th>\n      <th>chest_circumference</th>\n      <th>waist_circumference</th>\n      <th>weight_hg</th>\n      <th>height_cm</th>\n      <th>Size</th>\n    </tr>\n  </thead>\n  <tbody>\n    <tr>\n      <th>0</th>\n      <td>1074</td>\n      <td>933</td>\n      <td>815</td>\n      <td>180.34</td>\n      <td></td>\n    </tr>\n    <tr>\n      <th>1</th>\n      <td>1021</td>\n      <td>870</td>\n      <td>726</td>\n      <td>172.72</td>\n      <td></td>\n    </tr>\n    <tr>\n      <th>2</th>\n      <td>1120</td>\n      <td>964</td>\n      <td>929</td>\n      <td>172.72</td>\n      <td></td>\n    </tr>\n    <tr>\n      <th>3</th>\n      <td>1114</td>\n      <td>857</td>\n      <td>794</td>\n      <td>167.64</td>\n      <td></td>\n    </tr>\n    <tr>\n      <th>4</th>\n      <td>1048</td>\n      <td>868</td>\n      <td>946</td>\n      <td>195.58</td>\n      <td></td>\n    </tr>\n  </tbody>\n</table>\n</div>"
     },
     "execution_count": 80,
     "metadata": {},
     "output_type": "execute_result"
    }
   ],
   "source": [
    "df_male.head()"
   ],
   "metadata": {
    "collapsed": false,
    "pycharm": {
     "name": "#%%\n"
    }
   }
  },
  {
   "cell_type": "code",
   "execution_count": 74,
   "outputs": [],
   "source": [
    "df_male['Heightin'] = df_male['Heightin'].multiply(2.54)"
   ],
   "metadata": {
    "collapsed": false,
    "pycharm": {
     "name": "#%%\n"
    }
   }
  },
  {
   "cell_type": "code",
   "execution_count": 76,
   "outputs": [],
   "source": [
    "df_male = df_male.rename(columns={'chestcircumference':'chest_circumference', 'waistcircumference':'waist_circumference', 'Heightin': 'height_cm', 'weightkg':'weight_hg'})"
   ],
   "metadata": {
    "collapsed": false,
    "pycharm": {
     "name": "#%%\n"
    }
   }
  },
  {
   "cell_type": "code",
   "execution_count": 79,
   "outputs": [],
   "source": [
    "df_male.insert(column='Size', loc=4, value='')"
   ],
   "metadata": {
    "collapsed": false,
    "pycharm": {
     "name": "#%%\n"
    }
   }
  },
  {
   "cell_type": "code",
   "execution_count": 84,
   "outputs": [
    {
     "data": {
      "text/plain": "   chest_circumference  waist_circumference  weight_hg  height_cm Size\n0                 1074                  933        815     180.34     \n1                 1021                  870        726     172.72     \n2                 1120                  964        929     172.72     \n3                 1114                  857        794     167.64     \n4                 1048                  868        946     195.58     ",
      "text/html": "<div>\n<style scoped>\n    .dataframe tbody tr th:only-of-type {\n        vertical-align: middle;\n    }\n\n    .dataframe tbody tr th {\n        vertical-align: top;\n    }\n\n    .dataframe thead th {\n        text-align: right;\n    }\n</style>\n<table border=\"1\" class=\"dataframe\">\n  <thead>\n    <tr style=\"text-align: right;\">\n      <th></th>\n      <th>chest_circumference</th>\n      <th>waist_circumference</th>\n      <th>weight_hg</th>\n      <th>height_cm</th>\n      <th>Size</th>\n    </tr>\n  </thead>\n  <tbody>\n    <tr>\n      <th>0</th>\n      <td>1074</td>\n      <td>933</td>\n      <td>815</td>\n      <td>180.34</td>\n      <td></td>\n    </tr>\n    <tr>\n      <th>1</th>\n      <td>1021</td>\n      <td>870</td>\n      <td>726</td>\n      <td>172.72</td>\n      <td></td>\n    </tr>\n    <tr>\n      <th>2</th>\n      <td>1120</td>\n      <td>964</td>\n      <td>929</td>\n      <td>172.72</td>\n      <td></td>\n    </tr>\n    <tr>\n      <th>3</th>\n      <td>1114</td>\n      <td>857</td>\n      <td>794</td>\n      <td>167.64</td>\n      <td></td>\n    </tr>\n    <tr>\n      <th>4</th>\n      <td>1048</td>\n      <td>868</td>\n      <td>946</td>\n      <td>195.58</td>\n      <td></td>\n    </tr>\n  </tbody>\n</table>\n</div>"
     },
     "execution_count": 84,
     "metadata": {},
     "output_type": "execute_result"
    }
   ],
   "source": [
    "df_male.head()"
   ],
   "metadata": {
    "collapsed": false,
    "pycharm": {
     "name": "#%%\n"
    }
   }
  },
  {
   "cell_type": "code",
   "execution_count": 85,
   "outputs": [],
   "source": [
    "df_male.to_csv('df_male_done.csv')"
   ],
   "metadata": {
    "collapsed": false,
    "pycharm": {
     "name": "#%%\n"
    }
   }
  },
  {
   "cell_type": "code",
   "execution_count": 86,
   "outputs": [],
   "source": [
    "df_male = pd.read_csv('df_male_done.csv')"
   ],
   "metadata": {
    "collapsed": false,
    "pycharm": {
     "name": "#%%\n"
    }
   }
  },
  {
   "cell_type": "code",
   "execution_count": 87,
   "outputs": [
    {
     "data": {
      "text/plain": "      Unnamed: 0  chest_circumference  waist_circumference  weight_hg  \\\n0              0                 1074                  933        815   \n1              1                 1021                  870        726   \n2              2                 1120                  964        929   \n3              3                 1114                  857        794   \n4              4                 1048                  868        946   \n...          ...                  ...                  ...        ...   \n4077        4077                  954                  816        675   \n4078        4078                 1072                  978        896   \n4079        4079                 1045                  991        832   \n4080        4080                  984                  783        731   \n4081        4081                 1144                 1080        985   \n\n      height_cm  \n0        180.34  \n1        172.72  \n2        172.72  \n3        167.64  \n4        195.58  \n...         ...  \n4077     170.18  \n4078     180.34  \n4079     170.18  \n4080     175.26  \n4081     185.42  \n\n[4082 rows x 5 columns]",
      "text/html": "<div>\n<style scoped>\n    .dataframe tbody tr th:only-of-type {\n        vertical-align: middle;\n    }\n\n    .dataframe tbody tr th {\n        vertical-align: top;\n    }\n\n    .dataframe thead th {\n        text-align: right;\n    }\n</style>\n<table border=\"1\" class=\"dataframe\">\n  <thead>\n    <tr style=\"text-align: right;\">\n      <th></th>\n      <th>Unnamed: 0</th>\n      <th>chest_circumference</th>\n      <th>waist_circumference</th>\n      <th>weight_hg</th>\n      <th>height_cm</th>\n    </tr>\n  </thead>\n  <tbody>\n    <tr>\n      <th>0</th>\n      <td>0</td>\n      <td>1074</td>\n      <td>933</td>\n      <td>815</td>\n      <td>180.34</td>\n    </tr>\n    <tr>\n      <th>1</th>\n      <td>1</td>\n      <td>1021</td>\n      <td>870</td>\n      <td>726</td>\n      <td>172.72</td>\n    </tr>\n    <tr>\n      <th>2</th>\n      <td>2</td>\n      <td>1120</td>\n      <td>964</td>\n      <td>929</td>\n      <td>172.72</td>\n    </tr>\n    <tr>\n      <th>3</th>\n      <td>3</td>\n      <td>1114</td>\n      <td>857</td>\n      <td>794</td>\n      <td>167.64</td>\n    </tr>\n    <tr>\n      <th>4</th>\n      <td>4</td>\n      <td>1048</td>\n      <td>868</td>\n      <td>946</td>\n      <td>195.58</td>\n    </tr>\n    <tr>\n      <th>...</th>\n      <td>...</td>\n      <td>...</td>\n      <td>...</td>\n      <td>...</td>\n      <td>...</td>\n    </tr>\n    <tr>\n      <th>4077</th>\n      <td>4077</td>\n      <td>954</td>\n      <td>816</td>\n      <td>675</td>\n      <td>170.18</td>\n    </tr>\n    <tr>\n      <th>4078</th>\n      <td>4078</td>\n      <td>1072</td>\n      <td>978</td>\n      <td>896</td>\n      <td>180.34</td>\n    </tr>\n    <tr>\n      <th>4079</th>\n      <td>4079</td>\n      <td>1045</td>\n      <td>991</td>\n      <td>832</td>\n      <td>170.18</td>\n    </tr>\n    <tr>\n      <th>4080</th>\n      <td>4080</td>\n      <td>984</td>\n      <td>783</td>\n      <td>731</td>\n      <td>175.26</td>\n    </tr>\n    <tr>\n      <th>4081</th>\n      <td>4081</td>\n      <td>1144</td>\n      <td>1080</td>\n      <td>985</td>\n      <td>185.42</td>\n    </tr>\n  </tbody>\n</table>\n<p>4082 rows × 5 columns</p>\n</div>"
     },
     "execution_count": 87,
     "metadata": {},
     "output_type": "execute_result"
    }
   ],
   "source": [
    "df_male.drop('Size', axis= )"
   ],
   "metadata": {
    "collapsed": false,
    "pycharm": {
     "name": "#%%\n"
    }
   }
  },
  {
   "cell_type": "code",
   "execution_count": 88,
   "outputs": [
    {
     "data": {
      "text/plain": "      chest_circumference  waist_circumference  weight_hg  height_cm  Size\n0                    1074                  933        815     180.34   NaN\n1                    1021                  870        726     172.72   NaN\n2                    1120                  964        929     172.72   NaN\n3                    1114                  857        794     167.64   NaN\n4                    1048                  868        946     195.58   NaN\n...                   ...                  ...        ...        ...   ...\n4077                  954                  816        675     170.18   NaN\n4078                 1072                  978        896     180.34   NaN\n4079                 1045                  991        832     170.18   NaN\n4080                  984                  783        731     175.26   NaN\n4081                 1144                 1080        985     185.42   NaN\n\n[4082 rows x 5 columns]",
      "text/html": "<div>\n<style scoped>\n    .dataframe tbody tr th:only-of-type {\n        vertical-align: middle;\n    }\n\n    .dataframe tbody tr th {\n        vertical-align: top;\n    }\n\n    .dataframe thead th {\n        text-align: right;\n    }\n</style>\n<table border=\"1\" class=\"dataframe\">\n  <thead>\n    <tr style=\"text-align: right;\">\n      <th></th>\n      <th>chest_circumference</th>\n      <th>waist_circumference</th>\n      <th>weight_hg</th>\n      <th>height_cm</th>\n      <th>Size</th>\n    </tr>\n  </thead>\n  <tbody>\n    <tr>\n      <th>0</th>\n      <td>1074</td>\n      <td>933</td>\n      <td>815</td>\n      <td>180.34</td>\n      <td>NaN</td>\n    </tr>\n    <tr>\n      <th>1</th>\n      <td>1021</td>\n      <td>870</td>\n      <td>726</td>\n      <td>172.72</td>\n      <td>NaN</td>\n    </tr>\n    <tr>\n      <th>2</th>\n      <td>1120</td>\n      <td>964</td>\n      <td>929</td>\n      <td>172.72</td>\n      <td>NaN</td>\n    </tr>\n    <tr>\n      <th>3</th>\n      <td>1114</td>\n      <td>857</td>\n      <td>794</td>\n      <td>167.64</td>\n      <td>NaN</td>\n    </tr>\n    <tr>\n      <th>4</th>\n      <td>1048</td>\n      <td>868</td>\n      <td>946</td>\n      <td>195.58</td>\n      <td>NaN</td>\n    </tr>\n    <tr>\n      <th>...</th>\n      <td>...</td>\n      <td>...</td>\n      <td>...</td>\n      <td>...</td>\n      <td>...</td>\n    </tr>\n    <tr>\n      <th>4077</th>\n      <td>954</td>\n      <td>816</td>\n      <td>675</td>\n      <td>170.18</td>\n      <td>NaN</td>\n    </tr>\n    <tr>\n      <th>4078</th>\n      <td>1072</td>\n      <td>978</td>\n      <td>896</td>\n      <td>180.34</td>\n      <td>NaN</td>\n    </tr>\n    <tr>\n      <th>4079</th>\n      <td>1045</td>\n      <td>991</td>\n      <td>832</td>\n      <td>170.18</td>\n      <td>NaN</td>\n    </tr>\n    <tr>\n      <th>4080</th>\n      <td>984</td>\n      <td>783</td>\n      <td>731</td>\n      <td>175.26</td>\n      <td>NaN</td>\n    </tr>\n    <tr>\n      <th>4081</th>\n      <td>1144</td>\n      <td>1080</td>\n      <td>985</td>\n      <td>185.42</td>\n      <td>NaN</td>\n    </tr>\n  </tbody>\n</table>\n<p>4082 rows × 5 columns</p>\n</div>"
     },
     "execution_count": 88,
     "metadata": {},
     "output_type": "execute_result"
    }
   ],
   "source": [
    "df_male.drop(columns='Unnamed: 0')"
   ],
   "metadata": {
    "collapsed": false,
    "pycharm": {
     "name": "#%%\n"
    }
   }
  },
  {
   "cell_type": "code",
   "execution_count": 90,
   "outputs": [
    {
     "data": {
      "text/plain": "   Unnamed: 0  chest_circumference  waist_circumference  weight_hg  height_cm  \\\n0           0                 1074                  933        815     180.34   \n1           1                 1021                  870        726     172.72   \n2           2                 1120                  964        929     172.72   \n3           3                 1114                  857        794     167.64   \n4           4                 1048                  868        946     195.58   \n\n   Size  \n0   NaN  \n1   NaN  \n2   NaN  \n3   NaN  \n4   NaN  ",
      "text/html": "<div>\n<style scoped>\n    .dataframe tbody tr th:only-of-type {\n        vertical-align: middle;\n    }\n\n    .dataframe tbody tr th {\n        vertical-align: top;\n    }\n\n    .dataframe thead th {\n        text-align: right;\n    }\n</style>\n<table border=\"1\" class=\"dataframe\">\n  <thead>\n    <tr style=\"text-align: right;\">\n      <th></th>\n      <th>Unnamed: 0</th>\n      <th>chest_circumference</th>\n      <th>waist_circumference</th>\n      <th>weight_hg</th>\n      <th>height_cm</th>\n      <th>Size</th>\n    </tr>\n  </thead>\n  <tbody>\n    <tr>\n      <th>0</th>\n      <td>0</td>\n      <td>1074</td>\n      <td>933</td>\n      <td>815</td>\n      <td>180.34</td>\n      <td>NaN</td>\n    </tr>\n    <tr>\n      <th>1</th>\n      <td>1</td>\n      <td>1021</td>\n      <td>870</td>\n      <td>726</td>\n      <td>172.72</td>\n      <td>NaN</td>\n    </tr>\n    <tr>\n      <th>2</th>\n      <td>2</td>\n      <td>1120</td>\n      <td>964</td>\n      <td>929</td>\n      <td>172.72</td>\n      <td>NaN</td>\n    </tr>\n    <tr>\n      <th>3</th>\n      <td>3</td>\n      <td>1114</td>\n      <td>857</td>\n      <td>794</td>\n      <td>167.64</td>\n      <td>NaN</td>\n    </tr>\n    <tr>\n      <th>4</th>\n      <td>4</td>\n      <td>1048</td>\n      <td>868</td>\n      <td>946</td>\n      <td>195.58</td>\n      <td>NaN</td>\n    </tr>\n  </tbody>\n</table>\n</div>"
     },
     "execution_count": 90,
     "metadata": {},
     "output_type": "execute_result"
    }
   ],
   "source": [
    "df_male.head()"
   ],
   "metadata": {
    "collapsed": false,
    "pycharm": {
     "name": "#%%\n"
    }
   }
  },
  {
   "cell_type": "code",
   "execution_count": null,
   "outputs": [],
   "source": [],
   "metadata": {
    "collapsed": false,
    "pycharm": {
     "name": "#%%\n"
    }
   }
  }
 ],
 "metadata": {
  "kernelspec": {
   "display_name": "Python 3",
   "language": "python",
   "name": "python3"
  },
  "language_info": {
   "codemirror_mode": {
    "name": "ipython",
    "version": 2
   },
   "file_extension": ".py",
   "mimetype": "text/x-python",
   "name": "python",
   "nbconvert_exporter": "python",
   "pygments_lexer": "ipython2",
   "version": "2.7.6"
  },
  "pycharm": {
   "stem_cell": {
    "cell_type": "raw",
    "source": [
     "import pandas as pd"
    ],
    "metadata": {
     "collapsed": false
    }
   }
  }
 },
 "nbformat": 4,
 "nbformat_minor": 0
}